{
 "cells": [
  {
   "cell_type": "markdown",
   "metadata": {},
   "source": [
    "## Setup"
   ]
  },
  {
   "cell_type": "code",
   "execution_count": 1,
   "metadata": {
    "collapsed": true
   },
   "outputs": [],
   "source": [
    "import torch\n",
    "import torch.nn as nn\n",
    "import torch.optim as optim\n",
    "from torch.autograd import Variable"
   ]
  },
  {
   "cell_type": "code",
   "execution_count": 2,
   "metadata": {
    "collapsed": true
   },
   "outputs": [],
   "source": [
    "import copy\n",
    "from datetime import datetime\n",
    "from FireSimulator import *\n",
    "from FireSimulatorUtilities import *\n",
    "import glob\n",
    "import itertools\n",
    "import matplotlib.patches as patches\n",
    "import matplotlib.pyplot as plt\n",
    "import numpy as np\n",
    "import os\n",
    "import pickle\n",
    "import sys\n",
    "import time\n",
    "import timeit\n",
    "\n",
    "%matplotlib inline\n",
    "plt.rcParams['figure.figsize'] = (10.0, 8.0)\n",
    "plt.rcParams['image.interpolation'] = 'nearest'\n",
    "plt.rcParams['image.cmap'] = 'gray'\n",
    "\n",
    "%load_ext autoreload\n",
    "%autoreload 2"
   ]
  },
  {
   "cell_type": "markdown",
   "metadata": {},
   "source": [
    "## Utility functions"
   ]
  },
  {
   "cell_type": "code",
   "execution_count": 3,
   "metadata": {
    "collapsed": true
   },
   "outputs": [],
   "source": [
    "class Flatten(nn.Module):\n",
    "    def forward(self, x):\n",
    "        N, C, H, W = x.size() \n",
    "        return x.view(N, -1)"
   ]
  },
  {
   "cell_type": "code",
   "execution_count": null,
   "metadata": {
    "collapsed": true
   },
   "outputs": [],
   "source": []
  },
  {
   "cell_type": "markdown",
   "metadata": {},
   "source": [
    "## Reward function"
   ]
  },
  {
   "cell_type": "code",
   "execution_count": 4,
   "metadata": {
    "collapsed": true
   },
   "outputs": [],
   "source": [
    "def eelfff_reward(traj, img_st, center, close_pos, id_compare):\n",
    "    reward = 0\n",
    "    fire_neigh = [(-1,0),(0,-1),(1,0),(0,1)]\n",
    "    move_neigh = [(-1,0),(1,0),(-1,1),(0,1),(1,1),(-1,-1),(0,-1),(1,-1)] #excluded (0,0)\n",
    "    img_dim = img_st.shape[0]\n",
    "    \n",
    "    x1,y1 = traj[0]\n",
    "    x2,y2 = traj[1]\n",
    "    \n",
    "    r = -y2 + y1 + img_dim//2\n",
    "    c =  x2 - x1 + img_dim//2\n",
    "    \n",
    "    if img_st[r,c] in [1]:\n",
    "        counter = 0\n",
    "        for (dr,dc) in fire_neigh:\n",
    "            rn = r + dr\n",
    "            cn = c + dc\n",
    "            if img_st[rn,cn]==0:\n",
    "                counter += 1\n",
    "\n",
    "        if counter > 0:\n",
    "            reward += 1\n",
    "        else:\n",
    "            reward += -2\n",
    "            \n",
    "    elif img_st[r,c] in [0]:\n",
    "        counter = 0\n",
    "        for (dr,dc) in move_neigh:\n",
    "            rn = r + dr\n",
    "            cn = c + dc\n",
    "            if img_st[rn,cn] in [1,2]:\n",
    "                counter += 1\n",
    "            \n",
    "        if counter > 0:\n",
    "            reward += 0.5\n",
    "        else:\n",
    "            reward += -1\n",
    "            \n",
    "    #if np.linalg.norm(cir_pos-close_pos,2)<=1 and agent_id > close_agent_id:\n",
    "    if id_compare and np.linalg.norm(traj[1]-close_pos,2)<=1: \n",
    "        reward += -10\n",
    "    elif id_compare and np.linalg.norm(traj[0]-close_pos,2)<=1 and np.linalg.norm(traj[1]-close_pos,2)>1:\n",
    "        reward += 1\n",
    "            \n",
    "    move_vec = np.array([x2-x1,y2-y1])\n",
    "    if (x2-x1) != 0 and (y2-y1) != 0:\n",
    "        move_vec = move_vec / np.linalg.norm(move_vec,2)\n",
    "       \n",
    "    cen_vec = np.array([x1-center,y1-center])\n",
    "    cen_vec = cen_vec / np.linalg.norm(cen_vec,2)\n",
    "    score = -1*np.cross(cen_vec,move_vec)\n",
    "    \n",
    "    #reward += np.max([score,0])/score + 2*np.min([score,0])\n",
    "    if score >= 0:\n",
    "        reward += 1\n",
    "    #else:\n",
    "    #    reward += -2\n",
    "\n",
    "    return reward"
   ]
  },
  {
   "cell_type": "code",
   "execution_count": null,
   "metadata": {
    "collapsed": true
   },
   "outputs": [],
   "source": []
  },
  {
   "cell_type": "code",
   "execution_count": null,
   "metadata": {
    "collapsed": true
   },
   "outputs": [],
   "source": []
  },
  {
   "cell_type": "markdown",
   "metadata": {},
   "source": [
    "## Heuristic solution\n",
    "hand-tuned function to generate actions for agents"
   ]
  },
  {
   "cell_type": "code",
   "execution_count": 5,
   "metadata": {
    "collapsed": true
   },
   "outputs": [],
   "source": [
    "def heuristic(agent_id, pos, img_st, seen_fire, center, close_agent_id, close_pos):\n",
    "\n",
    "    traj = []\n",
    "    actions = []\n",
    "    traj.append((pos[0],pos[1]))\n",
    "    img_dim = img_st.shape[0]\n",
    "    fire_neigh = [(-1,0),(0,-1),(1,0),(0,1)]\n",
    "    move_neigh = [(-1,0),(1,0),(-1,1),(0,1),(1,1),(-1,-1),(0,-1),(1,-1)] #excluded (0,0)\n",
    "    action_set = [4,1,2,3,5,8,7,6]\n",
    "    \n",
    "    dists = None\n",
    "    x,y = pos\n",
    "\n",
    "    r = img_dim//2\n",
    "    c = img_dim//2\n",
    "\n",
    "    if img_st[r,c] in [1,2] or seen_fire:\n",
    "        seen_fire = True\n",
    "        dists = []\n",
    "        \n",
    "        cen_vec = np.array([x-center,y-center])\n",
    "        cen_vec = cen_vec/np.linalg.norm(cen_vec)\n",
    "        for a in range(1,9):\n",
    "        #for a in [2,5,7,4]:\n",
    "            new_pos = actions_to_trajectory(traj[-1],[a])[1]\n",
    "\n",
    "            rl = -new_pos[1] + y + img_dim//2\n",
    "            cl = new_pos[0] -x + img_dim//2\n",
    "            #if a in [1,3,8,6] and img_st[rl,cl] in [0]:\n",
    "            #    continue\n",
    "\n",
    "            move_vec = np.array([new_pos[0]-x,new_pos[1]-y])\n",
    "            if a != 0:\n",
    "                move_vec = move_vec/np.linalg.norm(move_vec)\n",
    "            dists.append((np.cross(cen_vec,move_vec),new_pos,a))\n",
    "\n",
    "        cir_pos = min(dists)[1]\n",
    "        cir_act = min(dists)[2]\n",
    "\n",
    "        ri = -cir_pos[1] + y + img_dim//2\n",
    "        ci = cir_pos[0] -x + img_dim//2\n",
    "\n",
    "        left_act = None\n",
    "        if cir_act==1:\n",
    "            left_act = [6,4]\n",
    "            #left_act = [4]\n",
    "            righ_act = [2]\n",
    "        elif cir_act==2:\n",
    "            left_act = [4,1]\n",
    "            #left_act = [1]\n",
    "            righ_act = [3]\n",
    "        elif cir_act==3:\n",
    "            left_act = [1,2]\n",
    "            #left_act = [2]\n",
    "            righ_act = [5]\n",
    "        elif cir_act==5:\n",
    "            left_act = [2,3]\n",
    "            #left_act = [3]\n",
    "            righ_act = [8]\n",
    "        elif cir_act==8:\n",
    "            left_act = [3,5]\n",
    "            #left_act = [5]\n",
    "            righ_act = [7]\n",
    "        elif cir_act==7:\n",
    "            left_act = [5,8]\n",
    "            #left_act = [8]\n",
    "            righ_act = [6]\n",
    "        elif cir_act==6:\n",
    "            left_act = [8,7]\n",
    "            #left_act = [7]\n",
    "            righ_act = [4]\n",
    "        elif cir_act==4:\n",
    "            left_act = [7,6]\n",
    "            #left_act = [6]\n",
    "            righ_act = [1]\n",
    "\n",
    "        out = False\n",
    "        for a in left_act:\n",
    "            new_pos = actions_to_trajectory(traj[-1],[a])[1]\n",
    "            ro = -new_pos[1] + y + img_dim//2\n",
    "            co = new_pos[0] - x + img_dim//2\n",
    "            if img_st[ro,co] in [1]:\n",
    "                cir_pos = new_pos\n",
    "                cir_act = a\n",
    "                out = True\n",
    "                break\n",
    "\n",
    "        if not out:\n",
    "            for a in left_act:\n",
    "                new_pos = actions_to_trajectory(traj[-1],[a])[1]\n",
    "                ro = -new_pos[1] + y + img_dim//2\n",
    "                co = new_pos[0] - x + img_dim//2\n",
    "                if img_st[ro,co] in [2]:\n",
    "                    cir_pos = new_pos\n",
    "                    cir_act = a\n",
    "                    out = True\n",
    "                    break\n",
    "\n",
    "        counter = 0\n",
    "        for (dr,dc) in move_neigh:\n",
    "            rn = ri + dr\n",
    "            cn = ci + dc\n",
    "            if rn>=0 and rn<img_dim and cn>=0 and cn<img_dim and img_st[rn,cn] in [0]:\n",
    "                counter += 1\n",
    "\n",
    "        if not out and img_st[ri,ci] in [0] and counter>=6:\n",
    "            for a in righ_act:\n",
    "                new_pos = actions_to_trajectory(traj[-1],[a])[1]\n",
    "                cir_pos = new_pos\n",
    "                cir_act = a\n",
    "\n",
    "        if np.linalg.norm(cir_pos-close_pos,2)<=1 and agent_id > close_agent_id:\n",
    "            cir_pos = traj[-1]\n",
    "            cir_act = 0\n",
    "\n",
    "        traj.append(cir_pos)\n",
    "        actions.append(cir_act)      \n",
    "\n",
    "    if not seen_fire:\n",
    "        dists = []\n",
    "        #for a in range(9):\n",
    "        for idx,a in enumerate([2,5,7,4,1,3,8,6]):\n",
    "            new_pos = actions_to_trajectory(traj[-1],[a])[1]\n",
    "            incntv = -(8-idx)*0.1\n",
    "            dists.append((np.abs(center-new_pos[0])+np.abs(center-new_pos[1])+incntv,new_pos,a))\n",
    "\n",
    "        #print(dists)\n",
    "        #print()\n",
    "        score, pos, act = min(dists)\n",
    "        traj.append(pos)\n",
    "        actions.append(act)\n",
    "        \n",
    "    return traj, actions, seen_fire"
   ]
  },
  {
   "cell_type": "code",
   "execution_count": null,
   "metadata": {
    "collapsed": true
   },
   "outputs": [],
   "source": []
  },
  {
   "cell_type": "markdown",
   "metadata": {},
   "source": [
    "## DQN architecture"
   ]
  },
  {
   "cell_type": "code",
   "execution_count": 6,
   "metadata": {},
   "outputs": [
    {
     "data": {
      "text/plain": [
       "True"
      ]
     },
     "execution_count": 6,
     "metadata": {},
     "output_type": "execute_result"
    }
   ],
   "source": [
    "torch.cuda.is_available()"
   ]
  },
  {
   "cell_type": "code",
   "execution_count": 7,
   "metadata": {
    "collapsed": true
   },
   "outputs": [],
   "source": [
    "dtype = torch.cuda.FloatTensor"
   ]
  },
  {
   "cell_type": "code",
   "execution_count": 8,
   "metadata": {
    "collapsed": true
   },
   "outputs": [],
   "source": [
    "class eelfff(nn.Module):\n",
    "    \n",
    "    def __init__(self, img_dim=8):\n",
    "        super(eelfff, self).__init__()\n",
    "        self.img_dim = img_dim\n",
    "        \n",
    "        # inputs: image + rot vec + id compare + pos-other_pos\n",
    "        self.net = nn.Sequential(\n",
    "                                nn.Linear(self.img_dim**2 + 2 + 1 + 2, 2048),\n",
    "                                nn.ReLU(inplace=True),\n",
    "                                nn.Linear(2048, 2048),\n",
    "                                nn.ReLU(inplace=True),\n",
    "                                nn.Linear(2048, 9)\n",
    "                            )\n",
    "\n",
    "    def forward(self, feat):\n",
    "        return self.net(feat)\n"
   ]
  },
  {
   "cell_type": "markdown",
   "metadata": {},
   "source": [
    "test network with random data"
   ]
  },
  {
   "cell_type": "code",
   "execution_count": 9,
   "metadata": {},
   "outputs": [
    {
     "name": "stdout",
     "output_type": "stream",
     "text": [
      "torch.Size([4, 9])\n",
      "341.04s = 5.68m elapsed for this test\n"
     ]
    }
   ],
   "source": [
    "tic = time.clock()\n",
    "N = 4\n",
    "img_dim = 3\n",
    "\n",
    "model = eelfff(img_dim).type(dtype)\n",
    "feat = Variable(torch.randn(N,img_dim**2+2+1+2)).type(dtype)\n",
    "Q = model(feat)\n",
    "toc = time.clock()\n",
    "\n",
    "print(Q.size())\n",
    "print(\"%0.2fs = %0.2fm elapsed for this test\" %(toc-tic,(toc-tic)/60))"
   ]
  },
  {
   "cell_type": "code",
   "execution_count": null,
   "metadata": {
    "collapsed": true
   },
   "outputs": [],
   "source": []
  },
  {
   "cell_type": "markdown",
   "metadata": {},
   "source": [
    "## train the network"
   ]
  },
  {
   "cell_type": "code",
   "execution_count": 11,
   "metadata": {
    "collapsed": true
   },
   "outputs": [],
   "source": [
    "# simulator parameters\n",
    "grid_size = 50\n",
    "dp = 0.15/0.2763\n",
    "repeat_ctr = 1\n",
    "repeat_lim = 6\n",
    "img_dim = 3\n",
    "center = (grid_size+1)/2\n",
    "\n",
    "# agent initialization parameters\n",
    "spawn_loc = np.arange(grid_size//3//2,grid_size,grid_size//3)\n",
    "perturbs = np.arange(-grid_size//3//2+1,grid_size//3//2+1,1)\n",
    "\n",
    "# replay memory\n",
    "memory_size = 1000000\n",
    "min_exp_size = 5000\n",
    "sars = None\n",
    "\n",
    "# network instances\n",
    "model = eelfff(img_dim=img_dim).type(dtype)\n",
    "target = eelfff(img_dim=img_dim).type(dtype)\n",
    "update_max = 6000 #6000\n",
    "update_ctr = 1\n",
    "\n",
    "# optimizer\n",
    "gamma = 0.95\n",
    "batch_size = 32\n",
    "optimizer = optim.Adam(model.parameters(), lr=1e-4)\n",
    "\n",
    "# exploration\n",
    "eps_init = 1\n",
    "eps_finl = 0.15\n",
    "anneal_range = 20000 #40000\n",
    "eps = eps_init\n",
    "episode_ctr = 0\n",
    "episode_lim = 100\n",
    "\n",
    "# loss function\n",
    "loss_fn = nn.MSELoss(size_average=True)\n",
    "\n",
    "# plotting data structures\n",
    "rew_hist = []\n",
    "loss_hist = []\n",
    "\n",
    "pf1 = False\n",
    "pf2 = False\n",
    "pf3 = False"
   ]
  },
  {
   "cell_type": "code",
   "execution_count": 12,
   "metadata": {
    "collapsed": true
   },
   "outputs": [],
   "source": [
    "# optionally load a checkpoint to resume training\n",
    "filename = 'simple_ext-26-Aug-2017-15:17.pth.tar'\n",
    "\n",
    "checkpoint = torch.load(filename)\n",
    "model.load_state_dict(checkpoint['state_dict'])\n",
    "target.load_state_dict(checkpoint['target_dict'])\n",
    "optimizer.load_state_dict(checkpoint['optimizer'])\n",
    "sars = checkpoint['replay']\n",
    "eps = checkpoint['epsilon']\n",
    "rew_hist = checkpoint['plot_reward']\n",
    "loss_hist = checkpoint['plot_loss'] \n",
    "episode_ctr = len(rew_hist)"
   ]
  },
  {
   "cell_type": "code",
   "execution_count": 12,
   "metadata": {
    "collapsed": true
   },
   "outputs": [],
   "source": [
    "seeds = range(500,610)"
   ]
  },
  {
   "cell_type": "code",
   "execution_count": 13,
   "metadata": {
    "scrolled": false
   },
   "outputs": [
    {
     "name": "stdout",
     "output_type": "stream",
     "text": [
      "---DEBUG: generated enough experiences\n",
      "seed 500: 100 steps, 0.12 reward/agent/step, 0.7944 burnt\n",
      "seed 501: 100 steps, 0.12 reward/agent/step, 0.2800 burnt\n",
      "seed 502: 063 steps, 0.12 reward/agent/step, 0.0312 burnt\n",
      "seed 503: 100 steps, 0.10 reward/agent/step, 0.7076 burnt\n",
      "seed 504: 100 steps, 0.11 reward/agent/step, 0.8628 burnt\n",
      "seed 505: 051 steps, 0.11 reward/agent/step, 0.0556 burnt\n",
      "seed 506: 100 steps, 0.09 reward/agent/step, 0.5572 burnt\n",
      "seed 507: 027 steps, 0.08 reward/agent/step, 0.0180 burnt\n",
      "seed 508: 100 steps, 0.10 reward/agent/step, 0.6088 burnt\n",
      "seed 509: 094 steps, 0.10 reward/agent/step, 0.0524 burnt\n",
      "seed 510: 100 steps, 0.11 reward/agent/step, 0.7432 burnt\n",
      "seed 511: 033 steps, 0.09 reward/agent/step, 0.0192 burnt\n",
      "seed 512: 055 steps, 0.08 reward/agent/step, 0.0196 burnt\n",
      "seed 513: 047 steps, 0.09 reward/agent/step, 0.0264 burnt\n",
      "---DEBUG: updated target network (1)\n",
      "seed 514: 100 steps, 0.10 reward/agent/step, 0.5828 burnt\n",
      "seed 515: 100 steps, 0.09 reward/agent/step, 0.1744 burnt\n",
      "seed 516: 100 steps, 0.09 reward/agent/step, 0.1152 burnt\n",
      "seed 517: 037 steps, 0.09 reward/agent/step, 0.0332 burnt\n",
      "seed 518: 059 steps, 0.06 reward/agent/step, 0.0124 burnt\n",
      "seed 519: 039 steps, 0.08 reward/agent/step, 0.0260 burnt\n",
      "seed 520: 100 steps, 0.11 reward/agent/step, 0.7200 burnt\n",
      "seed 521: 051 steps, 0.10 reward/agent/step, 0.0228 burnt\n",
      "seed 522: 044 steps, 0.07 reward/agent/step, 0.0144 burnt\n",
      "seed 523: 100 steps, 0.12 reward/agent/step, 0.7684 burnt\n",
      "seed 524: 100 steps, 0.10 reward/agent/step, 0.4256 burnt\n",
      "seed 525: 060 steps, 0.10 reward/agent/step, 0.0336 burnt\n",
      "seed 526: 100 steps, 0.11 reward/agent/step, 0.4852 burnt\n",
      "seed 527: 024 steps, 0.06 reward/agent/step, 0.0104 burnt\n",
      "---DEBUG: updated target network (2)\n",
      "seed 528: 062 steps, 0.10 reward/agent/step, 0.0300 burnt\n",
      "seed 529: 057 steps, 0.07 reward/agent/step, 0.0152 burnt\n",
      "seed 530: 018 steps, 0.09 reward/agent/step, 0.0156 burnt\n",
      "seed 531: 041 steps, 0.10 reward/agent/step, 0.0272 burnt\n",
      "seed 532: 041 steps, 0.11 reward/agent/step, 0.0248 burnt\n",
      "seed 533: 100 steps, 0.11 reward/agent/step, 0.5504 burnt\n",
      "seed 534: 019 steps, 0.05 reward/agent/step, 0.0136 burnt\n",
      "seed 535: 100 steps, 0.11 reward/agent/step, 0.4704 burnt\n",
      "seed 536: 100 steps, 0.09 reward/agent/step, 0.4184 burnt\n",
      "seed 537: 100 steps, 0.10 reward/agent/step, 0.6144 burnt\n",
      "seed 538: 037 steps, 0.10 reward/agent/step, 0.0148 burnt\n",
      "seed 539: 100 steps, 0.11 reward/agent/step, 0.6144 burnt\n",
      "seed 540: 100 steps, 0.10 reward/agent/step, 0.6404 burnt\n",
      "seed 541: 100 steps, 0.11 reward/agent/step, 0.6208 burnt\n",
      "---DEBUG: updated target network (3)\n",
      "seed 542: 100 steps, 0.12 reward/agent/step, 0.6428 burnt\n",
      "seed 543: 100 steps, 0.09 reward/agent/step, 0.4340 burnt\n",
      "seed 544: 100 steps, 0.12 reward/agent/step, 0.3776 burnt\n",
      "seed 545: 046 steps, 0.11 reward/agent/step, 0.0180 burnt\n",
      "seed 546: 032 steps, 0.12 reward/agent/step, 0.0336 burnt\n",
      "seed 547: 021 steps, 0.11 reward/agent/step, 0.0160 burnt\n",
      "---DEBUG: finished annealing the exploration rate\n",
      "seed 548: 100 steps, 0.13 reward/agent/step, 0.7876 burnt\n",
      "seed 549: 040 steps, 0.11 reward/agent/step, 0.0356 burnt\n",
      "seed 550: 019 steps, 0.11 reward/agent/step, 0.0164 burnt\n",
      "seed 551: 036 steps, 0.12 reward/agent/step, 0.0208 burnt\n",
      "seed 552: 100 steps, 0.11 reward/agent/step, 0.4212 burnt\n",
      "seed 553: 032 steps, 0.12 reward/agent/step, 0.0264 burnt\n",
      "seed 554: 100 steps, 0.13 reward/agent/step, 0.9020 burnt\n",
      "seed 555: 100 steps, 0.11 reward/agent/step, 0.5760 burnt\n",
      "seed 556: 066 steps, 0.13 reward/agent/step, 0.0264 burnt\n",
      "---DEBUG: updated target network (4)\n",
      "seed 557: 100 steps, 0.13 reward/agent/step, 0.7060 burnt\n",
      "seed 558: 100 steps, 0.11 reward/agent/step, 0.5596 burnt\n",
      "seed 559: 054 steps, 0.12 reward/agent/step, 0.0340 burnt\n",
      "seed 560: 023 steps, 0.10 reward/agent/step, 0.0148 burnt\n",
      "seed 561: 100 steps, 0.13 reward/agent/step, 0.7240 burnt\n",
      "seed 562: 100 steps, 0.12 reward/agent/step, 0.6356 burnt\n",
      "seed 563: 010 steps, 0.13 reward/agent/step, 0.0148 burnt\n",
      "seed 564: 100 steps, 0.12 reward/agent/step, 0.6188 burnt\n",
      "seed 565: 100 steps, 0.12 reward/agent/step, 0.2720 burnt\n",
      "seed 566: 061 steps, 0.14 reward/agent/step, 0.0344 burnt\n",
      "seed 567: 100 steps, 0.11 reward/agent/step, 0.5392 burnt\n",
      "seed 568: 046 steps, 0.14 reward/agent/step, 0.0272 burnt\n",
      "seed 569: 029 steps, 0.13 reward/agent/step, 0.0224 burnt\n",
      "seed 570: 025 steps, 0.13 reward/agent/step, 0.0332 burnt\n",
      "seed 571: 041 steps, 0.12 reward/agent/step, 0.0124 burnt\n",
      "seed 572: 100 steps, 0.12 reward/agent/step, 0.5124 burnt\n",
      "---DEBUG: updated target network (5)\n",
      "seed 573: 100 steps, 0.12 reward/agent/step, 0.6468 burnt\n",
      "seed 574: 100 steps, 0.11 reward/agent/step, 0.2560 burnt\n",
      "seed 575: 027 steps, 0.14 reward/agent/step, 0.0192 burnt\n",
      "seed 576: 100 steps, 0.12 reward/agent/step, 0.1092 burnt\n",
      "seed 577: 011 steps, 0.13 reward/agent/step, 0.0100 burnt\n",
      "seed 578: 027 steps, 0.13 reward/agent/step, 0.0280 burnt\n",
      "seed 579: 040 steps, 0.14 reward/agent/step, 0.0276 burnt\n",
      "seed 580: 031 steps, 0.13 reward/agent/step, 0.0316 burnt\n",
      "seed 581: 037 steps, 0.14 reward/agent/step, 0.0240 burnt\n",
      "seed 582: 036 steps, 0.13 reward/agent/step, 0.0244 burnt\n",
      "seed 583: 029 steps, 0.13 reward/agent/step, 0.0088 burnt\n",
      "seed 584: 011 steps, 0.15 reward/agent/step, 0.0120 burnt\n",
      "seed 585: 100 steps, 0.13 reward/agent/step, 0.6152 burnt\n",
      "seed 586: 045 steps, 0.13 reward/agent/step, 0.0156 burnt\n",
      "seed 587: 046 steps, 0.14 reward/agent/step, 0.0420 burnt\n",
      "seed 588: 028 steps, 0.14 reward/agent/step, 0.0224 burnt\n",
      "seed 589: 100 steps, 0.12 reward/agent/step, 0.3136 burnt\n",
      "seed 590: 100 steps, 0.13 reward/agent/step, 0.8084 burnt\n",
      "seed 591: 024 steps, 0.13 reward/agent/step, 0.0180 burnt\n",
      "---DEBUG: updated target network (6)\n",
      "seed 592: 100 steps, 0.13 reward/agent/step, 0.4564 burnt\n",
      "seed 593: 042 steps, 0.14 reward/agent/step, 0.0200 burnt\n",
      "seed 594: 033 steps, 0.14 reward/agent/step, 0.0224 burnt\n",
      "seed 595: 100 steps, 0.12 reward/agent/step, 0.4296 burnt\n",
      "seed 596: 100 steps, 0.13 reward/agent/step, 0.5308 burnt\n",
      "seed 597: 100 steps, 0.13 reward/agent/step, 0.3900 burnt\n",
      "seed 598: 100 steps, 0.14 reward/agent/step, 0.0932 burnt\n",
      "seed 599: 067 steps, 0.13 reward/agent/step, 0.0228 burnt\n",
      "seed 600: 025 steps, 0.14 reward/agent/step, 0.0176 burnt\n",
      "seed 601: 039 steps, 0.14 reward/agent/step, 0.0336 burnt\n",
      "seed 602: 100 steps, 0.13 reward/agent/step, 0.4908 burnt\n",
      "seed 603: 100 steps, 0.13 reward/agent/step, 0.5844 burnt\n",
      "seed 604: 100 steps, 0.13 reward/agent/step, 0.5664 burnt\n",
      "seed 605: 038 steps, 0.14 reward/agent/step, 0.0432 burnt\n",
      "---DEBUG: updated target network (7)\n",
      "seed 606: 100 steps, 0.13 reward/agent/step, 0.6548 burnt\n",
      "seed 607: 100 steps, 0.11 reward/agent/step, 0.3716 burnt\n",
      "seed 608: 048 steps, 0.15 reward/agent/step, 0.0284 burnt\n",
      "seed 609: 100 steps, 0.13 reward/agent/step, 0.5448 burnt\n",
      "5266.96s = 87.78m elapsed\n"
     ]
    }
   ],
   "source": [
    "repeat_lim = 6\n",
    "tic = time.clock()\n",
    "# run simulator many times\n",
    "for i,s in enumerate(seeds):\n",
    "    np.random.seed(s)\n",
    "    \n",
    "    # initialize simulator\n",
    "    sim = FireSimulator(grid_size, rng=s)\n",
    "    sim.step([]) # start fire in domain\n",
    "    \n",
    "    # initialize agent position\n",
    "    n = 10\n",
    "    agent_pos = np.random.choice(spawn_loc, (n,2)) + np.random.choice(perturbs, (n,2))\n",
    "    agent_pos = np.squeeze(agent_pos).astype(np.int32)\n",
    "    agent_data = {}\n",
    "    for k in range(n):\n",
    "        agent_data[k] = {}\n",
    "        agent_data[k]['sf'] = False\n",
    "    \n",
    "    seed_rew = 0\n",
    "    control = []\n",
    "    repeat_ctr = 1\n",
    "    iter_ctr = 0\n",
    "    \n",
    "    new_agent_pos = np.zeros((n,2)).astype(np.int32)\n",
    "    \n",
    "    while not sim.end and sim.iter < 100:\n",
    "        # calculate action for each agent\n",
    "        for k in range(n):\n",
    "            img, img_st, _ = CreateImageBW(sim.state, agent_pos[k,:])\n",
    "            if img_st[8//2,8//2] in [1,2]:\n",
    "                agent_data[k]['sf'] = True                \n",
    "                \n",
    "            rot_vec = agent_pos[k,:] - center\n",
    "            rot_vec = rot_vec / np.linalg.norm(rot_vec,2)\n",
    "            rot_vec = np.array([rot_vec[1],-rot_vec[0]])\n",
    "            \n",
    "            dists = [(np.linalg.norm(agent_pos[k,:]-p,2),j,p) for j,p in enumerate(agent_pos) if j!=k]\n",
    "            min_dist, min_id, min_pos = min(dists)\n",
    "            \n",
    "            pos_vec = agent_pos[k,:] - min_pos\n",
    "            if pos_vec[0]!=0 and pos_vec[1]!= 0:\n",
    "                pos_vec = pos_vec / np.linalg.norm(pos_vec,2)\n",
    "            \n",
    "            state = np.concatenate((img[3:6,3:6].reshape((img_dim**2,)), rot_vec, \n",
    "                                    np.asarray(k>min_id)[np.newaxis], pos_vec))\n",
    "            agent_data[k]['state'] = state\n",
    "        \n",
    "            # select action by exploration/exploitation\n",
    "            traj = None\n",
    "            action = None\n",
    "            if not agent_data[k]['sf']:\n",
    "                traj, action, agent_data[k]['sf'] = heuristic(k, agent_pos[k,:], img_st, \n",
    "                                                              agent_data[k]['sf'], center, min_id, min_pos)\n",
    "                action = action[0]\n",
    "\n",
    "            else:\n",
    "                if np.random.rand() <= eps:\n",
    "                    '''\n",
    "                    if episode_ctr <= episode_lim:\n",
    "                        traj, action, agent_data[k]['sf'] = heuristic(k, agent_pos[k,:], img_st, \n",
    "                                                                      agent_data[k]['sf'], center, min_id, min_pos)\n",
    "                        action = action[0]\n",
    "                        \n",
    "                    else:\n",
    "                        if not pf3:\n",
    "                            pf3 = True\n",
    "                            print('---DEBUG: switching over to random exploration')\n",
    "                            \n",
    "                        action = np.random.choice(range(9))\n",
    "                        traj = actions_to_trajectory(agent_pos[k,:], [action])\n",
    "                    '''\n",
    "                    traj, action, agent_data[k]['sf'] = heuristic(k, agent_pos[k,:], img_st, \n",
    "                                                                  agent_data[k]['sf'], center, min_id, min_pos)\n",
    "                    action = action[0]\n",
    "                        \n",
    "                else:   \n",
    "                    state = Variable(torch.from_numpy(state)).type(dtype)\n",
    "                    Q = model(state.unsqueeze(0))[0].data.cpu().numpy()\n",
    "                    action = np.argmax(Q)\n",
    "                    traj = actions_to_trajectory(agent_pos[k,:], [action])\n",
    "                \n",
    "            reward = eelfff_reward(traj, img_st, center, min_pos, k>min_id)\n",
    "            agent_data[k]['action'] = action\n",
    "            agent_data[k]['reward'] = reward              \n",
    "                \n",
    "            # generate control from trajectory\n",
    "            control.extend(FindGridIntersections(sim.state, traj)) \n",
    "            control = list(set(control))\n",
    "        \n",
    "            # update agent location\n",
    "            new_agent_pos[k,:] = [traj[-1][0], traj[-1][1]]\n",
    "        \n",
    "        # update simulator periodically \n",
    "        if repeat_ctr % repeat_lim == 0:\n",
    "            sim.step(control, dbeta=dp)\n",
    "            control = []\n",
    "        repeat_ctr += 1\n",
    "        \n",
    "        # update agent position\n",
    "        agent_pos = new_agent_pos\n",
    "        new_agent_pos = np.zeros((n,2)).astype(np.int32)\n",
    "        \n",
    "        # don't update network when simulation terminates\n",
    "        if sim.end:\n",
    "            continue\n",
    "            \n",
    "        for k in range(n):\n",
    "            if not agent_data[k]['sf']:\n",
    "                continue\n",
    "                \n",
    "            seed_rew += agent_data[k]['reward']\n",
    "            iter_ctr += 1\n",
    "                \n",
    "            next_img, next_img_st, _ = CreateImageBW(sim.state, agent_pos[k,:])\n",
    "            if next_img_st[8//2,8//2] in [1,2]:\n",
    "                agent_data[k]['sf'] = True                \n",
    "                \n",
    "            next_rot_vec = agent_pos[k,:] - center\n",
    "            next_rot_vec = next_rot_vec / np.linalg.norm(next_rot_vec,2)\n",
    "            next_rot_vec = np.array([next_rot_vec[1],-next_rot_vec[0]])\n",
    "            \n",
    "            dists = [(np.linalg.norm(agent_pos[k,:]-p,2),j,p) for j,p in enumerate(agent_pos) if j!=k]\n",
    "            next_min_dist, next_min_id, next_min_pos = min(dists)\n",
    "            \n",
    "            next_pos_vec = agent_pos[k,:] - next_min_pos\n",
    "            if next_pos_vec[0]!=0 and next_pos_vec[1]!= 0:\n",
    "                next_pos_vec = next_pos_vec / np.linalg.norm(next_pos_vec,2)\n",
    "            \n",
    "            next_state = np.concatenate((next_img[3:6,3:6].reshape((img_dim**2,)), next_rot_vec, \n",
    "                                         np.asarray(k>next_min_id)[np.newaxis], next_pos_vec))\n",
    "            \n",
    "            if sars is None:\n",
    "                sars = np.zeros((1,30))\n",
    "                sars[-1,0:14] = agent_data[k]['state']\n",
    "                sars[-1,14] = agent_data[k]['action']\n",
    "                sars[-1,15] = agent_data[k]['reward']\n",
    "                sars[-1,16:] = next_state\n",
    "\n",
    "            else:\n",
    "                data = np.zeros((1,30))\n",
    "                data[-1,0:14] = agent_data[k]['state']\n",
    "                data[-1,14] = agent_data[k]['action']\n",
    "                data[-1,15] = agent_data[k]['reward']\n",
    "                data[-1,16:] = next_state\n",
    "                sars = np.vstack((sars, data))\n",
    "\n",
    "        # skip network update if not enough experiences\n",
    "        if sars is None or sars.shape[0] < min_exp_size or sars.shape[0] < batch_size:\n",
    "            continue\n",
    "        elif not pf1:\n",
    "            pf1 = True\n",
    "            print('---DEBUG: generated enough experiences')\n",
    "                        \n",
    "        # create a batch of experiences from memory and update network\n",
    "        loss = 0\n",
    "        batch = sars[np.random.choice(sars.shape[0], batch_size, replace=False), :]\n",
    "        batch_states = Variable(torch.from_numpy(batch[:,0:14])).type(dtype)\n",
    "        batch_actions = Variable(torch.from_numpy(batch[:,14])).type(torch.cuda.LongTensor)\n",
    "        x = model(batch_states).gather(1, batch_actions.view(-1, 1)).squeeze()\n",
    "        \n",
    "        batch_rewards = batch[:,15]\n",
    "        batch_next_states = Variable(torch.from_numpy(batch[:,16:])).type(dtype)\n",
    "        tt = target(batch_next_states).data.cpu().numpy()\n",
    "        tt = batch_rewards + gamma*np.amax(tt, axis=1)\n",
    "        tt = Variable(torch.from_numpy(tt), requires_grad=False).type(dtype)\n",
    "        loss += loss_fn(x, tt)\n",
    "        \n",
    "        loss_hist.append(loss.data[0])\n",
    "        \n",
    "        optimizer.zero_grad()\n",
    "        loss.backward()\n",
    "        optimizer.step()            \n",
    "            \n",
    "        # anneal exploration rate\n",
    "        if eps > eps_finl:\n",
    "            eps += -(eps_init - eps_finl)/anneal_range\n",
    "        elif not pf2:\n",
    "            pf2 = True\n",
    "            print('---DEBUG: finished annealing the exploration rate')\n",
    "        \n",
    "        # update target network periodically\n",
    "        if update_ctr % update_max == 0:\n",
    "            target = copy.deepcopy(model)\n",
    "            print('---DEBUG: updated target network (%d)' %(update_ctr / update_max))\n",
    "        update_ctr += 1\n",
    "        \n",
    "        # drop from memory if too many elements\n",
    "        if sars.shape[0] > memory_size:\n",
    "            sars = sars[sars.shape[0]-memory_size:,:]   \n",
    "                    \n",
    "    rew_disp = seed_rew/n/iter_ctr\n",
    "    frac_burn = sim.stats[2]/np.sum(sim.stats)\n",
    "    print('seed %03d: %03d steps, %0.2f reward/agent/step, %0.4f burnt' %(s, sim.iter, rew_disp, frac_burn))\n",
    "    rew_hist.append(rew_disp)\n",
    "    episode_ctr += 1\n",
    "    \n",
    "toc = time.clock()\n",
    "print(\"%0.2fs = %0.2fm elapsed\" % (toc-tic,(toc-tic)/60))"
   ]
  },
  {
   "cell_type": "code",
   "execution_count": 41,
   "metadata": {},
   "outputs": [
    {
     "data": {
      "text/plain": [
       "<matplotlib.legend.Legend at 0x7f0039457a58>"
      ]
     },
     "execution_count": 41,
     "metadata": {},
     "output_type": "execute_result"
    },
    {
     "data": {
      "image/png": "[encoded data removed]",
      "text/plain": [
       "<matplotlib.figure.Figure at 0x7f0038ddb9e8>"
      ]
     },
     "metadata": {},
     "output_type": "display_data"
    },
    {
     "data": {
      "image/png": "[encoded data removed]",
      "text/plain": [
       "<matplotlib.figure.Figure at 0x7f0039450898>"
      ]
     },
     "metadata": {},
     "output_type": "display_data"
    }
   ],
   "source": [
    "fig = plt.figure()\n",
    "plt.plot(range(len(rew_hist)), rew_hist, 'b-o')\n",
    "plt.xlabel('episode')\n",
    "plt.ylabel('reward per agent per simulation step')\n",
    "plt.ylabel('reward per agent per simulation step')\n",
    "\n",
    "fig = plt.figure()\n",
    "plt.plot(range(len(loss_hist)), loss_hist, 'k--s', label=\"median loss = %0.4f\" %(np.median(loss_hist)))\n",
    "plt.xlabel('update iteration')\n",
    "plt.ylabel('loss value')\n",
    "plt.legend()"
   ]
  },
  {
   "cell_type": "code",
   "execution_count": 42,
   "metadata": {},
   "outputs": [
    {
     "data": {
      "text/plain": [
       "array([ 10.1084938 ,   6.35625601,   6.94531727,   8.08627605,\n",
       "         4.85702419,  10.2519331 ,   8.06036949,   8.65294552,  10.36274052], dtype=float32)"
      ]
     },
     "execution_count": 42,
     "metadata": {},
     "output_type": "execute_result"
    }
   ],
   "source": [
    "Q"
   ]
  },
  {
   "cell_type": "code",
   "execution_count": 43,
   "metadata": {},
   "outputs": [
    {
     "data": {
      "text/plain": [
       "110"
      ]
     },
     "execution_count": 43,
     "metadata": {},
     "output_type": "execute_result"
    }
   ],
   "source": [
    "episode_ctr"
   ]
  },
  {
   "cell_type": "code",
   "execution_count": 125,
   "metadata": {},
   "outputs": [
    {
     "data": {
      "text/plain": [
       "0.14995750000063562"
      ]
     },
     "execution_count": 125,
     "metadata": {},
     "output_type": "execute_result"
    }
   ],
   "source": [
    "eps"
   ]
  },
  {
   "cell_type": "code",
   "execution_count": null,
   "metadata": {
    "collapsed": true
   },
   "outputs": [],
   "source": []
  },
  {
   "cell_type": "markdown",
   "metadata": {},
   "source": [
    "Save data to file - can resume training later"
   ]
  },
  {
   "cell_type": "code",
   "execution_count": 21,
   "metadata": {
    "collapsed": true
   },
   "outputs": [],
   "source": [
    "chkpt = {\n",
    "    'state_dict': model.state_dict(),\n",
    "    'target_dict': target.state_dict(),\n",
    "    'optimizer': optimizer.state_dict(),\n",
    "    'replay': sars,\n",
    "    'epsilon': eps,\n",
    "    'plot_reward': rew_hist,\n",
    "    'plot_loss': loss_hist,\n",
    "}\n",
    "#filename = 'checkpoint.pth.tar'\n",
    "filename = 'simple_ext-' + time.strftime('%d-%b-%Y-%H:%M') + '.pth.tar'\n",
    "torch.save(chkpt, filename)"
   ]
  },
  {
   "cell_type": "code",
   "execution_count": null,
   "metadata": {
    "collapsed": true
   },
   "outputs": [],
   "source": []
  },
  {
   "cell_type": "markdown",
   "metadata": {},
   "source": [
    "## test network in simulation"
   ]
  },
  {
   "cell_type": "code",
   "execution_count": 12,
   "metadata": {
    "collapsed": true
   },
   "outputs": [],
   "source": [
    "# seed = 603\n",
    "# seed = 1\n",
    "seed = 20\n",
    "\n",
    "grid_size = 50\n",
    "num_agents = 10\n",
    "repeat_lim = 6\n",
    "\n",
    "center = (grid_size+1)/2\n",
    "spawn_loc = np.arange(grid_size//3//2,grid_size,grid_size//3)\n",
    "perturbs = np.arange(-grid_size//3//2+1,grid_size//3//2+1,1)"
   ]
  },
  {
   "cell_type": "code",
   "execution_count": 60,
   "metadata": {},
   "outputs": [
    {
     "name": "stdout",
     "output_type": "stream",
     "text": [
      "seed 050: 0 reward/agent\n",
      "          stats: [2484   16    0], 0.0000\n",
      "0.07s = 0.00m elapsed\n"
     ]
    },
    {
     "data": {
      "image/png": "[encoded data removed]",
      "text/plain": [
       "<matplotlib.figure.Figure at 0x7f89d0b80be0>"
      ]
     },
     "metadata": {},
     "output_type": "display_data"
    }
   ],
   "source": [
    "plotting = True\n",
    "plt.close('all')\n",
    "\n",
    "tic = time.clock()\n",
    "\n",
    "s = seed\n",
    "np.random.seed(s)\n",
    "\n",
    "# initialize simulator\n",
    "sim = FireSimulator(grid_size, rng=s)\n",
    "sim.step([]) # start fire in domain\n",
    "\n",
    "# initialize agent position\n",
    "n = num_agents\n",
    "agent_pos = np.random.choice(spawn_loc, (n,2)) + np.random.choice(perturbs, (n,2))\n",
    "agent_pos = np.squeeze(agent_pos).astype(np.int32)\n",
    "agent_data = {}\n",
    "for k in range(n):\n",
    "    agent_data[k] = {}\n",
    "    agent_data[k]['sf'] = False\n",
    "\n",
    "seed_rew = 0\n",
    "control = []\n",
    "repeat_ctr = 1\n",
    "\n",
    "new_agent_pos = np.zeros((n,2)).astype(np.int32)\n",
    "\n",
    "# while not sim.end:\n",
    "if plotting:\n",
    "    steps = 1\n",
    "else:\n",
    "    steps = 1000\n",
    "for _ in range(steps):\n",
    "    if plotting:\n",
    "        fig = plt.figure()\n",
    "        ax = fig.add_subplot(111, aspect='equal')\n",
    "        plt.xlim([0,grid_size+1])\n",
    "        plt.ylim([0,grid_size+1])\n",
    "        plt.title('iteration: %d, action: %d' % (sim.iter,repeat_ctr))\n",
    "        plt.tick_params(axis='both',which='both',\n",
    "                        labelbottom='off',labelleft='off',\n",
    "                        bottom='off',left='off')\n",
    "        #plt.axis('off')\n",
    "\n",
    "        #plt.plot(center,center,\"gx\")\n",
    "        for i in range(grid_size):\n",
    "            for j in range(grid_size):\n",
    "                x = col_to_x(j)\n",
    "                y = row_to_y(grid_size,i)\n",
    "                #for i in range(grid_size):\n",
    "                #    for j in range(grid_size):\n",
    "                #        x = col_to_x(j)\n",
    "                #        y = row_to_y(grid_size,i)\n",
    "                #        if sim.state[i,j] == 1:\n",
    "                #            plt.plot(x,y,\"rs\",alpha=0.6)\n",
    "                #        elif sim.state[i,j] == 2:\n",
    "                #            plt.plot(x,y,\"ks\",alpha=0.6)\n",
    "\n",
    "                #if sim.state[i,j] == 0:\n",
    "                #    rect = patches.Rectangle((x-0.5,y-0.5),1,1,alpha=0.6,color='g')\n",
    "                #    ax.add_patch(rect)\n",
    "                if sim.state[i,j] == 1:\n",
    "                    rect = patches.Rectangle((x-0.5,y-0.5),1,1,alpha=0.6,color='r')\n",
    "                    ax.add_patch(rect)\n",
    "                elif sim.state[i,j] == 2:\n",
    "                    rect = patches.Rectangle((x-0.5,y-0.5),1,1,alpha=0.6,color='k')         \n",
    "                    ax.add_patch(rect)\n",
    "\n",
    "    # calculate action for each agent\n",
    "    for k in range(n):\n",
    "        decision = None\n",
    "        img, img_st, _ = CreateImageBW(sim.state, agent_pos[k,:])\n",
    "        if img_st[8//2,8//2] in [1,2]:\n",
    "            agent_data[k]['sf'] = True                \n",
    "\n",
    "        rot_vec = agent_pos[k,:] - center\n",
    "        rot_vec = rot_vec / np.linalg.norm(rot_vec,2)\n",
    "        rot_vec = np.array([rot_vec[1],-rot_vec[0]])\n",
    "\n",
    "        dists = [(np.linalg.norm(agent_pos[k,:]-p,2),j,p) for j,p in enumerate(agent_pos) if j!=k]\n",
    "        min_dist, min_id, min_pos = min(dists)\n",
    "\n",
    "        pos_vec = agent_pos[k,:] - min_pos\n",
    "        if pos_vec[0]!=0 and pos_vec[1]!= 0:\n",
    "            pos_vec = pos_vec / np.linalg.norm(pos_vec,2)\n",
    "\n",
    "        state = np.concatenate((img[3:6,3:6].reshape((img_dim**2,)), rot_vec, \n",
    "                                np.asarray(k>min_id)[np.newaxis], pos_vec))\n",
    "        \n",
    "\n",
    "        if not agent_data[k]['sf']:\n",
    "            #action = np.random.choice(range(9))\n",
    "            #traj = actions_to_trajectory(agent_pos, [action])\n",
    "\n",
    "            traj, action, agent_data[k]['sf'] = heuristic(k, agent_pos[k,:], img_st, \n",
    "                                                          agent_data[k]['sf'], center, min_id, min_pos)\n",
    "            action = action[0]\n",
    "            decision = 'heuristic'\n",
    "\n",
    "        else:\n",
    "            state = Variable(torch.from_numpy(state)).type(dtype)\n",
    "            Q = model(state.unsqueeze(0))[0].data.cpu().numpy()\n",
    "            action = np.argmax(Q)\n",
    "            traj = actions_to_trajectory(agent_pos[k,:], [action])\n",
    "            decision = 'network'\n",
    "\n",
    "        reward = eelfff_reward(traj, img_st, center, min_pos, k>min_id)\n",
    "        if decision == 'network':\n",
    "            seed_rew += reward\n",
    "\n",
    "        # generate control from trajectory\n",
    "        control.extend(FindGridIntersections(sim.state, traj)) \n",
    "        control = list(set(control))\n",
    "\n",
    "        # update agent location\n",
    "        new_agent_pos[k,:] = [traj[-1][0], traj[-1][1]]\n",
    "        \n",
    "        if plotting:\n",
    "            if decision == 'heuristic':\n",
    "                #plt.plot(traj[0][0],traj[0][1],\"C0o\",label=\"decision = %s\" % (decision))\n",
    "                plt.plot(traj[0][0],traj[0][1],\"C0o\")\n",
    "                #plt.plot(traj[-1][0],traj[-1][1],\"C0^\")\n",
    "            else:\n",
    "                #plt.plot(traj[0][0],traj[0][1],\"C1o\",label=\"decision = %s\" % (decision))\n",
    "                plt.plot(traj[0][0],traj[0][1],\"C2o\")\n",
    "                #plt.plot(traj[-1][0],traj[-1][1],\"C2^\")              \n",
    "\n",
    "    # update simulator periodically \n",
    "    if repeat_ctr % repeat_lim == 0:\n",
    "        sim.step(control, dbeta=dp)\n",
    "        control = []\n",
    "    repeat_ctr += 1\n",
    "\n",
    "    # update agent position\n",
    "    agent_pos = new_agent_pos\n",
    "    new_agent_pos = np.zeros((n,2)).astype(np.int32)\n",
    "    \n",
    "    #if plotting:\n",
    "        #plt.plot(center,center,\"ys\",label='# unique agents = %d' %(len(set(tuple(x) for x in agent_pos))))\n",
    "        #plt.legend()\n",
    "        \n",
    "    if sim.end:\n",
    "        print('process terminated')\n",
    "        break\n",
    "        \n",
    "    #plt.savefig('sample_ic.pdf', dpi=300, bbox_inches='tight')\n",
    "\n",
    "print('seed %03d: %d reward/agent' %(s, seed_rew/n))\n",
    "print('          stats: %s, %0.4f' %(sim.stats,sim.stats[2]/np.sum(sim.stats)))\n",
    "    \n",
    "toc = time.clock()\n",
    "print(\"%0.2fs = %0.2fm elapsed\" % (toc-tic,(toc-tic)/60))"
   ]
  },
  {
   "cell_type": "code",
   "execution_count": null,
   "metadata": {
    "collapsed": true
   },
   "outputs": [],
   "source": []
  },
  {
   "cell_type": "code",
   "execution_count": 114,
   "metadata": {
    "collapsed": true
   },
   "outputs": [],
   "source": [
    "seed = 30\n",
    "\n",
    "grid_size = 50\n",
    "num_agents = 8\n",
    "repeat_lim = 4\n",
    "\n",
    "center = (grid_size+1)/2\n",
    "spawn_loc = np.arange(grid_size//3//2,grid_size,grid_size//3)\n",
    "perturbs = np.arange(-grid_size//3//2+1,grid_size//3//2+1,1)"
   ]
  },
  {
   "cell_type": "code",
   "execution_count": 130,
   "metadata": {},
   "outputs": [
    {
     "name": "stdout",
     "output_type": "stream",
     "text": [
      "0.33s = 0.01m elapsed\n"
     ]
    },
    {
     "data": {
      "image/png": "[encoded data removed]",
      "text/plain": [
       "<matplotlib.figure.Figure at 0x7f89d0f5d7f0>"
      ]
     },
     "metadata": {},
     "output_type": "display_data"
    }
   ],
   "source": [
    "tic = time.clock()\n",
    "\n",
    "# intialize simulator\n",
    "sim = FireSimulator(grid_size, rng=s)\n",
    "sim.step([]) # start fire in domain\n",
    "\n",
    "# for _ in range(3):\n",
    "#     sim.step([])\n",
    "\n",
    "# initialize agent position\n",
    "n = num_agents\n",
    "agent_pos = np.random.choice(spawn_loc, (n,2)) + np.random.choice(perturbs, (n,2))\n",
    "agent_pos = np.squeeze(agent_pos).astype(np.int32)\n",
    "agent_data = {}\n",
    "plot_pos = {}\n",
    "for k in range(n):\n",
    "    agent_data[k] = {}\n",
    "    agent_data[k]['sf'] = False\n",
    "    plot_pos[k] = {}\n",
    "    plot_pos[k]['x'] = []\n",
    "    plot_pos[k]['y'] = []\n",
    "\n",
    "control = []\n",
    "repeat_ctr = 1\n",
    "\n",
    "new_agent_pos = np.zeros((n,2)).astype(np.int32)\n",
    "\n",
    "# while not sim.end:\n",
    "steps = 6*10\n",
    "for _ in range(steps):\n",
    "\n",
    "    # calculate action for each agent\n",
    "    for k in range(n):\n",
    "        img, img_st, _ = CreateImageBW(sim.state, agent_pos[k,:])\n",
    "        if img_st[8//2,8//2] in [1,2]:\n",
    "            agent_data[k]['sf'] = True                \n",
    "\n",
    "        rot_vec = agent_pos[k,:] - center\n",
    "        rot_vec = rot_vec / np.linalg.norm(rot_vec,2)\n",
    "        rot_vec = np.array([rot_vec[1],-rot_vec[0]])\n",
    "\n",
    "        dists = [(np.linalg.norm(agent_pos[k,:]-p,2),j,p) for j,p in enumerate(agent_pos) if j!=k]\n",
    "        min_dist, min_id, min_pos = min(dists)\n",
    "\n",
    "        pos_vec = agent_pos[k,:] - min_pos\n",
    "        if pos_vec[0]!=0 and pos_vec[1]!= 0:\n",
    "            pos_vec = pos_vec / np.linalg.norm(pos_vec,2)\n",
    "\n",
    "        state = np.concatenate((img[3:6,3:6].reshape((img_dim**2,)), rot_vec, \n",
    "                                np.asarray(k>min_id)[np.newaxis], pos_vec))\n",
    "        \n",
    "\n",
    "        if not agent_data[k]['sf']:\n",
    "            #action = np.random.choice(range(9))\n",
    "            #traj = actions_to_trajectory(agent_pos, [action])\n",
    "\n",
    "            traj, action, agent_data[k]['sf'] = heuristic(k, agent_pos[k,:], img_st, \n",
    "                                                          agent_data[k]['sf'], center, min_id, min_pos)\n",
    "            action = action[0]\n",
    "\n",
    "        else:\n",
    "            state = Variable(torch.from_numpy(state)).type(dtype)\n",
    "            Q = model(state.unsqueeze(0))[0].data.cpu().numpy()\n",
    "            action = np.argmax(Q)\n",
    "            traj = actions_to_trajectory(agent_pos[k,:], [action])\n",
    "\n",
    "        # generate control from trajectory\n",
    "        control.extend(FindGridIntersections(sim.state, traj)) \n",
    "        control = list(set(control))\n",
    "\n",
    "        # update agent location\n",
    "        new_agent_pos[k,:] = [traj[-1][0], traj[-1][1]]  \n",
    "        plot_pos[k]['x'].append(new_agent_pos[k,0])\n",
    "        plot_pos[k]['y'].append(new_agent_pos[k,1])\n",
    "\n",
    "    # update simulator periodically \n",
    "    if repeat_ctr % repeat_lim == 0:\n",
    "        sim.step(control, dbeta=dp)\n",
    "        control = []\n",
    "        #for k in range(n):\n",
    "        #    plot_pos[k]['x'] = []\n",
    "        #    plot_pos[k]['y'] = []\n",
    "    repeat_ctr += 1\n",
    "\n",
    "    # update agent position\n",
    "    agent_pos = new_agent_pos\n",
    "    new_agent_pos = np.zeros((n,2)).astype(np.int32)\n",
    "\n",
    "    if sim.end:\n",
    "        print('process terminated')\n",
    "        break\n",
    "\n",
    "toc = time.clock()\n",
    "print(\"%0.2fs = %0.2fm elapsed\" % (toc-tic,(toc-tic)/60))\n",
    "\n",
    "fig = plt.figure()\n",
    "ax = fig.add_subplot(111, aspect='equal')\n",
    "#plt.xlim([0,grid_size+1])\n",
    "#plt.ylim([0,grid_size+1])\n",
    "#plt.title('iteration: %d, action: %d' % (sim.iter,repeat_ctr))\n",
    "plt.tick_params(axis='both',which='both',\n",
    "                labelbottom='off',labelleft='off',\n",
    "                bottom='off',left='off')\n",
    "#plt.axis('off')\n",
    "\n",
    "for i in range(grid_size):\n",
    "    for j in range(grid_size):\n",
    "        x = 2*col_to_x(j)\n",
    "        y = 2*row_to_y(grid_size,i)\n",
    "\n",
    "        #if sim.state[i,j] == 0:\n",
    "        #    rect = patches.Rectangle((x-0.5,y-0.5),1,1,alpha=0.6,color='g')\n",
    "        #    ax.add_patch(rect)\n",
    "        if sim.state[i,j] == 1:\n",
    "            rect = patches.Rectangle((x-1,y-1),2,2,alpha=0.6,color='r')\n",
    "            ax.add_patch(rect)\n",
    "        elif sim.state[i,j] == 2:\n",
    "            rect = patches.Rectangle((x-1,y-1),2,2,alpha=0.6,color='k')         \n",
    "            ax.add_patch(rect)\n",
    "    \n",
    "for k in range(n):\n",
    "    plt.plot(2*plot_pos[k]['x'][-repeat_lim], 2*plot_pos[k]['y'][-repeat_lim], 'C2o', markersize=10)\n",
    "    plt.plot(2*plot_pos[k]['x'][-1], 2*plot_pos[k]['y'][-1], 'C2X', markersize=10)\n",
    "    plt.plot([2*plot_pos[k]['x'][-j] for j in range(repeat_lim,0,-1)], [2*plot_pos[k]['y'][-j] for j in range(repeat_lim,0,-1)], 'C2-', linewidth=3)\n",
    "    \n",
    "plt.savefig('sample_path.pdf', dpi=300, bbox_inches='tight')"
   ]
  },
  {
   "cell_type": "code",
   "execution_count": null,
   "metadata": {
    "collapsed": true
   },
   "outputs": [],
   "source": []
  },
  {
   "cell_type": "code",
   "execution_count": null,
   "metadata": {
    "collapsed": true
   },
   "outputs": [],
   "source": []
  },
  {
   "cell_type": "markdown",
   "metadata": {
    "collapsed": true
   },
   "source": [
    "## Benchmark network solution "
   ]
  },
  {
   "cell_type": "code",
   "execution_count": 17,
   "metadata": {
    "collapsed": true
   },
   "outputs": [],
   "source": [
    "results = []"
   ]
  },
  {
   "cell_type": "code",
   "execution_count": 18,
   "metadata": {
    "collapsed": true
   },
   "outputs": [],
   "source": [
    "grid_size = 50\n",
    "num_agents = 50\n",
    "\n",
    "center = (grid_size+1)/2\n",
    "spawn_loc = np.arange(grid_size//3//2,grid_size,grid_size//3)\n",
    "perturbs = np.arange(-grid_size//3//2+1,grid_size//3//2+1,1)\n",
    "\n",
    "seeds = range(100)"
   ]
  },
  {
   "cell_type": "code",
   "execution_count": 26,
   "metadata": {
    "scrolled": true
   },
   "outputs": [
    {
     "ename": "KeyboardInterrupt",
     "evalue": "",
     "output_type": "error",
     "traceback": [
      "\u001b[0;31m---------------------------------------------------------------------------\u001b[0m",
      "\u001b[0;31mKeyboardInterrupt\u001b[0m                         Traceback (most recent call last)",
      "\u001b[0;32m<ipython-input-26-fb60b55c4bd4>\u001b[0m in \u001b[0;36m<module>\u001b[0;34m()\u001b[0m\n\u001b[1;32m     28\u001b[0m                 \u001b[0magent_data\u001b[0m\u001b[0;34m[\u001b[0m\u001b[0mk\u001b[0m\u001b[0;34m]\u001b[0m\u001b[0;34m[\u001b[0m\u001b[0;34m'sf'\u001b[0m\u001b[0;34m]\u001b[0m \u001b[0;34m=\u001b[0m \u001b[0;32mTrue\u001b[0m\u001b[0;34m\u001b[0m\u001b[0m\n\u001b[1;32m     29\u001b[0m \u001b[0;34m\u001b[0m\u001b[0m\n\u001b[0;32m---> 30\u001b[0;31m             \u001b[0mdists\u001b[0m \u001b[0;34m=\u001b[0m \u001b[0;34m[\u001b[0m\u001b[0;34m(\u001b[0m\u001b[0mnp\u001b[0m\u001b[0;34m.\u001b[0m\u001b[0mlinalg\u001b[0m\u001b[0;34m.\u001b[0m\u001b[0mnorm\u001b[0m\u001b[0;34m(\u001b[0m\u001b[0magent_pos\u001b[0m\u001b[0;34m[\u001b[0m\u001b[0mk\u001b[0m\u001b[0;34m,\u001b[0m\u001b[0;34m:\u001b[0m\u001b[0;34m]\u001b[0m\u001b[0;34m-\u001b[0m\u001b[0mp\u001b[0m\u001b[0;34m,\u001b[0m\u001b[0;36m2\u001b[0m\u001b[0;34m)\u001b[0m\u001b[0;34m,\u001b[0m\u001b[0mj\u001b[0m\u001b[0;34m,\u001b[0m\u001b[0mp\u001b[0m\u001b[0;34m)\u001b[0m \u001b[0;32mfor\u001b[0m \u001b[0mj\u001b[0m\u001b[0;34m,\u001b[0m\u001b[0mp\u001b[0m \u001b[0;32min\u001b[0m \u001b[0menumerate\u001b[0m\u001b[0;34m(\u001b[0m\u001b[0magent_pos\u001b[0m\u001b[0;34m)\u001b[0m \u001b[0;32mif\u001b[0m \u001b[0mj\u001b[0m\u001b[0;34m!=\u001b[0m\u001b[0mk\u001b[0m\u001b[0;34m]\u001b[0m\u001b[0;34m\u001b[0m\u001b[0m\n\u001b[0m\u001b[1;32m     31\u001b[0m             \u001b[0mmin_dist\u001b[0m\u001b[0;34m,\u001b[0m \u001b[0mmin_id\u001b[0m\u001b[0;34m,\u001b[0m \u001b[0mmin_pos\u001b[0m \u001b[0;34m=\u001b[0m \u001b[0mmin\u001b[0m\u001b[0;34m(\u001b[0m\u001b[0mdists\u001b[0m\u001b[0;34m)\u001b[0m\u001b[0;34m\u001b[0m\u001b[0m\n\u001b[1;32m     32\u001b[0m \u001b[0;34m\u001b[0m\u001b[0m\n",
      "\u001b[0;32m<ipython-input-26-fb60b55c4bd4>\u001b[0m in \u001b[0;36m<listcomp>\u001b[0;34m(.0)\u001b[0m\n\u001b[1;32m     28\u001b[0m                 \u001b[0magent_data\u001b[0m\u001b[0;34m[\u001b[0m\u001b[0mk\u001b[0m\u001b[0;34m]\u001b[0m\u001b[0;34m[\u001b[0m\u001b[0;34m'sf'\u001b[0m\u001b[0;34m]\u001b[0m \u001b[0;34m=\u001b[0m \u001b[0;32mTrue\u001b[0m\u001b[0;34m\u001b[0m\u001b[0m\n\u001b[1;32m     29\u001b[0m \u001b[0;34m\u001b[0m\u001b[0m\n\u001b[0;32m---> 30\u001b[0;31m             \u001b[0mdists\u001b[0m \u001b[0;34m=\u001b[0m \u001b[0;34m[\u001b[0m\u001b[0;34m(\u001b[0m\u001b[0mnp\u001b[0m\u001b[0;34m.\u001b[0m\u001b[0mlinalg\u001b[0m\u001b[0;34m.\u001b[0m\u001b[0mnorm\u001b[0m\u001b[0;34m(\u001b[0m\u001b[0magent_pos\u001b[0m\u001b[0;34m[\u001b[0m\u001b[0mk\u001b[0m\u001b[0;34m,\u001b[0m\u001b[0;34m:\u001b[0m\u001b[0;34m]\u001b[0m\u001b[0;34m-\u001b[0m\u001b[0mp\u001b[0m\u001b[0;34m,\u001b[0m\u001b[0;36m2\u001b[0m\u001b[0;34m)\u001b[0m\u001b[0;34m,\u001b[0m\u001b[0mj\u001b[0m\u001b[0;34m,\u001b[0m\u001b[0mp\u001b[0m\u001b[0;34m)\u001b[0m \u001b[0;32mfor\u001b[0m \u001b[0mj\u001b[0m\u001b[0;34m,\u001b[0m\u001b[0mp\u001b[0m \u001b[0;32min\u001b[0m \u001b[0menumerate\u001b[0m\u001b[0;34m(\u001b[0m\u001b[0magent_pos\u001b[0m\u001b[0;34m)\u001b[0m \u001b[0;32mif\u001b[0m \u001b[0mj\u001b[0m\u001b[0;34m!=\u001b[0m\u001b[0mk\u001b[0m\u001b[0;34m]\u001b[0m\u001b[0;34m\u001b[0m\u001b[0m\n\u001b[0m\u001b[1;32m     31\u001b[0m             \u001b[0mmin_dist\u001b[0m\u001b[0;34m,\u001b[0m \u001b[0mmin_id\u001b[0m\u001b[0;34m,\u001b[0m \u001b[0mmin_pos\u001b[0m \u001b[0;34m=\u001b[0m \u001b[0mmin\u001b[0m\u001b[0;34m(\u001b[0m\u001b[0mdists\u001b[0m\u001b[0;34m)\u001b[0m\u001b[0;34m\u001b[0m\u001b[0m\n\u001b[1;32m     32\u001b[0m \u001b[0;34m\u001b[0m\u001b[0m\n",
      "\u001b[0;32m/usr/local/lib/python3.5/dist-packages/numpy/linalg/linalg.py\u001b[0m in \u001b[0;36mnorm\u001b[0;34m(x, ord, axis, keepdims)\u001b[0m\n\u001b[1;32m   2174\u001b[0m             \u001b[0;32melse\u001b[0m\u001b[0;34m:\u001b[0m\u001b[0;34m\u001b[0m\u001b[0m\n\u001b[1;32m   2175\u001b[0m                 \u001b[0msqnorm\u001b[0m \u001b[0;34m=\u001b[0m \u001b[0mdot\u001b[0m\u001b[0;34m(\u001b[0m\u001b[0mx\u001b[0m\u001b[0;34m,\u001b[0m \u001b[0mx\u001b[0m\u001b[0;34m)\u001b[0m\u001b[0;34m\u001b[0m\u001b[0m\n\u001b[0;32m-> 2176\u001b[0;31m             \u001b[0mret\u001b[0m \u001b[0;34m=\u001b[0m \u001b[0msqrt\u001b[0m\u001b[0;34m(\u001b[0m\u001b[0msqnorm\u001b[0m\u001b[0;34m)\u001b[0m\u001b[0;34m\u001b[0m\u001b[0m\n\u001b[0m\u001b[1;32m   2177\u001b[0m             \u001b[0;32mif\u001b[0m \u001b[0mkeepdims\u001b[0m\u001b[0;34m:\u001b[0m\u001b[0;34m\u001b[0m\u001b[0m\n\u001b[1;32m   2178\u001b[0m                 \u001b[0mret\u001b[0m \u001b[0;34m=\u001b[0m \u001b[0mret\u001b[0m\u001b[0;34m.\u001b[0m\u001b[0mreshape\u001b[0m\u001b[0;34m(\u001b[0m\u001b[0mndim\u001b[0m\u001b[0;34m*\u001b[0m\u001b[0;34m[\u001b[0m\u001b[0;36m1\u001b[0m\u001b[0;34m]\u001b[0m\u001b[0;34m)\u001b[0m\u001b[0;34m\u001b[0m\u001b[0m\n",
      "\u001b[0;31mKeyboardInterrupt\u001b[0m: "
     ]
    }
   ],
   "source": [
    "tic = time.clock()\n",
    "for i,s in enumerate(seeds):\n",
    "    np.random.seed(1000+s)\n",
    "\n",
    "    # initialize simulator\n",
    "    sim = FireSimulator(grid_size, rng=s)\n",
    "    sim.step([]) # start fire in domain\n",
    "    num_init_fires = len(sim.step([]))\n",
    "\n",
    "    # initialize agent position\n",
    "    n = num_agents\n",
    "    agent_pos = np.random.choice(spawn_loc, (n,2)) + np.random.choice(perturbs, (n,2))\n",
    "    agent_pos = np.squeeze(agent_pos).astype(np.int32)\n",
    "    agent_data = {}\n",
    "    for k in range(n):\n",
    "        agent_data[k] = {}\n",
    "        agent_data[k]['sf'] = False\n",
    "\n",
    "    control = []\n",
    "    repeat_ctr = 1\n",
    "\n",
    "    new_agent_pos = np.zeros((n,2)).astype(np.int32)\n",
    "\n",
    "    while not sim.end:\n",
    "        # calculate action for each agent\n",
    "        for k in range(n):\n",
    "            img, img_st, _ = CreateImageBW(sim.state, agent_pos[k,:])\n",
    "            if img_st[8//2,8//2] in [1,2]:\n",
    "                agent_data[k]['sf'] = True                \n",
    "\n",
    "            dists = [(np.linalg.norm(agent_pos[k,:]-p,2),j,p) for j,p in enumerate(agent_pos) if j!=k]\n",
    "            min_dist, min_id, min_pos = min(dists)                \n",
    "                \n",
    "            if not agent_data[k]['sf']:\n",
    "                #action = np.random.choice(range(9))\n",
    "                #traj = actions_to_trajectory(agent_pos, [action])\n",
    "\n",
    "                traj, action, agent_data[k]['sf'] = heuristic(k, agent_pos[k,:], img_st, \n",
    "                                                              agent_data[k]['sf'], center, min_id, min_pos)\n",
    "                action = action[0]\n",
    "\n",
    "            else:\n",
    "                rot_vec = agent_pos[k,:] - center\n",
    "                rot_vec = rot_vec / np.linalg.norm(rot_vec,2)\n",
    "                rot_vec = np.array([rot_vec[1],-rot_vec[0]])\n",
    "\n",
    "                pos_vec = agent_pos[k,:] - min_pos\n",
    "                if pos_vec[0]!=0 and pos_vec[1]!= 0:\n",
    "                    pos_vec = pos_vec / np.linalg.norm(pos_vec,2)\n",
    "\n",
    "                state = np.concatenate((img[3:6,3:6].reshape((img_dim**2,)), rot_vec, \n",
    "                                        np.asarray(k>min_id)[np.newaxis], pos_vec))\n",
    "            \n",
    "                state = Variable(torch.from_numpy(state)).type(dtype)\n",
    "                Q = model(state.unsqueeze(0))[0].data.cpu().numpy()\n",
    "                action = np.argmax(Q)\n",
    "                traj = actions_to_trajectory(agent_pos[k,:], [action])\n",
    "\n",
    "            # generate control from trajectory\n",
    "            control.extend(FindGridIntersections(sim.state, traj)) \n",
    "            control = list(set(control))\n",
    "\n",
    "            # update agent location\n",
    "            new_agent_pos[k,:] = [traj[-1][0], traj[-1][1]]\n",
    "\n",
    "        # update simulator periodically \n",
    "        if repeat_ctr % repeat_lim == 0:\n",
    "            sim.step(control, dbeta=dp)\n",
    "            control = []\n",
    "        repeat_ctr += 1\n",
    "\n",
    "        # update agent position\n",
    "        agent_pos = new_agent_pos\n",
    "        new_agent_pos = np.zeros((n,2)).astype(np.int32)\n",
    "\n",
    "    if (i+1) % 10 == 0:\n",
    "        print(\"finished %d simulations\" % (i+1))\n",
    "    \n",
    "    # store simulation result\n",
    "    results.append(sim.stats[2]/np.sum(sim.stats)) # fraction of burned trees\n",
    "\n",
    "toc = time.clock()\n",
    "print(\"%0.2fs = %0.2fm elapsed\" % (toc-tic,(toc-tic)/60))"
   ]
  },
  {
   "cell_type": "code",
   "execution_count": 20,
   "metadata": {},
   "outputs": [
    {
     "data": {
      "text/plain": [
       "<matplotlib.legend.Legend at 0x7fb6bd31a438>"
      ]
     },
     "execution_count": 20,
     "metadata": {},
     "output_type": "execute_result"
    },
    {
     "data": {
      "image/png": "[encoded data removed]",
      "text/plain": [
       "<matplotlib.figure.Figure at 0x7fb6bd17ee10>"
      ]
     },
     "metadata": {},
     "output_type": "display_data"
    }
   ],
   "source": [
    "plt.figure()\n",
    "weights = np.ones_like(results)/float(len(results))\n",
    "splits, _, _ = plt.hist(results, bins=np.arange(0,1+0.05,0.05), normed=False, weights=weights)\n",
    "plt.axvline(np.amin(results),color=\"C2\",label=\"min = %0.2f%%\" % (np.amin(results)*100))\n",
    "plt.axvline(np.mean(results),color=\"C1\",label=\"mean = %0.2f%%\" %(np.mean(results)*100))\n",
    "plt.axvline(np.amax(results),color=\"C3\",label=\"max = %0.2f%%\" %(np.amax(results)*100))\n",
    "\n",
    "plt.ylim([0,1])\n",
    "plt.xticks(np.arange(0,1+0.05,0.05))\n",
    "plt.xlabel('fraction of forest burned down')\n",
    "plt.ylabel('normalized count')\n",
    "plt.title('DEEP Q-NETWORK\\ngrid size: %d; number of agents: %d\\nnumber of simulations: %d' %(grid_size,n,len(results)))\n",
    "plt.legend(loc=1)\n",
    "\n",
    "# plt.savefig('network_guided (110-1000).png', bbox_inches='tight')"
   ]
  },
  {
   "cell_type": "code",
   "execution_count": 21,
   "metadata": {},
   "outputs": [
    {
     "data": {
      "text/plain": [
       "array([ 0.77,  0.03,  0.  ,  0.  ,  0.  ,  0.  ,  0.  ,  0.  ,  0.  ,\n",
       "        0.01,  0.01,  0.02,  0.01,  0.01,  0.01,  0.  ,  0.02,  0.02,\n",
       "        0.03,  0.06])"
      ]
     },
     "execution_count": 21,
     "metadata": {},
     "output_type": "execute_result"
    }
   ],
   "source": [
    "splits"
   ]
  },
  {
   "cell_type": "code",
   "execution_count": 22,
   "metadata": {},
   "outputs": [
    {
     "data": {
      "text/plain": [
       "0.17867999999999998"
      ]
     },
     "execution_count": 22,
     "metadata": {},
     "output_type": "execute_result"
    }
   ],
   "source": [
    "np.mean(results)"
   ]
  },
  {
   "cell_type": "code",
   "execution_count": 117,
   "metadata": {
    "collapsed": true
   },
   "outputs": [],
   "source": [
    "with open('simple_ext_%d+%d+%d.pkl' %(grid_size,num_agents,num_init_fires,len(seeds)), 'wb') as fp:\n",
    "    pickle.dump(results, fp)"
   ]
  },
  {
   "cell_type": "code",
   "execution_count": null,
   "metadata": {
    "collapsed": true
   },
   "outputs": [],
   "source": []
  },
  {
   "cell_type": "code",
   "execution_count": 24,
   "metadata": {},
   "outputs": [
    {
     "name": "stdout",
     "output_type": "stream",
     "text": [
      "fraction of wins: 80.00\n",
      "win mean: 2.21\n"
     ]
    }
   ],
   "source": [
    "win_results = [x for x in results if x <= np.mean(results)]\n",
    "print('fraction of wins: %0.2f' % (100.0*len(win_results)/len(results)))\n",
    "print('win mean: %0.2f' %(np.mean(win_results)*100))"
   ]
  },
  {
   "cell_type": "code",
   "execution_count": 25,
   "metadata": {},
   "outputs": [
    {
     "data": {
      "text/plain": [
       "array([ 8, 24, 40])"
      ]
     },
     "execution_count": 25,
     "metadata": {},
     "output_type": "execute_result"
    }
   ],
   "source": [
    "spawn_loc"
   ]
  },
  {
   "cell_type": "code",
   "execution_count": null,
   "metadata": {
    "collapsed": true
   },
   "outputs": [],
   "source": []
  }
 ],
 "metadata": {
  "kernelspec": {
   "display_name": "Python 3",
   "language": "python",
   "name": "python3"
  },
  "language_info": {
   "codemirror_mode": {
    "name": "ipython",
    "version": 3
   },
   "file_extension": ".py",
   "mimetype": "text/x-python",
   "name": "python",
   "nbconvert_exporter": "python",
   "pygments_lexer": "ipython3",
   "version": "3.5.2"
  }
 },
 "nbformat": 4,
 "nbformat_minor": 2
}
