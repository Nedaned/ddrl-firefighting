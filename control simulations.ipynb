{
 "cells": [
  {
   "cell_type": "markdown",
   "metadata": {},
   "source": [
    "## Setup"
   ]
  },
  {
   "cell_type": "code",
   "execution_count": 1,
   "metadata": {
    "collapsed": true
   },
   "outputs": [],
   "source": [
    "import torch\n",
    "import torch.nn as nn\n",
    "from torch.autograd import Variable"
   ]
  },
  {
   "cell_type": "code",
   "execution_count": 12,
   "metadata": {
    "collapsed": false
   },
   "outputs": [
    {
     "name": "stdout",
     "output_type": "stream",
     "text": [
      "The autoreload extension is already loaded. To reload it, use:\n",
      "  %reload_ext autoreload\n"
     ]
    }
   ],
   "source": [
    "import copy\n",
    "from datetime import datetime\n",
    "from FireSimulator import *\n",
    "from FireSimulatorUtilities import *\n",
    "import glob\n",
    "import itertools\n",
    "import matplotlib.patches as patches\n",
    "import matplotlib.patheffects as PathEffects\n",
    "import matplotlib.pyplot as plt\n",
    "import numpy as np\n",
    "import os\n",
    "import pickle\n",
    "import sys\n",
    "import time\n",
    "\n",
    "%matplotlib inline\n",
    "plt.rcParams['figure.figsize'] = (10.0, 8.0)\n",
    "# plt.rcParams['image.interpolation'] = 'nearest'\n",
    "# plt.rcParams['image.cmap'] = 'gray'\n",
    "\n",
    "%load_ext autoreload\n",
    "%autoreload 2"
   ]
  },
  {
   "cell_type": "code",
   "execution_count": null,
   "metadata": {
    "collapsed": true
   },
   "outputs": [],
   "source": []
  },
  {
   "cell_type": "markdown",
   "metadata": {},
   "source": [
    "## Heuristic Solution"
   ]
  },
  {
   "cell_type": "code",
   "execution_count": 3,
   "metadata": {
    "collapsed": true
   },
   "outputs": [],
   "source": [
    "def heuristic(agent_id, pos, img_st, seen_fire, center, close_agent_id, close_pos):\n",
    "\n",
    "    traj = []\n",
    "    actions = []\n",
    "    traj.append((pos[0],pos[1]))\n",
    "    img_dim = img_st.shape[0]\n",
    "    fire_neigh = [(-1,0),(0,-1),(1,0),(0,1)]\n",
    "    move_neigh = [(-1,0),(1,0),(-1,1),(0,1),(1,1),(-1,-1),(0,-1),(1,-1)] #excluded (0,0)\n",
    "    action_set = [4,1,2,3,5,8,7,6]\n",
    "    \n",
    "    dists = None\n",
    "    x,y = pos\n",
    "\n",
    "    r = img_dim//2\n",
    "    c = img_dim//2\n",
    "\n",
    "    if img_st[r,c] in [1,2] or seen_fire:\n",
    "        seen_fire = True\n",
    "        dists = []\n",
    "        \n",
    "        cen_vec = np.array([x-center,y-center])\n",
    "        cen_vec = cen_vec/np.linalg.norm(cen_vec)\n",
    "        for a in range(1,9):\n",
    "        #for a in [2,5,7,4]:\n",
    "            new_pos = actions_to_trajectory(traj[-1],[a])[1]\n",
    "\n",
    "            rl = -new_pos[1] + y + img_dim//2\n",
    "            cl = new_pos[0] -x + img_dim//2\n",
    "            #if a in [1,3,8,6] and img_st[rl,cl] in [0]:\n",
    "            #    continue\n",
    "\n",
    "            move_vec = np.array([new_pos[0]-x,new_pos[1]-y])\n",
    "            if a != 0:\n",
    "                move_vec = move_vec/np.linalg.norm(move_vec)\n",
    "            dists.append((np.cross(cen_vec,move_vec),new_pos,a))\n",
    "\n",
    "        cir_pos = min(dists)[1]\n",
    "        cir_act = min(dists)[2]\n",
    "\n",
    "        ri = -cir_pos[1] + y + img_dim//2\n",
    "        ci = cir_pos[0] -x + img_dim//2\n",
    "\n",
    "        left_act = None\n",
    "        if cir_act==1:\n",
    "            left_act = [6,4]\n",
    "            #left_act = [4]\n",
    "            righ_act = [2]\n",
    "        elif cir_act==2:\n",
    "            left_act = [4,1]\n",
    "            #left_act = [1]\n",
    "            righ_act = [3]\n",
    "        elif cir_act==3:\n",
    "            left_act = [1,2]\n",
    "            #left_act = [2]\n",
    "            righ_act = [5]\n",
    "        elif cir_act==5:\n",
    "            left_act = [2,3]\n",
    "            #left_act = [3]\n",
    "            righ_act = [8]\n",
    "        elif cir_act==8:\n",
    "            left_act = [3,5]\n",
    "            #left_act = [5]\n",
    "            righ_act = [7]\n",
    "        elif cir_act==7:\n",
    "            left_act = [5,8]\n",
    "            #left_act = [8]\n",
    "            righ_act = [6]\n",
    "        elif cir_act==6:\n",
    "            left_act = [8,7]\n",
    "            #left_act = [7]\n",
    "            righ_act = [4]\n",
    "        elif cir_act==4:\n",
    "            left_act = [7,6]\n",
    "            #left_act = [6]\n",
    "            righ_act = [1]\n",
    "\n",
    "        out = False\n",
    "        for a in left_act:\n",
    "            new_pos = actions_to_trajectory(traj[-1],[a])[1]\n",
    "            ro = -new_pos[1] + y + img_dim//2\n",
    "            co = new_pos[0] - x + img_dim//2\n",
    "            if img_st[ro,co] in [1]:\n",
    "                cir_pos = new_pos\n",
    "                cir_act = a\n",
    "                out = True\n",
    "                break\n",
    "\n",
    "        if not out:\n",
    "            for a in left_act:\n",
    "                new_pos = actions_to_trajectory(traj[-1],[a])[1]\n",
    "                ro = -new_pos[1] + y + img_dim//2\n",
    "                co = new_pos[0] - x + img_dim//2\n",
    "                if img_st[ro,co] in [2]:\n",
    "                    cir_pos = new_pos\n",
    "                    cir_act = a\n",
    "                    out = True\n",
    "                    break\n",
    "\n",
    "        counter = 0\n",
    "        for (dr,dc) in move_neigh:\n",
    "            rn = ri + dr\n",
    "            cn = ci + dc\n",
    "            if rn>=0 and rn<img_dim and cn>=0 and cn<img_dim and img_st[rn,cn] in [0]:\n",
    "                counter += 1\n",
    "\n",
    "        if not out and img_st[ri,ci] in [0] and counter>=6:\n",
    "            for a in righ_act:\n",
    "                new_pos = actions_to_trajectory(traj[-1],[a])[1]\n",
    "                cir_pos = new_pos\n",
    "                cir_act = a\n",
    "\n",
    "        if np.linalg.norm(cir_pos-close_pos,2)<=1 and agent_id > close_agent_id:\n",
    "            cir_pos = traj[-1]\n",
    "            cir_act = 0\n",
    "\n",
    "        traj.append(cir_pos)\n",
    "        actions.append(cir_act)      \n",
    "\n",
    "    if not seen_fire:\n",
    "        dists = []\n",
    "        #for a in range(9):\n",
    "        for idx,a in enumerate([2,5,7,4,1,3,8,6]):\n",
    "            new_pos = actions_to_trajectory(traj[-1],[a])[1]\n",
    "            incntv = -(8-idx)*0.1\n",
    "            dists.append((np.abs(center-new_pos[0])+np.abs(center-new_pos[1])+incntv,new_pos,a))\n",
    "\n",
    "        #print(dists)\n",
    "        #print()\n",
    "        score, pos, act = min(dists)\n",
    "        traj.append(pos)\n",
    "        actions.append(act)\n",
    "        \n",
    "    return traj, actions, seen_fire"
   ]
  },
  {
   "cell_type": "code",
   "execution_count": null,
   "metadata": {
    "collapsed": true
   },
   "outputs": [],
   "source": []
  },
  {
   "cell_type": "markdown",
   "metadata": {},
   "source": [
    "## DQN architecture"
   ]
  },
  {
   "cell_type": "code",
   "execution_count": 4,
   "metadata": {
    "collapsed": false
   },
   "outputs": [
    {
     "data": {
      "text/plain": [
       "True"
      ]
     },
     "execution_count": 4,
     "metadata": {},
     "output_type": "execute_result"
    }
   ],
   "source": [
    "torch.cuda.is_available()"
   ]
  },
  {
   "cell_type": "code",
   "execution_count": 5,
   "metadata": {
    "collapsed": true
   },
   "outputs": [],
   "source": [
    "dtype = torch.cuda.FloatTensor"
   ]
  },
  {
   "cell_type": "code",
   "execution_count": 6,
   "metadata": {
    "collapsed": true
   },
   "outputs": [],
   "source": [
    "class eelfff(nn.Module):\n",
    "    \n",
    "    def __init__(self, img_dim=8):\n",
    "        super(eelfff, self).__init__()\n",
    "        self.img_dim = img_dim\n",
    "        \n",
    "        # inputs: image + rot vec + id compare + pos-other_pos\n",
    "        self.net = nn.Sequential(\n",
    "                                nn.Linear(self.img_dim**2 + 2 + 1 + 2, 2048),\n",
    "                                nn.ReLU(inplace=True),\n",
    "                                nn.Linear(2048, 2048),\n",
    "                                nn.ReLU(inplace=True),\n",
    "                                nn.Linear(2048, 9)\n",
    "                            )\n",
    "\n",
    "    def forward(self, feat):\n",
    "        return self.net(feat)\n"
   ]
  },
  {
   "cell_type": "markdown",
   "metadata": {},
   "source": [
    "test network with random data"
   ]
  },
  {
   "cell_type": "code",
   "execution_count": 7,
   "metadata": {
    "collapsed": false
   },
   "outputs": [
    {
     "name": "stdout",
     "output_type": "stream",
     "text": [
      "torch.Size([4, 9])\n",
      "342.12s = 5.70m elapsed for this test\n"
     ]
    }
   ],
   "source": [
    "tic = time.clock()\n",
    "N = 4\n",
    "img_dim = 3\n",
    "\n",
    "model = eelfff(img_dim).type(dtype)\n",
    "feat = Variable(torch.randn(N,img_dim**2+2+1+2)).type(dtype)\n",
    "Q = model(feat)\n",
    "toc = time.clock()\n",
    "\n",
    "print(Q.size())\n",
    "print(\"%0.2fs = %0.2fm elapsed for this test\" %(toc-tic,(toc-tic)/60))"
   ]
  },
  {
   "cell_type": "code",
   "execution_count": null,
   "metadata": {
    "collapsed": true
   },
   "outputs": [],
   "source": []
  },
  {
   "cell_type": "markdown",
   "metadata": {},
   "source": [
    "load network from file"
   ]
  },
  {
   "cell_type": "code",
   "execution_count": 8,
   "metadata": {
    "collapsed": true
   },
   "outputs": [],
   "source": [
    "filename = 'simple_ext-26-Aug-2017-15:17.pth.tar'\n",
    "\n",
    "checkpoint = torch.load(filename)\n",
    "model.load_state_dict(checkpoint['state_dict'])"
   ]
  },
  {
   "cell_type": "code",
   "execution_count": null,
   "metadata": {
    "collapsed": true
   },
   "outputs": [],
   "source": []
  },
  {
   "cell_type": "markdown",
   "metadata": {},
   "source": [
    "## Code to simulate with MADQN agent actions"
   ]
  },
  {
   "cell_type": "code",
   "execution_count": 57,
   "metadata": {
    "collapsed": true
   },
   "outputs": [],
   "source": [
    "seed = 100\n",
    "plotting = True\n",
    "# 50\n",
    "# s = 100, a = 20\n",
    "\n",
    "grid_size = 50\n",
    "num_agents = 12\n",
    "capacity = 10\n",
    "\n",
    "newalpha = None\n",
    "newbeta = None\n",
    "# newalpha = 0.3\n",
    "# newbeta = 0.92\n",
    "\n",
    "base_station = np.array([5,5])\n",
    "repeat_lim = 6\n",
    "dp = 0.15/0.2763\n",
    "\n",
    "center = (grid_size+1)/2\n",
    "spawn_loc = np.arange(grid_size//3//2,grid_size,grid_size//3)\n",
    "perturbs = np.arange(-grid_size//3//2+1,grid_size//3//2+1,1)"
   ]
  },
  {
   "cell_type": "code",
   "execution_count": 58,
   "metadata": {
    "collapsed": false,
    "scrolled": false
   },
   "outputs": [
    {
     "name": "stdout",
     "output_type": "stream",
     "text": [
      "[2018-02-22 19:58:10] start\n",
      "[2018-02-22 19:58:10] finish\n",
      "1452.39s = 24.21m elapsed\n",
      "number of model updates: 42\n",
      "remaining healthy trees: 0.9824\n"
     ]
    }
   ],
   "source": [
    "st = datetime.today().strftime('%Y-%m-%d %H:%M:%S')\n",
    "print('[%s] start' % st)\n",
    "\n",
    "tic = time.clock()\n",
    "\n",
    "s = seed\n",
    "np.random.seed(1000+s)\n",
    "\n",
    "# initialize simulator\n",
    "sim = FireSimulator(grid_size, rng=s)\n",
    "if newalpha is not None:\n",
    "    sim.alpha = newalpha\n",
    "if newbeta is not None:\n",
    "    sim.beta = newbeta\n",
    "sim.step([])\n",
    "    \n",
    "n = num_agents\n",
    "agent_pos = np.random.choice(spawn_loc, (n,2)) + np.random.choice(perturbs, (n,2))\n",
    "agent_pos = agent_pos.astype(np.int32)\n",
    "\n",
    "control = []\n",
    "repeat_ctr = 1\n",
    "agent_data = {}\n",
    "for k in range(n):\n",
    "    agent_data[k] = {}\n",
    "    agent_data[k]['sf'] = False\n",
    "    if capacity is not None:\n",
    "        agent_data[k]['cap'] = capacity\n",
    "        \n",
    "# create plotting objects, plot initial condition\n",
    "if plotting:\n",
    "    plt_ctr = 1\n",
    "    fig = plt.figure()\n",
    "    ax = fig.add_subplot(111, aspect='equal')\n",
    "    plt.tick_params(axis='both', which='both',\n",
    "                    labelbottom='off', labelleft='off',\n",
    "                    bottom='off', left='off')\n",
    "    ax.set_xlim([0,grid_size+1])\n",
    "    ax.set_ylim([0,grid_size+1])\n",
    "\n",
    "    base_rect = plt.Rectangle((base_station[0]-0.5,base_station[0]-0.5),1,1,edgecolor='none',facecolor='C9')\n",
    "\n",
    "    plot_rects = {}\n",
    "    for i in range(grid_size):\n",
    "        for j in range(grid_size):\n",
    "            x = col_to_x(j)\n",
    "            y = row_to_y(grid_size,i)\n",
    "\n",
    "            plot_rects[(i,j)] = plt.Rectangle((x-0.5,y-0.5),1,1,alpha=0.6,edgecolor='none')\n",
    "            if sim.state[i,j] == 0:\n",
    "                color = 'g'\n",
    "            elif sim.state[i,j] == 1:\n",
    "                color = 'r'\n",
    "            elif sim.state[i,j] == 2:\n",
    "                color = 'k'\n",
    "\n",
    "            plot_rects[(i,j)].set_facecolor(color)\n",
    "            ax.add_patch(plot_rects[(i,j)])\n",
    "\n",
    "    ax.add_patch(base_rect)\n",
    "    for k in range(num_agents):\n",
    "        plt.plot(agent_pos[k,0],agent_pos[k,1],\"bo\",markersize=4)\n",
    "\n",
    "    plt.savefig('img/sim%0.4d.png' %(plt_ctr), dpi=300, bbox_inches='tight')\n",
    "    plt_ctr += 1\n",
    "    plt.close()\n",
    "\n",
    "# run simulation        \n",
    "while not sim.end:\n",
    "    new_agent_pos = np.zeros((n,2)).astype(np.int32)\n",
    "    \n",
    "    # calculate action for each agent\n",
    "    for k in range(num_agents):\n",
    "        img, img_st, _ = CreateImageBW(sim.state, agent_pos[k,:])\n",
    "        if img_st[8//2,8//2] in [1,2]:\n",
    "            agent_data[k]['sf'] = True                \n",
    "\n",
    "        dists = [(np.linalg.norm(agent_pos[k,:]-p,2),j,p) for j,p in enumerate(agent_pos) if j!=k]\n",
    "        min_dist, min_id, min_pos = min(dists)                \n",
    "\n",
    "        if not agent_data[k]['sf']:\n",
    "\n",
    "            dists = []\n",
    "            for idx,a in enumerate([2,5,7,4,1,3,8,6]):\n",
    "                new_pos = actions_to_trajectory(agent_pos[k,:],[a])[1]\n",
    "                incntv = -(8-idx)*0.1\n",
    "                dists.append((np.abs(center-new_pos[0])+np.abs(center-new_pos[1])+incntv,new_pos,a))\n",
    "\n",
    "            score, pos, action = min(dists)\n",
    "            traj = actions_to_trajectory(agent_pos[k,:], [action])\n",
    "\n",
    "        else:\n",
    "            rot_vec = agent_pos[k,:] - center\n",
    "            rot_vec = rot_vec / np.linalg.norm(rot_vec,2)\n",
    "            rot_vec = np.array([rot_vec[1],-rot_vec[0]])\n",
    "\n",
    "            pos_vec = agent_pos[k,:] - min_pos\n",
    "            if pos_vec[0]!=0 and pos_vec[1]!= 0:\n",
    "                pos_vec = pos_vec / np.linalg.norm(pos_vec,2)\n",
    "\n",
    "            state = np.concatenate((img[3:6,3:6].reshape((img_dim**2,)), rot_vec, \n",
    "                                    np.asarray(k>min_id)[np.newaxis], pos_vec))\n",
    "\n",
    "            state = Variable(torch.from_numpy(state)).type(dtype)\n",
    "            Q = model(state.unsqueeze(0))[0].data.cpu().numpy()\n",
    "            action = np.argmax(Q)\n",
    "            traj = actions_to_trajectory(agent_pos[k,:], [action])\n",
    "\n",
    "        # generate control from trajectory\n",
    "        # account for capacity constraint\n",
    "        agent_control = FindGridIntersections(sim.state, traj)\n",
    "        for el in agent_control:\n",
    "            control.extend([el]) \n",
    "            if capacity is not None:\n",
    "                agent_data[k]['cap'] -= 1\n",
    "                if agent_data[k]['cap'] <= 0:\n",
    "                    break\n",
    "\n",
    "        control = list(set(control))\n",
    "\n",
    "        # update agent location\n",
    "        if capacity is not None and agent_data[k]['cap'] <= 0:\n",
    "            agent_data[k]['sf'] = False\n",
    "            agent_data[k]['cap'] = capacity\n",
    "            new_agent_pos[k,:] = base_station\n",
    "        else:\n",
    "            new_agent_pos[k,:] = [traj[-1][0], traj[-1][1]]\n",
    "\n",
    "    # update simulator periodically \n",
    "    if repeat_ctr % repeat_lim == 0:\n",
    "        sim.step(control, dbeta=dp)\n",
    "        control = []\n",
    "    repeat_ctr += 1\n",
    "\n",
    "    # update agent position\n",
    "    agent_pos = new_agent_pos\n",
    "    new_agent_pos = np.zeros((n,2)).astype(np.int32)\n",
    "    \n",
    "    # plot new information\n",
    "    if plotting:\n",
    "        fig = plt.figure()\n",
    "        ax = fig.add_subplot(111, aspect='equal')\n",
    "        plt.tick_params(axis='both', which='both',labelbottom='off', labelleft='off',bottom='off', left='off')\n",
    "        ax.set_xlim([0,grid_size+1])\n",
    "        ax.set_ylim([0,grid_size+1])\n",
    "\n",
    "        for i in range(grid_size):\n",
    "            for j in range(grid_size):\n",
    "                x = col_to_x(j)\n",
    "                y = row_to_y(grid_size,i)\n",
    "\n",
    "                if sim.state[i,j] == 0:\n",
    "                    color = 'g'\n",
    "                elif sim.state[i,j] == 1:\n",
    "                    color = 'r'\n",
    "                elif sim.state[i,j] == 2:\n",
    "                    color = 'k'\n",
    "\n",
    "                plot_rects[(i,j)].set_facecolor(color)\n",
    "                patch = copy.copy(plot_rects[(i,j)])\n",
    "                patch.axes = None\n",
    "                patch.figure = None\n",
    "                patch.set_transform(ax.transData)\n",
    "                ax.add_patch(patch)\n",
    "\n",
    "        base_patch = copy.copy(base_rect)\n",
    "        base_patch.axes = None\n",
    "        base_patch.figure = None\n",
    "        base_patch.set_transform(ax.transData)\n",
    "        ax.add_patch(base_patch)\n",
    "        for k in range(num_agents):\n",
    "            plt.plot(agent_pos[k,0],agent_pos[k,1],\"bo\",markersize=4)\n",
    "\n",
    "        plt.savefig('img/sim%04d.png' %(plt_ctr), dpi=300, bbox_inches='tight')\n",
    "        plt_ctr += 1\n",
    "        plt.close()\n",
    "\n",
    "datetime.today().strftime('%Y-%m-%d %H:%M:%S')\n",
    "print('[%s] finish' % st)\n",
    "\n",
    "toc = time.clock()\n",
    "print(\"%0.2fs = %0.2fm elapsed\" % (toc-tic,(toc-tic)/60))\n",
    "\n",
    "print('number of model updates: %d' %sim.iter)\n",
    "print('remaining healthy trees: %0.4f' %(sim.stats[0]/sum(sim.stats)))"
   ]
  },
  {
   "cell_type": "code",
   "execution_count": 59,
   "metadata": {
    "collapsed": true
   },
   "outputs": [],
   "source": [
    "for _ in range(repeat_lim):\n",
    "    # plot new information\n",
    "    fig = plt.figure()\n",
    "    ax = fig.add_subplot(111, aspect='equal')\n",
    "    plt.tick_params(axis='both', which='both',labelbottom='off', labelleft='off', bottom='off', left='off')\n",
    "    ax.set_xlim([0,grid_size+1])\n",
    "    ax.set_ylim([0,grid_size+1])\n",
    "\n",
    "    for i in range(grid_size):\n",
    "        for j in range(grid_size):\n",
    "            x = col_to_x(j)\n",
    "            y = row_to_y(grid_size,i)\n",
    "\n",
    "            if sim.state[i,j] == 0:\n",
    "                color = 'g'\n",
    "            elif sim.state[i,j] == 1:\n",
    "                color = 'r'\n",
    "            elif sim.state[i,j] == 2:\n",
    "                color = 'k'\n",
    "\n",
    "            plot_rects[(i,j)].set_facecolor(color)\n",
    "            patch = copy.copy(plot_rects[(i,j)])\n",
    "            patch.axes = None\n",
    "            patch.figure = None\n",
    "            patch.set_transform(ax.transData)\n",
    "            ax.add_patch(patch)\n",
    "            \n",
    "    for k in range(num_agents):\n",
    "        plt.plot(agent_pos[k,0],agent_pos[k,1],\"bo\",markersize=4)\n",
    "\n",
    "    plt.savefig('img/sim%04d.png' %(plt_ctr), dpi=300, bbox_inches='tight')\n",
    "    plt_ctr += 1\n",
    "    plt.close()"
   ]
  },
  {
   "cell_type": "code",
   "execution_count": null,
   "metadata": {
    "collapsed": true
   },
   "outputs": [],
   "source": []
  }
 ],
 "metadata": {
  "kernelspec": {
   "display_name": "Python 3",
   "language": "python",
   "name": "python3"
  },
  "language_info": {
   "codemirror_mode": {
    "name": "ipython",
    "version": 3
   },
   "file_extension": ".py",
   "mimetype": "text/x-python",
   "name": "python",
   "nbconvert_exporter": "python",
   "pygments_lexer": "ipython3",
   "version": "3.5.2"
  }
 },
 "nbformat": 4,
 "nbformat_minor": 0
}
