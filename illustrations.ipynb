{
 "cells": [
  {
   "cell_type": "code",
   "execution_count": 1,
   "metadata": {
    "collapsed": true
   },
   "outputs": [],
   "source": [
    "import matplotlib.colors as col\n",
    "import matplotlib.patches as patches\n",
    "import matplotlib.pyplot as plt\n",
    "import numpy as np\n",
    "\n",
    "%matplotlib inline"
   ]
  },
  {
   "cell_type": "code",
   "execution_count": null,
   "metadata": {
    "collapsed": true
   },
   "outputs": [],
   "source": []
  },
  {
   "cell_type": "markdown",
   "metadata": {},
   "source": [
    "visualization of neighbor set, parent function"
   ]
  },
  {
   "cell_type": "code",
   "execution_count": 282,
   "metadata": {
    "collapsed": false,
    "scrolled": false
   },
   "outputs": [
    {
     "data": {
      "image/png": "[encoded data removed]",
      "text/plain": [
       "<matplotlib.figure.Figure at 0x7f0a29f0be48>"
      ]
     },
     "metadata": {},
     "output_type": "display_data"
    }
   ],
   "source": [
    "N = 5\n",
    "data = np.ones((N,N)) * np.nan\n",
    "\n",
    "data[N//2,N//2] = 0\n",
    "for j in [-1,0,1]:\n",
    "    for k in [-1,0,1]:\n",
    "        if k == j or k == -j:\n",
    "            continue\n",
    "        data[N//2 + j, N//2 + k] = 1\n",
    "\n",
    "    \n",
    "cmap = col.ListedColormap(['goldenrod','steelblue'])\n",
    "cmap.set_bad(color='w', alpha=0)\n",
    "    \n",
    "fig, ax = plt.subplots(1,1)\n",
    "ax.axis('off')\n",
    "\n",
    "for x in range(N+1):\n",
    "    ax.axhline(x, lw=2, color='k',zorder=5)\n",
    "    ax.axvline(x, lw=2, color='k',zorder=5)\n",
    "    \n",
    "ax.imshow(data, interpolation='none', cmap=cmap, extent=[0,N,0,N], zorder=0, alpha=1)\n",
    "\n",
    "plt.savefig('neighbor_parent.pdf',dpi=300,bbox_inches='tight')"
   ]
  },
  {
   "cell_type": "code",
   "execution_count": null,
   "metadata": {
    "collapsed": true
   },
   "outputs": [],
   "source": []
  },
  {
   "cell_type": "markdown",
   "metadata": {},
   "source": [
    "visualization of agent actions"
   ]
  },
  {
   "cell_type": "code",
   "execution_count": 2,
   "metadata": {
    "collapsed": false,
    "scrolled": false
   },
   "outputs": [
    {
     "data": {
      "image/png": "[encoded data removed]",
      "text/plain": [
       "<matplotlib.figure.Figure at 0x7f89a37dcc88>"
      ]
     },
     "metadata": {},
     "output_type": "display_data"
    }
   ],
   "source": [
    "N = 5\n",
    "\n",
    "fig, ax = plt.subplots(1,1)\n",
    "ax.axis('off')\n",
    "ax.axis('square')\n",
    "ax.set_xlim([0,N])\n",
    "ax.set_ylim([0,N])\n",
    "\n",
    "for x in range(N+1):\n",
    "    ax.axhline(x, lw=2, color='k', zorder=-5)\n",
    "    ax.axvline(x, lw=2, color='k', zorder=-5)    \n",
    "\n",
    "ax.plot(N/2,N/2,color='goldenrod',marker='o',markersize=10)\n",
    "\n",
    "xorig = [N/2]*9\n",
    "yorig = [N/2]*9\n",
    "xhead = []\n",
    "yhead = []\n",
    "\n",
    "for i in [-1,0,1]:\n",
    "    for j in [-1,0,1]:\n",
    "        xhead.append(i)\n",
    "        yhead.append(j)\n",
    "\n",
    "plt.quiver(xorig, yorig, xhead, yhead, angles='xy', scale_units='xy', scale=1, width=0.01, color='steelblue', zorder=0)\n",
    "\n",
    "plt.savefig('agent_act.pdf', dpi=300, bbox_inches='tight')"
   ]
  },
  {
   "cell_type": "code",
   "execution_count": null,
   "metadata": {
    "collapsed": true
   },
   "outputs": [],
   "source": []
  },
  {
   "cell_type": "markdown",
   "metadata": {},
   "source": [
    "visualization of agent sensor data"
   ]
  },
  {
   "cell_type": "code",
   "execution_count": 6,
   "metadata": {
    "collapsed": false,
    "scrolled": false
   },
   "outputs": [
    {
     "data": {
      "image/png": "[encoded data removed]",
      "text/plain": [
       "<matplotlib.figure.Figure at 0x7f899efa16d8>"
      ]
     },
     "metadata": {},
     "output_type": "display_data"
    }
   ],
   "source": [
    "fig, ax = plt.subplots(1,1)\n",
    "ax.axis('square')\n",
    "ax.set_xlim([1.5,5.5])\n",
    "ax.set_ylim([1,7.5])\n",
    "ax.axis('off')\n",
    "\n",
    "center = 3\n",
    "square_pos = []\n",
    "square_color = ['g','g','g','g','g','r','g','r','k']\n",
    "for dx in [-1,0,1]:\n",
    "    for dy in [-1,0,1]:\n",
    "        square_pos.append((center-0.5+dx,center-0.5+dy))\n",
    "        \n",
    "for el,c in zip(square_pos,square_color):\n",
    "    ax.add_patch(patches.Rectangle(el,1,1,alpha=0.25,edgecolor='k',facecolor=c))\n",
    "    \n",
    "ax.plot(5,7,color='red',marker='o')\n",
    "ax.text(4,6.5,r'$q_{fire}$',fontsize=16)\n",
    "ax.plot(center,center,color='blue',marker='o')\n",
    "\n",
    "plt.savefig('agent_sensor_data.jpg',dpi=300,bbox_inches='tight')"
   ]
  },
  {
   "cell_type": "code",
   "execution_count": null,
   "metadata": {
    "collapsed": true
   },
   "outputs": [],
   "source": []
  },
  {
   "cell_type": "markdown",
   "metadata": {},
   "source": [
    "visualization of agent communication"
   ]
  },
  {
   "cell_type": "code",
   "execution_count": 24,
   "metadata": {
    "collapsed": false
   },
   "outputs": [
    {
     "data": {
      "image/png": "[encoded data removed]",
      "text/plain": [
       "<matplotlib.figure.Figure at 0x7fae1e83efd0>"
      ]
     },
     "metadata": {},
     "output_type": "display_data"
    }
   ],
   "source": [
    "fig, ax = plt.subplots(1,1)\n",
    "ax.axis('square')\n",
    "ax.set_xlim([1.5,5.5])\n",
    "ax.set_ylim([1,7.5])\n",
    "ax.axis('off')\n",
    "\n",
    "ax.plot(2,2,color='r',marker='o',markersize=10)\n",
    "ax.plot(3,5,color='g',marker='o',markersize=10)\n",
    "ax.plot(5,6,color='b',marker='o',markersize=10)\n",
    "\n",
    "plt.arrow(3-0.1,5-0.2,-1+0.21,-3+0.44,shape='right',width=0.09,length_includes_head=True,alpha=0.8,ec='g',fc='g',\n",
    "          head_length=0.25)\n",
    "plt.arrow(3+0.2-0.05,5+0.1+0.05,2-0.4,1-0.2,shape='right',width=0.09,length_includes_head=True,alpha=0.8,\n",
    "          ec='g',fc='g',head_length=0.25)\n",
    "plt.arrow(5-0.2+0.05,6-0.1-0.05,-2+0.4,-1+0.2,shape='right',width=0.09,length_includes_head=True,alpha=0.8,\n",
    "          ec='b',fc='b',head_length=0.25)\n",
    "\n",
    "plt.savefig('agent_comm.png',dpi=300,bbox_inches='tight')"
   ]
  },
  {
   "cell_type": "code",
   "execution_count": null,
   "metadata": {
    "collapsed": true
   },
   "outputs": [],
   "source": []
  },
  {
   "cell_type": "markdown",
   "metadata": {
    "collapsed": true
   },
   "source": [
    "visualization of direction vectors"
   ]
  },
  {
   "cell_type": "code",
   "execution_count": 5,
   "metadata": {
    "collapsed": false
   },
   "outputs": [
    {
     "data": {
      "image/png": "[encoded data removed]",
      "text/plain": [
       "<matplotlib.figure.Figure at 0x7f899eb3af98>"
      ]
     },
     "metadata": {},
     "output_type": "display_data"
    }
   ],
   "source": [
    "fig, ax = plt.subplots(1,1)\n",
    "ax.axis('square')\n",
    "ax.set_xlim([-2,2])\n",
    "ax.set_ylim([-2,2])\n",
    "ax.axis('off')\n",
    "\n",
    "agent_pos = np.array([-1,0])\n",
    "fire_pos = np.array([1.5,1.5])\n",
    "other_pos = np.array([0.5,-1.5])\n",
    "\n",
    "ax.plot(agent_pos[0],agent_pos[1],color='goldenrod',marker='o',markersize=10)\n",
    "ax.plot(fire_pos[0],fire_pos[1],color='r',marker='o',markersize=10)\n",
    "ax.plot(other_pos[0],other_pos[1],color='b',marker='o',markersize=10)\n",
    "\n",
    "v_cen = (agent_pos - fire_pos) / np.linalg.norm(agent_pos - fire_pos)\n",
    "v_perp = np.array([v_cen[1],-v_cen[0]])\n",
    "v_oth = (agent_pos - other_pos) / np.linalg.norm(agent_pos - other_pos)\n",
    "\n",
    "plt.quiver(fire_pos[0],fire_pos[1],v_cen[0],v_cen[1], angles='xy', scale_units='xy', scale=1, width=0.01)\n",
    "plt.quiver(agent_pos[0],agent_pos[1],v_perp[0],v_perp[1], angles='xy', scale_units='xy', scale=1, width=0.01)\n",
    "plt.quiver(other_pos[0],other_pos[1],v_oth[0],v_oth[1], angles='xy', scale_units='xy', scale=1, width=0.01)\n",
    "\n",
    "ax.text(fire_pos[0]+v_cen[0],fire_pos[1]+v_cen[1]-0.25,r'$v^{\\tau}_{k,cen}$',fontsize=16)\n",
    "ax.text(agent_pos[0]+v_perp[0],agent_pos[1]+v_perp[1],r'$v^{\\tau}_{k}$',fontsize=16)\n",
    "ax.text(other_pos[0]+v_oth[0],other_pos[1]+v_oth[1],r'$w_{k}^{\\tau}$',fontsize=16)\n",
    "\n",
    "plt.savefig('direction_vectors.png',dpi=300,bbox_inches='tight')"
   ]
  },
  {
   "cell_type": "code",
   "execution_count": null,
   "metadata": {
    "collapsed": true
   },
   "outputs": [],
   "source": []
  },
  {
   "cell_type": "markdown",
   "metadata": {},
   "source": [
    "visualization of left and right actions"
   ]
  },
  {
   "cell_type": "code",
   "execution_count": 4,
   "metadata": {
    "collapsed": false,
    "scrolled": false
   },
   "outputs": [
    {
     "data": {
      "image/png": "[encoded data removed]",
      "text/plain": [
       "<matplotlib.figure.Figure at 0x7f899efe7ba8>"
      ]
     },
     "metadata": {},
     "output_type": "display_data"
    }
   ],
   "source": [
    "fig, ax = plt.subplots(1,1)\n",
    "ax.axis('square')\n",
    "ax.set_xlim([-2,2])\n",
    "ax.set_ylim([-2,2])\n",
    "ax.axis('off')\n",
    "\n",
    "agent_pos = np.array([0,0])\n",
    "act = np.array([np.sqrt(2)/2,np.sqrt(2)/2])\n",
    "# act = np.array([1,0])\n",
    "left1 = np.array([-act[1],act[0]])\n",
    "left2 = np.array([act[0]-act[1],act[0]+act[1]]) / max([np.linalg.norm(np.array([act[0]-act[1],act[0]+act[1]])),1])\n",
    "# left2 = np.array([act[0]-act[1],act[0]+act[1]]) / max([np.abs(act[0]-act[1]),np.abs(act[0]+act[1]),1])\n",
    "right = np.array([act[1],-act[0]])\n",
    "\n",
    "ax.plot(agent_pos[0],agent_pos[1],color='goldenrod',marker='o',markersize=10)\n",
    "\n",
    "plt.quiver(agent_pos[0],agent_pos[1],act[0],act[1], angles='xy',scale_units='xy',scale=1/1.5,width=0.01)\n",
    "plt.quiver(agent_pos[0],agent_pos[1],left1[0],left1[1], angles='xy',scale_units='xy',scale=1/1.5,width=0.01,color='r')\n",
    "plt.quiver(agent_pos[0],agent_pos[1],left2[0],left2[1], angles='xy',scale_units='xy',scale=1/1.5,width=0.01,color='r')\n",
    "plt.quiver(agent_pos[0],agent_pos[1],right[0],right[1], angles='xy',scale_units='xy',scale=1/1.5,width=0.01,color='b')\n",
    "\n",
    "ax.text(agent_pos[0]+act[0]+0.4,agent_pos[0]+act[1]+0.4,r'$u_{k}^{\\tau}$',fontsize=18)\n",
    "ax.text(agent_pos[0]+left1[0]-0.7,agent_pos[0]+left1[1]+0.5,r'$u_{left,1}$',fontsize=18)\n",
    "ax.text(agent_pos[0]+left2[0],agent_pos[1]+left2[1]+0.5,r'$u_{left,2}$',fontsize=18)\n",
    "ax.text(agent_pos[0]+right[0]+0.4,agent_pos[1]+right[1]-0.4,r'$u_{right}$',fontsize=18)\n",
    "\n",
    "plt.savefig('left_right.png',dpi=300,bbox_inches='tight')"
   ]
  },
  {
   "cell_type": "code",
   "execution_count": null,
   "metadata": {
    "collapsed": true
   },
   "outputs": [],
   "source": []
  },
  {
   "cell_type": "code",
   "execution_count": null,
   "metadata": {
    "collapsed": true
   },
   "outputs": [],
   "source": []
  }
 ],
 "metadata": {
  "kernelspec": {
   "display_name": "Python 3",
   "language": "python",
   "name": "python3"
  },
  "language_info": {
   "codemirror_mode": {
    "name": "ipython",
    "version": 3
   },
   "file_extension": ".py",
   "mimetype": "text/x-python",
   "name": "python",
   "nbconvert_exporter": "python",
   "pygments_lexer": "ipython3",
   "version": "3.5.2"
  }
 },
 "nbformat": 4,
 "nbformat_minor": 0
}
