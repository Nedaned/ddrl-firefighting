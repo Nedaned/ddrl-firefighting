{
 "cells": [
  {
   "cell_type": "markdown",
   "metadata": {},
   "source": [
    "## Setup"
   ]
  },
  {
   "cell_type": "code",
   "execution_count": 1,
   "metadata": {
    "collapsed": true
   },
   "outputs": [],
   "source": [
    "import torch\n",
    "import torch.nn as nn\n",
    "import torch.optim as optim\n",
    "from torch.autograd import Variable"
   ]
  },
  {
   "cell_type": "code",
   "execution_count": 2,
   "metadata": {
    "collapsed": true
   },
   "outputs": [],
   "source": [
    "import sys\n",
    "sys.path.insert(0, '/home/rhaksar/Desktop/eelfff')"
   ]
  },
  {
   "cell_type": "code",
   "execution_count": 3,
   "metadata": {
    "collapsed": true
   },
   "outputs": [],
   "source": [
    "import copy\n",
    "from datetime import datetime\n",
    "from FireSimulator import *\n",
    "from FireSimulatorUtilities import *\n",
    "import glob\n",
    "import itertools\n",
    "import matplotlib.patches as patches\n",
    "import matplotlib.pyplot as plt\n",
    "import numpy as np\n",
    "import os\n",
    "import pickle\n",
    "import time\n",
    "\n",
    "%matplotlib inline\n",
    "plt.rcParams['figure.figsize'] = (10.0, 8.0)\n",
    "plt.rcParams['image.interpolation'] = 'nearest'\n",
    "plt.rcParams['image.cmap'] = 'gray'\n",
    "\n",
    "%load_ext autoreload\n",
    "%autoreload 2"
   ]
  },
  {
   "cell_type": "code",
   "execution_count": null,
   "metadata": {
    "collapsed": true
   },
   "outputs": [],
   "source": []
  },
  {
   "cell_type": "code",
   "execution_count": null,
   "metadata": {
    "collapsed": true
   },
   "outputs": [],
   "source": []
  },
  {
   "cell_type": "markdown",
   "metadata": {},
   "source": [
    "## DQN architecture"
   ]
  },
  {
   "cell_type": "code",
   "execution_count": 4,
   "metadata": {},
   "outputs": [
    {
     "data": {
      "text/plain": [
       "True"
      ]
     },
     "execution_count": 4,
     "metadata": {},
     "output_type": "execute_result"
    }
   ],
   "source": [
    "torch.cuda.is_available()"
   ]
  },
  {
   "cell_type": "code",
   "execution_count": 5,
   "metadata": {
    "collapsed": true
   },
   "outputs": [],
   "source": [
    "dtype = torch.cuda.FloatTensor"
   ]
  },
  {
   "cell_type": "code",
   "execution_count": 6,
   "metadata": {
    "collapsed": true
   },
   "outputs": [],
   "source": [
    "class eelfff(nn.Module):\n",
    "    \n",
    "    def __init__(self, img_dim=8):\n",
    "        super(eelfff, self).__init__()\n",
    "        self.img_dim = img_dim\n",
    "        \n",
    "        # inputs: image + rot vec + id compare + pos-other_pos\n",
    "        self.net = nn.Sequential(\n",
    "                                nn.Linear(self.img_dim**2 + 2 + 1 + 2, 2048),\n",
    "                                nn.ReLU(inplace=True),\n",
    "                                nn.Linear(2048, 2048),\n",
    "                                nn.ReLU(inplace=True),\n",
    "                                nn.Linear(2048, 9)\n",
    "                            )\n",
    "\n",
    "    def forward(self, feat):\n",
    "        return self.net(feat)\n"
   ]
  },
  {
   "cell_type": "markdown",
   "metadata": {},
   "source": [
    "test network with random data"
   ]
  },
  {
   "cell_type": "code",
   "execution_count": 7,
   "metadata": {},
   "outputs": [
    {
     "name": "stdout",
     "output_type": "stream",
     "text": [
      "torch.Size([4, 9])\n",
      "237.49s = 3.96m elapsed for this test\n"
     ]
    }
   ],
   "source": [
    "tic = time.clock()\n",
    "N = 4\n",
    "img_dim = 3\n",
    "\n",
    "model = eelfff(img_dim).type(dtype)\n",
    "feat = Variable(torch.randn(N,img_dim**2+2+1+2)).type(dtype)\n",
    "Q = model(feat)\n",
    "toc = time.clock()\n",
    "\n",
    "print(Q.size())\n",
    "print(\"%0.2fs = %0.2fm elapsed for this test\" %(toc-tic,(toc-tic)/60))"
   ]
  },
  {
   "cell_type": "code",
   "execution_count": null,
   "metadata": {
    "collapsed": true
   },
   "outputs": [],
   "source": []
  },
  {
   "cell_type": "markdown",
   "metadata": {},
   "source": [
    "## load the network"
   ]
  },
  {
   "cell_type": "code",
   "execution_count": 8,
   "metadata": {
    "collapsed": true
   },
   "outputs": [],
   "source": [
    "img_dim = 3\n",
    "model = eelfff(img_dim=img_dim).type(dtype)"
   ]
  },
  {
   "cell_type": "code",
   "execution_count": 9,
   "metadata": {
    "collapsed": true
   },
   "outputs": [],
   "source": [
    "# optionally load a checkpoint to resume training\n",
    "filename = '/home/rhaksar/Desktop/eelfff/simple_ext-26-Aug-2017-15:17.pth.tar'\n",
    "\n",
    "checkpoint = torch.load(filename)\n",
    "model.load_state_dict(checkpoint['state_dict'])"
   ]
  },
  {
   "cell_type": "code",
   "execution_count": null,
   "metadata": {
    "collapsed": true
   },
   "outputs": [],
   "source": []
  },
  {
   "cell_type": "markdown",
   "metadata": {
    "collapsed": true
   },
   "source": [
    "## Benchmark network solution "
   ]
  },
  {
   "cell_type": "code",
   "execution_count": 10,
   "metadata": {
    "collapsed": true
   },
   "outputs": [],
   "source": [
    "results = []"
   ]
  },
  {
   "cell_type": "code",
   "execution_count": 11,
   "metadata": {
    "collapsed": true
   },
   "outputs": [],
   "source": [
    "grid_size = 50\n",
    "num_agents = 100\n",
    "\n",
    "x = math.ceil(grid_size / 2)\n",
    "deltas = [q for q in range(-5,5,1)]\n",
    "neighbors = itertools.product(deltas,deltas)\n",
    "fire_init = []\n",
    "for (dx,dy) in neighbors:\n",
    "    xn = x + dx\n",
    "    yn = x + dy\n",
    "    fire_init.append((xn,yn))\n",
    "\n",
    "dp = 0.15/0.2763\n",
    "repeat_lim = 6\n",
    "center = (grid_size+1)/2\n",
    "spawn_loc = np.arange(grid_size//3//2,grid_size,grid_size//3)\n",
    "perturbs = np.arange(-grid_size//3//2+1,grid_size//3//2+1,1)\n",
    "\n",
    "seeds = range(1000)\n",
    "\n",
    "sim = FireSimulator(grid_size, fire_init=fire_init)"
   ]
  },
  {
   "cell_type": "code",
   "execution_count": null,
   "metadata": {
    "scrolled": true
   },
   "outputs": [
    {
     "name": "stdout",
     "output_type": "stream",
     "text": [
      "finished 10 simulations\n",
      "finished 20 simulations\n",
      "finished 30 simulations\n",
      "finished 40 simulations\n",
      "finished 50 simulations\n",
      "finished 60 simulations\n",
      "finished 70 simulations\n",
      "finished 80 simulations\n",
      "finished 90 simulations\n",
      "finished 100 simulations\n",
      "finished 110 simulations\n",
      "finished 120 simulations\n"
     ]
    }
   ],
   "source": [
    "tic = time.clock()\n",
    "for i,s in enumerate(seeds):\n",
    "    np.random.seed(1000+s)\n",
    "\n",
    "    # initialize simulator\n",
    "    sim = FireSimulator(grid_size, rng=s, fire_init=fire_init)\n",
    "    sim.step([]) # start fire in domain\n",
    "    num_init_fires = len(sim.fires)\n",
    "\n",
    "    # initialize agent position\n",
    "    n = num_agents\n",
    "    agent_pos = np.random.choice(spawn_loc, (n,2)) + np.random.choice(perturbs, (n,2))\n",
    "    agent_pos = np.squeeze(agent_pos).astype(np.int32)\n",
    "    agent_data = {}\n",
    "    for k in range(n):\n",
    "        agent_data[k] = {}\n",
    "        agent_data[k]['sf'] = False\n",
    "\n",
    "    control = []\n",
    "    repeat_ctr = 1\n",
    "\n",
    "    new_agent_pos = np.zeros((n,2)).astype(np.int32)\n",
    "\n",
    "    while not sim.end:\n",
    "        # calculate action for each agent\n",
    "        for k in range(n):\n",
    "            img, img_st, _ = CreateImageBW(sim.state, agent_pos[k,:])\n",
    "            if img_st[8//2,8//2] in [1,2]:\n",
    "                agent_data[k]['sf'] = True                \n",
    "\n",
    "            dists = [(np.linalg.norm(agent_pos[k,:]-p,2),j,p) for j,p in enumerate(agent_pos) if j!=k]\n",
    "            min_dist, min_id, min_pos = min(dists)                \n",
    "                \n",
    "            if not agent_data[k]['sf']:\n",
    "                \n",
    "                dists = []\n",
    "                for idx,a in enumerate([2,5,7,4,1,3,8,6]):\n",
    "                    new_pos = actions_to_trajectory(agent_pos[k,:],[a])[1]\n",
    "                    incntv = -(8-idx)*0.1\n",
    "                    dists.append((np.abs(center-new_pos[0])+np.abs(center-new_pos[1])+incntv,new_pos,a))\n",
    "\n",
    "                score, pos, action = min(dists)\n",
    "                traj = actions_to_trajectory(agent_pos[k,:], [action])\n",
    "\n",
    "            else:\n",
    "                rot_vec = agent_pos[k,:] - center\n",
    "                rot_vec = rot_vec / np.linalg.norm(rot_vec,2)\n",
    "                rot_vec = np.array([rot_vec[1],-rot_vec[0]])\n",
    "\n",
    "                pos_vec = agent_pos[k,:] - min_pos\n",
    "                if pos_vec[0]!=0 and pos_vec[1]!= 0:\n",
    "                    pos_vec = pos_vec / np.linalg.norm(pos_vec,2)\n",
    "\n",
    "                state = np.concatenate((img[3:6,3:6].reshape((img_dim**2,)), rot_vec, \n",
    "                                        np.asarray(k>min_id)[np.newaxis], pos_vec))\n",
    "            \n",
    "                state = Variable(torch.from_numpy(state)).type(dtype)\n",
    "                Q = model(state.unsqueeze(0))[0].data.cpu().numpy()\n",
    "                action = np.argmax(Q)\n",
    "                traj = actions_to_trajectory(agent_pos[k,:], [action])\n",
    "\n",
    "            # generate control from trajectory\n",
    "            control.extend(FindGridIntersections(sim.state, traj)) \n",
    "            control = list(set(control))\n",
    "\n",
    "            # update agent location\n",
    "            new_agent_pos[k,:] = [traj[-1][0], traj[-1][1]]\n",
    "\n",
    "        # update simulator periodically \n",
    "        if repeat_ctr % repeat_lim == 0:\n",
    "            sim.step(control, dbeta=dp)\n",
    "            control = []\n",
    "        repeat_ctr += 1\n",
    "\n",
    "        # update agent position\n",
    "        agent_pos = new_agent_pos\n",
    "        new_agent_pos = np.zeros((n,2)).astype(np.int32)\n",
    "\n",
    "    if (i+1) % 10 == 0:\n",
    "        print(\"finished %d simulations\" % (i+1))\n",
    "    \n",
    "    # store simulation result\n",
    "    results.append(sim.stats[2]/np.sum(sim.stats)) # fraction of burned trees\n",
    "\n",
    "toc = time.clock()\n",
    "print(\"%0.2fs = %0.2fm elapsed\" % (toc-tic,(toc-tic)/60))"
   ]
  },
  {
   "cell_type": "code",
   "execution_count": 27,
   "metadata": {},
   "outputs": [
    {
     "data": {
      "text/plain": [
       "<matplotlib.legend.Legend at 0x7fec75d9dbe0>"
      ]
     },
     "execution_count": 27,
     "metadata": {},
     "output_type": "execute_result"
    },
    {
     "data": {
      "image/png": "[encoded data removed]",
      "text/plain": [
       "<matplotlib.figure.Figure at 0x7fec75e82390>"
      ]
     },
     "metadata": {},
     "output_type": "display_data"
    }
   ],
   "source": [
    "plt.figure()\n",
    "weights = np.ones_like(results)/float(len(results))\n",
    "splits, _, _ = plt.hist(results, bins=np.arange(0,1+0.05,0.05), normed=False, weights=weights)\n",
    "plt.axvline(np.amin(results),color=\"C2\",label=\"min = %0.2f%%\" % (np.amin(results)*100))\n",
    "plt.axvline(np.mean(results),color=\"C1\",label=\"mean = %0.2f%%\" %(np.mean(results)*100))\n",
    "plt.axvline(np.amax(results),color=\"C3\",label=\"max = %0.2f%%\" %(np.amax(results)*100))\n",
    "\n",
    "plt.ylim([0,1])\n",
    "plt.xticks(np.arange(0,1+0.05,0.05))\n",
    "plt.xlabel('fraction of forest burned down')\n",
    "plt.ylabel('normalized count')\n",
    "plt.title('DEEP Q-NETWORK\\ngrid size: %d; number of agents: %d\\nnumber of simulations: %d' %(grid_size,n,len(results)))\n",
    "plt.legend(loc=1)\n",
    "\n",
    "# plt.savefig('network_guided (110-1000).png', bbox_inches='tight')"
   ]
  },
  {
   "cell_type": "code",
   "execution_count": 28,
   "metadata": {},
   "outputs": [
    {
     "data": {
      "text/plain": [
       "array([ 0.,  0.,  0.,  0.,  0.,  0.,  0.,  0.,  0.,  0.,  0.,  0.,  0.,\n",
       "        0.,  0.,  0.,  0.,  0.,  0.,  1.])"
      ]
     },
     "execution_count": 28,
     "metadata": {},
     "output_type": "execute_result"
    }
   ],
   "source": [
    "splits"
   ]
  },
  {
   "cell_type": "code",
   "execution_count": 29,
   "metadata": {},
   "outputs": [
    {
     "data": {
      "text/plain": [
       "0.98440000000000005"
      ]
     },
     "execution_count": 29,
     "metadata": {},
     "output_type": "execute_result"
    }
   ],
   "source": [
    "np.mean(results)"
   ]
  },
  {
   "cell_type": "code",
   "execution_count": null,
   "metadata": {
    "collapsed": true
   },
   "outputs": [],
   "source": [
    "with open('simple_ext_%d+%d+%d+%d.pkl' %(grid_size,num_agents,num_init_fires,len(seeds)), 'wb') as fp:\n",
    "    pickle.dump(results, fp)"
   ]
  },
  {
   "cell_type": "code",
   "execution_count": null,
   "metadata": {
    "collapsed": true
   },
   "outputs": [],
   "source": []
  },
  {
   "cell_type": "code",
   "execution_count": 26,
   "metadata": {},
   "outputs": [
    {
     "name": "stdout",
     "output_type": "stream",
     "text": [
      "fraction of wins: 100.00\n",
      "win mean: 1.60\n"
     ]
    }
   ],
   "source": [
    "win_results = [x for x in results if x <= np.mean(results)]\n",
    "print('fraction of wins: %0.2f' % (100.0*len(win_results)/len(results)))\n",
    "print('win mean: %0.2f' %(np.mean(win_results)*100))"
   ]
  },
  {
   "cell_type": "code",
   "execution_count": null,
   "metadata": {
    "collapsed": true
   },
   "outputs": [],
   "source": []
  }
 ],
 "metadata": {
  "kernelspec": {
   "display_name": "Python 3",
   "language": "python",
   "name": "python3"
  },
  "language_info": {
   "codemirror_mode": {
    "name": "ipython",
    "version": 3
   },
   "file_extension": ".py",
   "mimetype": "text/x-python",
   "name": "python",
   "nbconvert_exporter": "python",
   "pygments_lexer": "ipython3",
   "version": "3.5.2"
  }
 },
 "nbformat": 4,
 "nbformat_minor": 2
}
