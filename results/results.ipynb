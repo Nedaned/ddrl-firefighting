{
 "cells": [
  {
   "cell_type": "code",
   "execution_count": 1,
   "metadata": {
    "collapsed": false
   },
   "outputs": [],
   "source": [
    "from matplotlib.ticker import FormatStrFormatter\n",
    "import matplotlib.pyplot as plt\n",
    "import numpy as np\n",
    "import pickle\n",
    "\n",
    "%matplotlib inline\n",
    "plt.rcParams['figure.figsize'] = (10.0, 8.0)\n",
    "plt.rcParams.update({'font.size': 16})"
   ]
  },
  {
   "cell_type": "code",
   "execution_count": 2,
   "metadata": {
    "collapsed": true
   },
   "outputs": [],
   "source": [
    "with open('simple_ext_50+50+16+1000.pkl', 'rb') as fb:\n",
    "    results = pickle.load(fb)"
   ]
  },
  {
   "cell_type": "code",
   "execution_count": 3,
   "metadata": {
    "collapsed": false
   },
   "outputs": [
    {
     "data": {
      "image/png": "[encoded data removed]",
      "text/plain": [
       "<matplotlib.figure.Figure at 0x7f394b5fce80>"
      ]
     },
     "metadata": {},
     "output_type": "display_data"
    }
   ],
   "source": [
    "fig = plt.figure()\n",
    "fig.subplots_adjust(left=0,right=1,bottom=0,top=1)\n",
    "ax = fig.add_subplot(111, aspect='equal')\n",
    "weights = np.ones_like(results)/float(len(results))\n",
    "splits, _, _ = plt.hist(results, bins=np.arange(0,1+0.05,0.05), normed=False, weights=weights, color='C0', alpha=1)\n",
    "plt.axvline(np.amin(results),color=\"C2\",label=\"%0.2f%%\" % (np.amin(results)*100))\n",
    "plt.axvline(np.mean(results),color=\"C1\",label=\"mean = %0.2f%%\" %(np.mean(results)*100))\n",
    "plt.axvline(np.amax(results),color=\"C3\",label=\"max = %0.2f%%\" %(np.amax(results)*100))\n",
    "\n",
    "plt.ylim([0,1])\n",
    "plt.xticks(np.arange(0,1+0.05,0.05))\n",
    "plt.xlabel('fraction of forest burned down')\n",
    "plt.ylabel('normalized count')\n",
    "\n",
    "ax.xaxis.set_major_formatter(FormatStrFormatter('%g'))\n",
    "for idx,label in enumerate(ax.xaxis.get_ticklabels()):\n",
    "    if idx % 2 != 0:\n",
    "        label.set_visible(False)\n",
    "# for idx,tick in enumerate(ax.xaxis.get_major_ticks()):\n",
    "#     if idx % 2 != 0:\n",
    "#         tick.set_visible(False)\n",
    "# plt.legend(loc=1)\n",
    "\n",
    "#plt.savefig('sample_results.pdf', dpi=300, bbox_inches='tight')"
   ]
  },
  {
   "cell_type": "code",
   "execution_count": null,
   "metadata": {
    "collapsed": true
   },
   "outputs": [],
   "source": []
  },
  {
   "cell_type": "code",
   "execution_count": 4,
   "metadata": {
    "collapsed": false
   },
   "outputs": [
    {
     "name": "stdout",
     "output_type": "stream",
     "text": [
      "fraction of wins: 82.90\n",
      "win mean: 2.54\n"
     ]
    }
   ],
   "source": [
    "win_results = [x for x in results if x <= np.mean(results)]\n",
    "print('fraction of wins: %0.2f' % (100.0*len(win_results)/len(results)))\n",
    "print('win mean: %0.2f' %(np.mean(win_results)*100))"
   ]
  },
  {
   "cell_type": "code",
   "execution_count": null,
   "metadata": {
    "collapsed": true
   },
   "outputs": [],
   "source": []
  },
  {
   "cell_type": "code",
   "execution_count": null,
   "metadata": {
    "collapsed": true
   },
   "outputs": [],
   "source": []
  }
 ],
 "metadata": {
  "kernelspec": {
   "display_name": "Python 3",
   "language": "python",
   "name": "python3"
  },
  "language_info": {
   "codemirror_mode": {
    "name": "ipython",
    "version": 3
   },
   "file_extension": ".py",
   "mimetype": "text/x-python",
   "name": "python",
   "nbconvert_exporter": "python",
   "pygments_lexer": "ipython3",
   "version": "3.5.2"
  }
 },
 "nbformat": 4,
 "nbformat_minor": 0
}
