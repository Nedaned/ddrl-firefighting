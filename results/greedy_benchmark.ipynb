{
 "cells": [
  {
   "cell_type": "markdown",
   "metadata": {},
   "source": [
    "## Setup"
   ]
  },
  {
   "cell_type": "code",
   "execution_count": 1,
   "metadata": {
    "collapsed": true
   },
   "outputs": [],
   "source": [
    "import sys\n",
    "sys.path.insert(0, '/home/ravi/Desktop/eelfff')"
   ]
  },
  {
   "cell_type": "code",
   "execution_count": 2,
   "metadata": {
    "collapsed": true
   },
   "outputs": [],
   "source": [
    "import copy\n",
    "from datetime import datetime\n",
    "from FireSimulator import *\n",
    "from FireSimulatorUtilities import *\n",
    "import glob\n",
    "import itertools\n",
    "import matplotlib.patches as patches\n",
    "import matplotlib.pyplot as plt\n",
    "import numpy as np\n",
    "import os\n",
    "import pickle\n",
    "import time\n",
    "\n",
    "%matplotlib inline\n",
    "plt.rcParams['figure.figsize'] = (10.0, 8.0)\n",
    "plt.rcParams['image.interpolation'] = 'nearest'\n",
    "plt.rcParams['image.cmap'] = 'gray'\n",
    "\n",
    "%load_ext autoreload\n",
    "%autoreload 2"
   ]
  },
  {
   "cell_type": "code",
   "execution_count": null,
   "metadata": {
    "collapsed": true
   },
   "outputs": [],
   "source": []
  },
  {
   "cell_type": "markdown",
   "metadata": {},
   "source": [
    "## Greedy method"
   ]
  },
  {
   "cell_type": "code",
   "execution_count": 10,
   "metadata": {
    "collapsed": true
   },
   "outputs": [],
   "source": [
    "fire_neigh = [(-1,0),(1,0),(0,-1),(0,1)]"
   ]
  },
  {
   "cell_type": "code",
   "execution_count": 11,
   "metadata": {
    "collapsed": true
   },
   "outputs": [],
   "source": [
    "def heuristic(sim, size_control):\n",
    "    action = []\n",
    "    grid_size = sim.grid_size\n",
    "    center = (grid_size+1)//2\n",
    "    cc = x_to_col(center)\n",
    "    center_idx = np.asscalar(np.ravel_multi_index(np.array([[cc],[cc]]),(grid_size,grid_size),order='F'))\n",
    "    fires = sim.fires\n",
    "    scores = {}\n",
    "    for s in range(5):\n",
    "        scores[s] = []\n",
    "        \n",
    "    for (x,y) in fires:\n",
    "        rf = y_to_row(grid_size,y)\n",
    "        cf = x_to_col(x)\n",
    "        \n",
    "        counter = 0\n",
    "        for (dr,dc) in fire_neigh:\n",
    "            rn = rf + dr\n",
    "            cn = cf + dc\n",
    "            if rn>=0 and rn<grid_size and cn>=0 and cn<grid_size and sim.state[rn,cn] in [0]:\n",
    "                counter += 1\n",
    "                \n",
    "        #e = np.ravel_multi_index(np.array([[rf],[cf]]),(grid_size,grid_size),order='F')\n",
    "        #scores[counter].append(np.asscalar(e))\n",
    "        scores[counter].append((x,y))\n",
    "        \n",
    "    using_set = 4\n",
    "    while(len(action) < size_control):\n",
    "        if using_set >= 0:\n",
    "            if not scores[using_set]:\n",
    "                using_set += -1\n",
    "                continue\n",
    "\n",
    "            for e in scores[using_set]:\n",
    "                action.append(e)\n",
    "\n",
    "                if len(action) >= size_control:\n",
    "                    break\n",
    "                    \n",
    "            using_set += -1\n",
    "    \n",
    "        else:\n",
    "            action.append(center_idx)\n",
    "            \n",
    "    return action"
   ]
  },
  {
   "cell_type": "code",
   "execution_count": null,
   "metadata": {
    "collapsed": true
   },
   "outputs": [],
   "source": []
  },
  {
   "cell_type": "markdown",
   "metadata": {},
   "source": [
    "## Benchmark greedy solution"
   ]
  },
  {
   "cell_type": "code",
   "execution_count": 79,
   "metadata": {
    "collapsed": true
   },
   "outputs": [],
   "source": [
    "results = []"
   ]
  },
  {
   "cell_type": "code",
   "execution_count": 80,
   "metadata": {
    "collapsed": true
   },
   "outputs": [],
   "source": [
    "grid_size = 50\n",
    "num_control = 100\n",
    "seeds = range(1000)\n",
    "\n",
    "dp = 0.15/0.2763\n",
    "\n",
    "x = math.ceil(grid_size / 2)\n",
    "deltas = [q for q in range(-5,5,1)]\n",
    "neighbors = itertools.product(deltas,deltas)\n",
    "fire_init = []\n",
    "for (dx,dy) in neighbors:\n",
    "    xn = x + dx\n",
    "    yn = x + dy\n",
    "    fire_init.append((xn,yn))"
   ]
  },
  {
   "cell_type": "code",
   "execution_count": 81,
   "metadata": {
    "collapsed": false
   },
   "outputs": [
    {
     "name": "stdout",
     "output_type": "stream",
     "text": [
      "finished 100 simulations\n",
      "finished 200 simulations\n",
      "finished 300 simulations\n",
      "finished 400 simulations\n",
      "finished 500 simulations\n",
      "finished 600 simulations\n",
      "finished 700 simulations\n",
      "finished 800 simulations\n",
      "finished 900 simulations\n",
      "finished 1000 simulations\n",
      "7.58s = 0.13m elapsed\n"
     ]
    }
   ],
   "source": [
    "tic = time.clock()\n",
    "# run simulator many times\n",
    "for i,s in enumerate(seeds):\n",
    "    np.random.seed(1000+s)\n",
    "    \n",
    "    # initialize simulator\n",
    "    sim = FireSimulator(grid_size, rng=s, fire_init=fire_init)\n",
    "    \n",
    "    #sim = FireSimulator(grid_size, rng=s)\n",
    "    #sim.step([]) # start fire in domain\n",
    "    \n",
    "    num_init_fires = len(sim.fires)\n",
    "    \n",
    "    seed_rew = 0\n",
    "    control = []\n",
    "    \n",
    "    while not sim.end:\n",
    "        # generate state\n",
    "        state = sim.state.reshape((grid_size**2, ))\n",
    "        \n",
    "        # get action and reward\n",
    "        control = heuristic(sim, num_control)\n",
    "        \n",
    "        # apply action and update simulator\n",
    "        sim.step(control, dbeta=dp)\n",
    "        control = []\n",
    "        \n",
    "        if sim.end:\n",
    "            continue\n",
    "                            \n",
    "    if (i+1) % 100 == 0:\n",
    "        print(\"finished %d simulations\" % (i+1))\n",
    "    \n",
    "    # store simulation result\n",
    "    results.append(sim.stats[2]/np.sum(sim.stats)) # fraction of burned trees\n",
    "    \n",
    "toc = time.clock()\n",
    "print(\"%0.2fs = %0.2fm elapsed\" % (toc-tic,(toc-tic)/60))"
   ]
  },
  {
   "cell_type": "code",
   "execution_count": 82,
   "metadata": {
    "collapsed": false
   },
   "outputs": [
    {
     "data": {
      "text/plain": [
       "<matplotlib.legend.Legend at 0x7fc1b7ca74e0>"
      ]
     },
     "execution_count": 82,
     "metadata": {},
     "output_type": "execute_result"
    },
    {
     "data": {
      "image/png": "[encoded data removed]",
      "text/plain": [
       "<matplotlib.figure.Figure at 0x7fc1b7f8fbe0>"
      ]
     },
     "metadata": {},
     "output_type": "display_data"
    }
   ],
   "source": [
    "plt.figure()\n",
    "weights = np.ones_like(results)/float(len(results))\n",
    "splits, _, _ = plt.hist(results, bins=np.arange(0,1+0.05,0.05), normed=False, weights=weights)\n",
    "plt.axvline(np.amin(results),color=\"C2\",label=\"min = %0.2f%%\" % (np.amin(results)*100))\n",
    "plt.axvline(np.mean(results),color=\"C1\",label=\"mean = %0.2f%%\" %(np.mean(results)*100))\n",
    "plt.axvline(np.amax(results),color=\"C3\",label=\"max = %0.2f%%\" %(np.amax(results)*100))\n",
    "\n",
    "plt.ylim([0,1])\n",
    "plt.xticks(np.arange(0,1+0.05,0.05))\n",
    "plt.xlabel('fraction of forest burned down')\n",
    "plt.ylabel('normalized count')\n",
    "plt.title('GREEDY\\ngrid size: %d\\nnumber of simulations: %d' %(grid_size,len(results)))\n",
    "plt.legend(loc=1)\n",
    "\n",
    "# plt.savefig('greedy.png', bbox_inches='tight')"
   ]
  },
  {
   "cell_type": "code",
   "execution_count": 83,
   "metadata": {
    "collapsed": false
   },
   "outputs": [
    {
     "data": {
      "text/plain": [
       "array([ 0.006,  0.899,  0.093,  0.002,  0.   ,  0.   ,  0.   ,  0.   ,\n",
       "        0.   ,  0.   ,  0.   ,  0.   ,  0.   ,  0.   ,  0.   ,  0.   ,\n",
       "        0.   ,  0.   ,  0.   ,  0.   ])"
      ]
     },
     "execution_count": 83,
     "metadata": {},
     "output_type": "execute_result"
    }
   ],
   "source": [
    "splits"
   ]
  },
  {
   "cell_type": "code",
   "execution_count": 84,
   "metadata": {
    "collapsed": false
   },
   "outputs": [
    {
     "data": {
      "text/plain": [
       "0.076543200000000006"
      ]
     },
     "execution_count": 84,
     "metadata": {},
     "output_type": "execute_result"
    }
   ],
   "source": [
    "np.mean(results)"
   ]
  },
  {
   "cell_type": "code",
   "execution_count": 85,
   "metadata": {
    "collapsed": false
   },
   "outputs": [],
   "source": [
    "with open('greedy_%d+%d+%d+%d.pkl' %(grid_size,num_control,num_init_fires,len(seeds)), 'wb') as fp:\n",
    "    pickle.dump(results, fp)"
   ]
  },
  {
   "cell_type": "code",
   "execution_count": 86,
   "metadata": {
    "collapsed": false
   },
   "outputs": [
    {
     "name": "stdout",
     "output_type": "stream",
     "text": [
      "fraction of wins: 1.00\n",
      "win mean: 7.65\n"
     ]
    }
   ],
   "source": [
    "if np.amax(results)<=0.90:\n",
    "    print('fraction of wins: 1.00')\n",
    "    print('win mean: %0.2f' %(np.mean(results)*100))\n",
    "else:\n",
    "    win_results = [x for x in results if x <= np.mean(results)]\n",
    "    print('fraction of wins: %0.2f' % (100.0*len(win_results)/len(results)))\n",
    "    print('win mean: %0.2f' %(np.mean(win_results)*100))"
   ]
  },
  {
   "cell_type": "code",
   "execution_count": null,
   "metadata": {
    "collapsed": true
   },
   "outputs": [],
   "source": []
  },
  {
   "cell_type": "code",
   "execution_count": null,
   "metadata": {
    "collapsed": true
   },
   "outputs": [],
   "source": []
  }
 ],
 "metadata": {
  "kernelspec": {
   "display_name": "Python 3",
   "language": "python",
   "name": "python3"
  },
  "language_info": {
   "codemirror_mode": {
    "name": "ipython",
    "version": 3
   },
   "file_extension": ".py",
   "mimetype": "text/x-python",
   "name": "python",
   "nbconvert_exporter": "python",
   "pygments_lexer": "ipython3",
   "version": "3.5.2"
  }
 },
 "nbformat": 4,
 "nbformat_minor": 0
}
