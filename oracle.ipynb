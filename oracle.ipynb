{
 "cells": [
  {
   "cell_type": "markdown",
   "metadata": {},
   "source": [
    "## Setup"
   ]
  },
  {
   "cell_type": "code",
   "execution_count": 1,
   "metadata": {
    "collapsed": true
   },
   "outputs": [],
   "source": [
    "import copy\n",
    "from datetime import datetime\n",
    "from FireSimulator import *\n",
    "from FireSimulatorUtilities import *\n",
    "import glob\n",
    "import itertools\n",
    "import matplotlib.patches as patches\n",
    "import matplotlib.pyplot as plt\n",
    "import numpy as np\n",
    "import os\n",
    "import pickle\n",
    "import sys\n",
    "import time\n",
    "import timeit\n",
    "\n",
    "%matplotlib inline\n",
    "plt.rcParams['figure.figsize'] = (10.0, 8.0)\n",
    "plt.rcParams['image.interpolation'] = 'nearest'\n",
    "plt.rcParams['image.cmap'] = 'gray'\n",
    "\n",
    "%load_ext autoreload\n",
    "%autoreload 2"
   ]
  },
  {
   "cell_type": "code",
   "execution_count": null,
   "metadata": {
    "collapsed": true
   },
   "outputs": [],
   "source": []
  },
  {
   "cell_type": "markdown",
   "metadata": {},
   "source": [
    "## Oracle solution"
   ]
  },
  {
   "cell_type": "markdown",
   "metadata": {},
   "source": [
    "Benchmark oracle solution by running many simulations"
   ]
  },
  {
   "cell_type": "code",
   "execution_count": 140,
   "metadata": {
    "collapsed": true
   },
   "outputs": [],
   "source": [
    "# simulator parameters\n",
    "grid_size = 50\n",
    "dp = 0.15/0.2763\n",
    "repeat_ctr = 1\n",
    "repeat_lim = 6\n",
    "center = (grid_size+1)/2\n",
    "\n",
    "# agent initialization parameters\n",
    "spawn_loc = np.arange(grid_size//3//2,grid_size,grid_size//3)\n",
    "perturbs = np.arange(-grid_size//3//2+1,grid_size//3//2+1,1)\n",
    "\n",
    "fire_neigh = [(-1,0),(1,0),(0,-1),(0,1)]"
   ]
  },
  {
   "cell_type": "code",
   "execution_count": 153,
   "metadata": {
    "collapsed": true
   },
   "outputs": [],
   "source": [
    "seeds = range(1000)\n",
    "\n",
    "results = []"
   ]
  },
  {
   "cell_type": "code",
   "execution_count": 154,
   "metadata": {
    "scrolled": false
   },
   "outputs": [
    {
     "name": "stdout",
     "output_type": "stream",
     "text": [
      "finished 10 simulations\n",
      "finished 20 simulations\n",
      "finished 30 simulations\n",
      "finished 40 simulations\n",
      "finished 50 simulations\n",
      "finished 60 simulations\n",
      "finished 70 simulations\n",
      "finished 80 simulations\n",
      "finished 90 simulations\n",
      "finished 100 simulations\n",
      "finished 110 simulations\n",
      "finished 120 simulations\n",
      "finished 130 simulations\n",
      "finished 140 simulations\n",
      "finished 150 simulations\n",
      "finished 160 simulations\n",
      "finished 170 simulations\n",
      "finished 180 simulations\n",
      "finished 190 simulations\n",
      "finished 200 simulations\n",
      "finished 210 simulations\n",
      "finished 220 simulations\n",
      "finished 230 simulations\n",
      "finished 240 simulations\n",
      "finished 250 simulations\n",
      "finished 260 simulations\n",
      "finished 270 simulations\n",
      "finished 280 simulations\n",
      "finished 290 simulations\n",
      "finished 300 simulations\n",
      "finished 310 simulations\n",
      "finished 320 simulations\n",
      "finished 330 simulations\n",
      "finished 340 simulations\n",
      "finished 350 simulations\n",
      "finished 360 simulations\n",
      "finished 370 simulations\n",
      "finished 380 simulations\n",
      "finished 390 simulations\n",
      "finished 400 simulations\n",
      "finished 410 simulations\n",
      "finished 420 simulations\n",
      "finished 430 simulations\n",
      "finished 440 simulations\n",
      "finished 450 simulations\n",
      "finished 460 simulations\n",
      "finished 470 simulations\n",
      "finished 480 simulations\n",
      "finished 490 simulations\n",
      "finished 500 simulations\n",
      "finished 510 simulations\n",
      "finished 520 simulations\n",
      "finished 530 simulations\n",
      "finished 540 simulations\n",
      "finished 550 simulations\n",
      "finished 560 simulations\n",
      "finished 570 simulations\n",
      "finished 580 simulations\n",
      "finished 590 simulations\n",
      "finished 600 simulations\n",
      "finished 610 simulations\n",
      "finished 620 simulations\n",
      "finished 630 simulations\n",
      "finished 640 simulations\n",
      "finished 650 simulations\n",
      "finished 660 simulations\n",
      "finished 670 simulations\n",
      "finished 680 simulations\n",
      "finished 690 simulations\n",
      "finished 700 simulations\n",
      "finished 710 simulations\n",
      "finished 720 simulations\n",
      "finished 730 simulations\n",
      "finished 740 simulations\n",
      "finished 750 simulations\n",
      "finished 760 simulations\n",
      "finished 770 simulations\n",
      "finished 780 simulations\n",
      "finished 790 simulations\n",
      "finished 800 simulations\n",
      "finished 810 simulations\n",
      "finished 820 simulations\n",
      "finished 830 simulations\n",
      "finished 840 simulations\n",
      "finished 850 simulations\n",
      "finished 860 simulations\n",
      "finished 870 simulations\n",
      "finished 880 simulations\n",
      "finished 890 simulations\n",
      "finished 900 simulations\n",
      "finished 910 simulations\n",
      "finished 920 simulations\n",
      "finished 930 simulations\n",
      "finished 940 simulations\n",
      "finished 950 simulations\n",
      "finished 960 simulations\n",
      "finished 970 simulations\n",
      "finished 980 simulations\n",
      "finished 990 simulations\n",
      "finished 1000 simulations\n",
      "996.02s = 16.60m elapsed\n"
     ]
    }
   ],
   "source": [
    "tic = time.clock()\n",
    "for i,s in enumerate(seeds):\n",
    "    np.random.seed(1000+s)\n",
    "\n",
    "    # initialize simulator\n",
    "    sim = FireSimulator(grid_size, rng=s)\n",
    "    sim.step([]) # start fire in domain\n",
    "\n",
    "    # initialize agent position\n",
    "    n = 10\n",
    "    agent_pos = np.random.choice(spawn_loc, (n,2)) + np.random.choice(perturbs, (n,2))\n",
    "    agent_pos = np.squeeze(agent_pos).astype(np.int32)\n",
    "    agent_data = {}\n",
    "    for k in range(n):\n",
    "        agent_data[k] = {}\n",
    "        agent_data[k]['sf'] = False\n",
    "\n",
    "    control = []\n",
    "    repeat_ctr = 1\n",
    "\n",
    "    new_agent_pos = np.zeros((n,2)).astype(np.int32)\n",
    "                    \n",
    "    bdry = []\n",
    "    #for (x,y) in sim.fires:\n",
    "    for r in range(grid_size):\n",
    "        for c in range(grid_size):\n",
    "            if sim.state[r,c] in [1,2]:\n",
    "                ctr = 0\n",
    "                for (dr,dc) in fire_neigh:\n",
    "                    rn = r + dr\n",
    "                    cn = c + dc\n",
    "                    if rn>=0 and rn<grid_size and cn>=0 and cn<grid_size and sim.state[rn,cn] in [0]:\n",
    "                        ctr += 1\n",
    "                        break\n",
    "                        \n",
    "                if ctr>0:\n",
    "                    x = col_to_x(c)\n",
    "                    y = row_to_y(grid_size,r)\n",
    "                    bdry.append((x,y))\n",
    "\n",
    "        #ctr = 0\n",
    "        #r = y_to_row(grid_size,y)\n",
    "        #c = x_to_col(x)\n",
    "        #for (dr,dc) in fire_neigh:\n",
    "        #    rn = r + dr\n",
    "        #    cn = c + dc\n",
    "        #    if rn>=0 and rn<grid_size and cn>=0 and cn<grid_size and sim.state[rn,cn] in [0]:\n",
    "        #        ctr += 1\n",
    "        #        break\n",
    "\n",
    "        #if ctr > 0:\n",
    "        #    bdry.append((x,y))  \n",
    "                      \n",
    "    while not sim.end:\n",
    "        # calculate action for each agent\n",
    "        for k in range(n):\n",
    "            img, img_st, _ = CreateImageBW(sim.state, agent_pos[k,:])\n",
    "            if img_st[8//2,8//2] in [1,2]:\n",
    "                agent_data[k]['sf'] = True                \n",
    "\n",
    "            if not agent_data[k]['sf']:\n",
    "                dists = []\n",
    "                for a in range(9):\n",
    "                    new_pos = actions_to_trajectory(agent_pos[k,:],[a])[1]\n",
    "                    dists.append((np.abs(center-new_pos[0])+np.abs(center-new_pos[1]),new_pos,a))\n",
    "                    \n",
    "                _, new_pos, action = min(dists)\n",
    "                traj = []\n",
    "                traj.append((agent_pos[k,:][0],agent_pos[k,:][1]))\n",
    "                traj.append((new_pos[0],new_pos[1]))\n",
    "                    \n",
    "                #control.extend(FindGridIntersections(sim.state, traj))\n",
    "                new_agent_pos[k,:] = [traj[-1][0], traj[-1][1]]\n",
    "                    \n",
    "            else:\n",
    "                #if not bdry:\n",
    "                #    continue\n",
    "\n",
    "                #idxs = np.random.choice(len(bdry), replace=True)\n",
    "                #control.extend(bdry[idxs])\n",
    "                \n",
    "                new_agent_pos[k,:] = agent_pos[k,:]\n",
    "\n",
    "        # generate control from trajectory\n",
    "        # control = list(set(control))\n",
    "\n",
    "        # update simulator periodically                \n",
    "        if repeat_ctr % repeat_lim == 0:\n",
    "            ctr = 0\n",
    "            for k in range(n):\n",
    "                if agent_data[k]['sf']:\n",
    "                    ctr += 1\n",
    "                    \n",
    "            if ctr>0 and len(bdry) <= ctr*repeat_lim:\n",
    "                control = bdry\n",
    "            elif ctr>0:\n",
    "                idxs = np.random.choice(len(bdry), size=ctr*repeat_lim, replace=True)\n",
    "                for j in idxs:\n",
    "                    control.append(bdry[j])\n",
    "               \n",
    "            control = list(set(control))\n",
    "            \n",
    "            #print(ctr,\" \",len(control),\" \",len(bdry),\" \",sim.stats)\n",
    "            sim.step(control, dbeta=dp)\n",
    "            control = []\n",
    "            \n",
    "            bdry = []\n",
    "            #for (x,y) in sim.fires:\n",
    "            for r in range(grid_size):\n",
    "                for c in range(grid_size):\n",
    "                    if sim.state[r,c] in [1,2]:\n",
    "                        ctr = 0\n",
    "                        for (dr,dc) in fire_neigh:\n",
    "                            rn = r + dr\n",
    "                            cn = c + dc\n",
    "                            if rn>=0 and rn<grid_size and cn>=0 and cn<grid_size and sim.state[rn,cn] in [0]:\n",
    "                                ctr += 1\n",
    "                                break\n",
    "\n",
    "                        if ctr>0:\n",
    "                            x = col_to_x(c)\n",
    "                            y = row_to_y(grid_size,r)\n",
    "                            bdry.append((x,y))\n",
    "            \n",
    "                \n",
    "        repeat_ctr += 1\n",
    "\n",
    "        # update agent position\n",
    "        agent_pos = new_agent_pos\n",
    "        new_agent_pos = np.zeros((n,2)).astype(np.int32)\n",
    "\n",
    "    if (i+1) % 10 == 0:\n",
    "        print(\"finished %d simulations\" % (i+1))\n",
    "    \n",
    "    # store simulation result\n",
    "    results.append(sim.stats[2]/np.sum(sim.stats)) # fraction of burned trees\n",
    "\n",
    "toc = time.clock()\n",
    "print(\"%0.2fs = %0.2fm elapsed\" % (toc-tic,(toc-tic)/60))"
   ]
  },
  {
   "cell_type": "code",
   "execution_count": 158,
   "metadata": {},
   "outputs": [
    {
     "data": {
      "image/png": "[encoded data removed]",
      "text/plain": [
       "<matplotlib.figure.Figure at 0x7fa04d691c88>"
      ]
     },
     "metadata": {},
     "output_type": "display_data"
    }
   ],
   "source": [
    "plt.figure()\n",
    "weights = np.ones_like(results)/float(len(results))\n",
    "splits, _, _ = plt.hist(results, bins=np.arange(0,1+0.05,0.05), normed=False, weights=weights)\n",
    "plt.axvline(np.mean(results),color=\"C1\",label=\"mean\")\n",
    "plt.axvline(np.percentile(results,0),color=\"C2\",label=\"min\")\n",
    "plt.axvline(np.percentile(results,100),color=\"C3\",label=\"max\")\n",
    "\n",
    "plt.ylim([0,1])\n",
    "plt.xticks(np.arange(0,1+0.05,0.05))\n",
    "plt.xlabel('fraction of forest burned down')\n",
    "plt.ylabel('normalized count')\n",
    "plt.title('ORACLE\\ngrid size: %d; number of agents: %d\\nnumber of simulations: %d' %(grid_size,n,len(results)))\n",
    "# plt.legend(loc=1)\n",
    "\n",
    "plt.savefig('oracle.png', bbox_inches='tight')"
   ]
  },
  {
   "cell_type": "code",
   "execution_count": 159,
   "metadata": {},
   "outputs": [
    {
     "data": {
      "text/plain": [
       "array([ 0.893,  0.022,  0.004,  0.   ,  0.001,  0.   ,  0.   ,  0.   ,\n",
       "        0.   ,  0.   ,  0.   ,  0.   ,  0.   ,  0.001,  0.   ,  0.   ,\n",
       "        0.   ,  0.001,  0.05 ,  0.028])"
      ]
     },
     "execution_count": 159,
     "metadata": {},
     "output_type": "execute_result"
    }
   ],
   "source": [
    "splits"
   ]
  },
  {
   "cell_type": "code",
   "execution_count": 160,
   "metadata": {},
   "outputs": [
    {
     "data": {
      "text/plain": [
       "0.097791200000000009"
      ]
     },
     "execution_count": 160,
     "metadata": {},
     "output_type": "execute_result"
    }
   ],
   "source": [
    "np.mean(results)"
   ]
  },
  {
   "cell_type": "code",
   "execution_count": null,
   "metadata": {
    "collapsed": true
   },
   "outputs": [],
   "source": []
  },
  {
   "cell_type": "code",
   "execution_count": null,
   "metadata": {
    "collapsed": true
   },
   "outputs": [],
   "source": []
  }
 ],
 "metadata": {
  "kernelspec": {
   "display_name": "Python 3",
   "language": "python",
   "name": "python3"
  },
  "language_info": {
   "codemirror_mode": {
    "name": "ipython",
    "version": 3
   },
   "file_extension": ".py",
   "mimetype": "text/x-python",
   "name": "python",
   "nbconvert_exporter": "python",
   "pygments_lexer": "ipython3",
   "version": "3.5.2"
  }
 },
 "nbformat": 4,
 "nbformat_minor": 1
}
