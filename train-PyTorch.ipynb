{
 "cells": [
  {
   "cell_type": "markdown",
   "metadata": {},
   "source": [
    "## Setup"
   ]
  },
  {
   "cell_type": "code",
   "execution_count": 1,
   "metadata": {
    "collapsed": true
   },
   "outputs": [],
   "source": [
    "import torch\n",
    "import torch.nn as nn\n",
    "import torch.optim as optim\n",
    "from torch.autograd import Variable\n",
    "from torch.utils.data import DataLoader\n",
    "from torch.utils.data import sampler\n",
    "\n",
    "import torchvision.datasets as dset\n",
    "import torchvision.transforms as T\n",
    "\n",
    "import numpy as np\n",
    "\n",
    "import timeit"
   ]
  },
  {
   "cell_type": "code",
   "execution_count": 2,
   "metadata": {
    "collapsed": true
   },
   "outputs": [],
   "source": [
    "import copy\n",
    "from datetime import datetime\n",
    "from FireSimulator import *\n",
    "from FireSimulatorUtilities import *\n",
    "import glob\n",
    "import itertools\n",
    "import matplotlib.patches as patches\n",
    "import matplotlib.pyplot as plt\n",
    "import os\n",
    "import pickle\n",
    "import time\n",
    "\n",
    "%matplotlib inline\n",
    "plt.rcParams['figure.figsize'] = (10.0, 8.0)\n",
    "plt.rcParams['image.interpolation'] = 'nearest'\n",
    "plt.rcParams['image.cmap'] = 'gray'\n",
    "\n",
    "%load_ext autoreload\n",
    "%autoreload 2"
   ]
  },
  {
   "cell_type": "markdown",
   "metadata": {},
   "source": [
    "## Utility functions"
   ]
  },
  {
   "cell_type": "code",
   "execution_count": 3,
   "metadata": {
    "collapsed": true
   },
   "outputs": [],
   "source": [
    "class Flatten(nn.Module):\n",
    "    def forward(self, x):\n",
    "        N, C, H, W = x.size() \n",
    "        return x.view(N, -1)"
   ]
  },
  {
   "cell_type": "code",
   "execution_count": 4,
   "metadata": {
    "collapsed": true
   },
   "outputs": [],
   "source": [
    "def heuristic_trajectory(pos, center, num_actions, img_st, hasfire, control):\n",
    "    trajectory = []\n",
    "    actions = []\n",
    "    trajectory.append((pos[0],pos[1]))\n",
    "    img_dim = img_st.shape[0]\n",
    "    \n",
    "    if hasfire:\n",
    "        fires_r, fires_c = np.where(img_st==1)\n",
    "        neighbors = [(-1,0),(1,0),(0,1),(0,-1)]\n",
    "        fire = []\n",
    "        bdry = []\n",
    "        for r,c in zip(fires_r,fires_c):\n",
    "            counter = 0\n",
    "            for (dr,dc) in neighbors:\n",
    "                rn = r + dr\n",
    "                cn = c + dc\n",
    "                if rn>=0 and rn<img_dim and cn>=0 and cn<img_dim and img_st[rn,cn] == 0:\n",
    "                    counter += 1\n",
    "                    \n",
    "            x = col_to_x(c) - img_dim//2 + pos[0]\n",
    "            y = row_to_y(img_dim,r) - img_dim//2 + pos[1]\n",
    "            if counter >= 2 and (x,y) not in control:\n",
    "                bdry.append((x,y))\n",
    "            elif (x,y) not in control:\n",
    "                fire.append((x,y))\n",
    "                \n",
    "        target = None\n",
    "        using_bdry = False\n",
    "        if len(bdry) > 0:\n",
    "            dists = [(np.abs(x-pos[0])+np.abs(y-pos[1]),(x,y)) for (x,y) in bdry]\n",
    "            using_bdry = True\n",
    "            target = min(dists)[1]\n",
    "        elif len(fire) > 0:\n",
    "            dists = [(np.abs(x-pos[0])+np.abs(y-pos[1]),(x,y)) for (x,y) in fire]\n",
    "            target = min(dists)[1]\n",
    "        else:\n",
    "            target = trajectory[-1]\n",
    "    \n",
    "        while len(trajectory) < num_actions+1:\n",
    "            loc = trajectory[-1]\n",
    "            if loc == target:\n",
    "                if using_bdry:\n",
    "                    bdry.remove(target)\n",
    "                elif len(fire) > 0:\n",
    "                    fire.remove(target)\n",
    "                    \n",
    "                target = None\n",
    "                using_bdry = False\n",
    "                if len(bdry) > 0:\n",
    "                    dists = [(np.abs(x-loc[0])+np.abs(y-loc[1]),(x,y)) for (x,y) in bdry]\n",
    "                    target = min(dists)[1]\n",
    "                    using_bdry = True\n",
    "                elif len(fire) > 0:\n",
    "                    dists = [(np.abs(x-loc[0])+np.abs(y-loc[1]),(x,y)) for (x,y) in fire]\n",
    "                    target = min(dists)[1]\n",
    "                else:\n",
    "                    target = trajectory[-1]\n",
    "                    \n",
    "            dists = []\n",
    "            for a in range(9):\n",
    "                new_loc = actions_to_trajectory(trajectory[-1],[a])[1]\n",
    "                dists.append((np.abs(new_loc[0]-target[0])+np.abs(new_loc[1]-target[1]),new_loc,a))\n",
    "                \n",
    "            trajectory.append(min(dists)[1])\n",
    "            actions.append(min(dists)[2])\n",
    "            #print(trajectory)\n",
    "        \n",
    "    else:\n",
    "        for k in range(num_actions):\n",
    "            dists = []\n",
    "            for a in range(9):\n",
    "                new_loc = actions_to_trajectory(trajectory[-1],[a])[1]\n",
    "                dists.append((np.abs(center-new_loc[0])+np.abs(center-new_loc[1]),new_loc,a))\n",
    "            \n",
    "            trajectory.append(min(dists)[1])\n",
    "            actions.append(min(dists)[2])\n",
    "            \n",
    "    return trajectory, actions"
   ]
  },
  {
   "cell_type": "markdown",
   "metadata": {},
   "source": [
    "## Load data"
   ]
  },
  {
   "cell_type": "code",
   "execution_count": 5,
   "metadata": {
    "collapsed": true
   },
   "outputs": [],
   "source": [
    "# directory = os.path.join(os.getcwd(), 'data')\n",
    "\n",
    "# pattern = os.path.join(directory,'states_seed_*')\n",
    "\n",
    "# data = {}\n",
    "# k = 0\n",
    "# total_states = 0\n",
    "# for file in glob.glob(pattern):\n",
    "#     fh = open(file, 'rb')\n",
    "#     sub_data = pickle.load(fh)\n",
    "#     data[k] = sub_data\n",
    "#     fh.close()\n",
    "#     k += 1\n",
    "#     total_states += sub_data.shape[0]\n",
    "    \n",
    "# print('loaded %d sims from file' %(k))\n",
    "# print('for a total of %d states' %(total_states))"
   ]
  },
  {
   "cell_type": "markdown",
   "metadata": {},
   "source": [
    "## Network datatype [cpu/gpu]"
   ]
  },
  {
   "cell_type": "code",
   "execution_count": 6,
   "metadata": {
    "collapsed": false
   },
   "outputs": [
    {
     "data": {
      "text/plain": [
       "True"
      ]
     },
     "execution_count": 6,
     "metadata": {},
     "output_type": "execute_result"
    }
   ],
   "source": [
    "torch.cuda.is_available()"
   ]
  },
  {
   "cell_type": "code",
   "execution_count": 7,
   "metadata": {
    "collapsed": true
   },
   "outputs": [],
   "source": [
    "#dtype = torch.FloatTensor\n",
    "dtype = torch.cuda.FloatTensor"
   ]
  },
  {
   "cell_type": "markdown",
   "metadata": {},
   "source": [
    "## Build the network"
   ]
  },
  {
   "cell_type": "code",
   "execution_count": 8,
   "metadata": {
    "collapsed": true
   },
   "outputs": [],
   "source": [
    "class eelfff_net(nn.Module):\n",
    "    \"\"\"\n",
    "    network to approximate Q function\n",
    "    \"\"\"\n",
    "    def __init__(self, act_seq=6, img_dim=8):\n",
    "        self.act_seq = act_seq\n",
    "        self.img_dim = img_dim\n",
    "        self.num_poss_actions = 9\n",
    "        \n",
    "        C, H, W = 1, img_dim, img_dim\n",
    "        hidden_dim = 1024\n",
    "        \n",
    "        # conv layer settings\n",
    "        nf1 = 32; nf2 = 64; nf3 = 64;\n",
    "        fs1 = 4; fs2 = 3; fs3 = 2;\n",
    "        cv_s1 = 1; cv_s2 = 1; cv_s3 = 1;\n",
    "        cv_p1 = 0; cv_p2 = 0; cv_p3 = 0;\n",
    "        \n",
    "        # pool layer settings\n",
    "        #p_sz1 = 4; p_sz2 = 2\n",
    "        #p_st1 = 1; p_st2 = 1\n",
    "        \n",
    "        # calculate affine layer size\n",
    "        Hp1 = 1 + (H + 2*cv_p1 - fs1) // cv_s1\n",
    "        Wp1 = Hp1\n",
    "        #Hpp1 = 1 + (Hp1 - p_sz1) // p_st1\n",
    "        #Wpp1 = Hpp1\n",
    "        \n",
    "        Hp2 = 1 + (Hp1 + 2*cv_p2 - fs2) // cv_s2\n",
    "        Wp2 = Hp2\n",
    "        #Hpp2 = 1 + (Hp2 - p_sz2) // p_st2\n",
    "        #Wpp2 = Hpp2\n",
    "        \n",
    "        Hp3 = 1 + (Hp2 + 2*cv_p3 - fs3) // cv_s3\n",
    "        Wp3 = Hp3        \n",
    "        \n",
    "        #aff_flat_size = nf2*Hpp2*Wpp2 + 2*act_seq\n",
    "        # image + other trajectory + center + has fire \n",
    "        aff_flat_size = nf3*Hp3*Wp3 + 2*(act_seq+1) + 2 + 1\n",
    "        \n",
    "        #print(Hp1)\n",
    "        #print(Hp2)\n",
    "        #print(Hp3)\n",
    "        \n",
    "        super(eelfff_net, self).__init__()\n",
    "        # cnn structure\n",
    "        self.cnn = nn.Sequential(\n",
    "                        nn.Conv2d(C, nf1, kernel_size=fs1, stride=cv_s1, padding=cv_p1),\n",
    "                        nn.ReLU(inplace=True),\n",
    "                        nn.Conv2d(nf1, nf2, kernel_size=fs2, stride=cv_s2, padding=cv_p2),\n",
    "                        nn.ReLU(inplace=True),\n",
    "                        nn.Conv2d(nf2, nf3, kernel_size=fs3, stride=cv_s3, padding=cv_p3),\n",
    "                        nn.ReLU(inplace=True),\n",
    "                        #nn.MaxPool2d(p_sz1,stride=p_st1),\n",
    "                        #nn.Conv2d(nf1, nf2, kernel_size=fs2, stride=cv_s2, padding=cv_p2),\n",
    "                        #nn.ReLU(inplace=True),\n",
    "                        #nn.MaxPool2d(p_sz2,stride=p_st2),\n",
    "                        Flatten()\n",
    "                    )\n",
    "        \n",
    "        # nonlinear structure\n",
    "        self.aff = nn.Sequential(\n",
    "                        nn.Linear(aff_flat_size, hidden_dim),\n",
    "                        nn.ReLU(inplace=True),\n",
    "                        #nn.Linear(hidden_dim, self.num_poss_actions*act_seq),\n",
    "                        nn.Linear(hidden_dim, self.num_poss_actions)\n",
    "                    )\n",
    "        \n",
    "    def forward(self, img, act, center, hasfire):\n",
    "        img_exp = img.unsqueeze(0)\n",
    "        img_exp = img_exp.unsqueeze(0)\n",
    "        act_exp = act.unsqueeze(0)\n",
    "        cen_exp = center.unsqueeze(0)\n",
    "        hsf_exp = hasfire.unsqueeze(0)\n",
    "        feat = self.cnn(img_exp)\n",
    "        feat = torch.cat((feat, act_exp, cen_exp, hsf_exp), dim=1)\n",
    "        Q = self.aff(feat)\n",
    "        \n",
    "        #return Q.view(N,self.num_poss_actions,self.act_seq)\n",
    "        return Q.view(N,self.num_poss_actions,-1)"
   ]
  },
  {
   "cell_type": "markdown",
   "metadata": {},
   "source": [
    "test implementation of network with random data"
   ]
  },
  {
   "cell_type": "code",
   "execution_count": 9,
   "metadata": {
    "collapsed": false
   },
   "outputs": [
    {
     "name": "stdout",
     "output_type": "stream",
     "text": [
      "torch.Size([1, 9, 1])\n",
      "469.28s = 7.82m elapsed for this test\n"
     ]
    }
   ],
   "source": [
    "tic = time.clock()\n",
    "N = 1\n",
    "img_dim = 8\n",
    "act_seq = 3\n",
    "model = eelfff_net(act_seq, img_dim).type(dtype)\n",
    "\n",
    "img = torch.randn(img_dim,img_dim).type(dtype)\n",
    "act = torch.randn(2*(act_seq+1)).type(dtype)\n",
    "center = torch.randn(2).type(dtype)\n",
    "hasfire = (True*torch.ones(1)).type(dtype)\n",
    "\n",
    "img_var = Variable(img)\n",
    "act_var = Variable(act)\n",
    "center_var = Variable(center)\n",
    "hasfire_var = Variable(hasfire)\n",
    "\n",
    "Q = model(img_var, act_var, center_var, hasfire_var)\n",
    "toc = time.clock()\n",
    "\n",
    "print(Q.size())\n",
    "print(\"%0.2fs = %0.2fm elapsed for this test\" %(toc-tic,(toc-tic)/60))"
   ]
  },
  {
   "cell_type": "markdown",
   "metadata": {
    "collapsed": true
   },
   "source": [
    "## Define a reward function"
   ]
  },
  {
   "cell_type": "code",
   "execution_count": 10,
   "metadata": {
    "collapsed": true
   },
   "outputs": [],
   "source": [
    "# def eelfff_reward(states, trajs, fire_flags, other_trajs):\n",
    "#     N = len(states)\n",
    "#     grid_size = states[0].shape[0]\n",
    "#     center = math.ceil(grid_size/2)\n",
    "#     neighbors = [(-1,0),(0,-1),(1,0),(0,1)]\n",
    "#     #reward = Variable(torch.zeros(1), requires_grad=True).type(dtype)\n",
    "#     reward = 0\n",
    "    \n",
    "#     for n in range(N):\n",
    "#         st = states[n]\n",
    "#         traj = trajs[n]\n",
    "#         other_traj = other_trajs[n]\n",
    "#         has_fires = fire_flags[n]\n",
    "#         n_rew = 0\n",
    "        \n",
    "#         # reward for treating fires and boundary fires\n",
    "#         # that weren't already treated by the agent\n",
    "#         if False and has_fires:\n",
    "#             treated = []\n",
    "#             for (x,y) in traj:\n",
    "#                 r = y_to_row(grid_size,y)\n",
    "#                 c = x_to_col(x)\n",
    "\n",
    "#                 # reward for treating a fire\n",
    "#                 if r>=0 and r<grid_size and c>=0 and c<grid_size and st[r,c]==1 and (x,y) not in treated:\n",
    "#                     n_rew += 0.1\n",
    "\n",
    "#                     counter = 0 \n",
    "#                     for (dc,dr) in neighbors:\n",
    "#                         rn = r + dr\n",
    "#                         cn = c + dc\n",
    "#                         if rn>=0 and rn<grid_size and cn>=0 and cn<grid_size and st[rn,cn] == 0:\n",
    "#                             counter += 1\n",
    "\n",
    "#                     # bonus for treating a boundary fire\n",
    "#                     if counter >= 2:\n",
    "#                         n_rew += 0.1\n",
    "#                     #    print('treated a boundary fire')\n",
    "#                     #else:\n",
    "#                     #    print('treated a normal fire')\n",
    "                        \n",
    "#                     treated.append((x,y))\n",
    "                \n",
    "#                 #elif (x,y) in treated:\n",
    "#                 #    n_rew += -3\n",
    "#                 #\n",
    "#                 #else:\n",
    "#                 #    n_rew += -1\n",
    "#                 else:\n",
    "#                     n_rew -= 1\n",
    "           \n",
    "#         # reward for approaching center [if no fires in image]\n",
    "#         # else:\n",
    "#         #x_end, y_end = traj[-1]\n",
    "#         #n_rew -= np.abs(x_end-center) + np.abs(y_end-center)\n",
    "\n",
    "#         for k in range(len(traj)-1):\n",
    "#             x1, y1 = traj[k]\n",
    "#             x2, y2 = traj[k+1]\n",
    "#             #if np.abs(x2-center)+np.abs(y2-center) < np.abs(x1-center)+np.abs(y1-center):\n",
    "#             #    reward += 1.0/(len(traj)-1)\n",
    "#             #    #print('made it closer to the center')\n",
    "\n",
    "#             if np.abs(x2-center)+np.abs(y2-center) >= np.abs(x1-center)+np.abs(y1-center):\n",
    "#                 n_rew += -1\n",
    "#             elif np.abs(x2-center)+np.abs(y2-center) < np.abs(x1-center)+np.abs(y1-center):\n",
    "#                 n_rew += 0.1\n",
    "    \n",
    "#         # penalty for intersecting with 'nearest agent'\n",
    "#         if not set(traj).isdisjoint(other_traj):\n",
    "#             #reward += -2*len(set(traj).intersection(other_traj))\n",
    "#             n_rew -= 1\n",
    "#             #print('intersected with a friends path :(')\n",
    "#         else:\n",
    "#             n_rew += 0.1\n",
    "            \n",
    "#         reward += n_rew\n",
    "    \n",
    "#     return reward/N"
   ]
  },
  {
   "cell_type": "code",
   "execution_count": 11,
   "metadata": {
    "collapsed": true
   },
   "outputs": [],
   "source": [
    "# tic = time.clock()\n",
    "\n",
    "# states = np.zeros((3,5,5)).astype(np.uint8)\n",
    "# states[:,2,2] = 1\n",
    "# trajs = []\n",
    "# trajs.append([(5,5),(5,5),(4,4)])\n",
    "# trajs.append([(3,3),(3,3),(3,3)])\n",
    "# trajs.append([(5,5),(4,4),(3,3)])\n",
    "# other_trajs = []\n",
    "# other_trajs.append([(1,1),(1,2),(1,1)])\n",
    "# other_trajs.append([(1,1),(1,2),(1,3)])\n",
    "# other_trajs.append([(1,1),(2,2),(3,3)])\n",
    "# fire_flags = [False, True, True]\n",
    "\n",
    "# reward = eelfff_reward(states, trajs, fire_flags, other_trajs)\n",
    "# print('minibatch reward: %0.2f' %reward)\n",
    "\n",
    "# toc = time.clock()\n",
    "# print(\"%0.2fs = %0.2fm elapsed for this test\" %(toc-tic,(toc-tic)/60))"
   ]
  },
  {
   "cell_type": "code",
   "execution_count": 65,
   "metadata": {
    "collapsed": true
   },
   "outputs": [],
   "source": [
    "def eelfff_reward(state, traj, other_traj, curr_ctrl):\n",
    "    grid_size = state.shape[0]\n",
    "    center = math.ceil(grid_size/2)\n",
    "    fire_neigh = [(-1,0),(0,-1),(1,0),(0,1)]\n",
    "    move_neigh = [(-1,0),(0,0),(1,0),(-1,1),(0,1),(1,1),(-1,-1),(0,-1),(1,-1)]\n",
    "    reward = 0\n",
    "    \n",
    "    #print(traj)\n",
    "    #print(other_traj)\n",
    "    #print(set(traj).isdisjoint(other_traj))\n",
    "    #5/0\n",
    "    \n",
    "    #for idx, (x,y) in traj:   \n",
    "    for k in range(len(traj)-1):\n",
    "        x1, y1 = traj[k]\n",
    "        x2, y2 = traj[k+1]\n",
    "        \n",
    "        near_fire = False\n",
    "        for (dx,dy) in move_neigh:\n",
    "            r = y_to_row(grid_size,y1+dy)\n",
    "            c = x_to_col(x1+dx)\n",
    "            \n",
    "            if r>=0 and r<grid_size and c>=0 and c<grid_size and state[r,c]==1:\n",
    "                near_fire = True\n",
    "                break\n",
    "        \n",
    "        #print(near_fire)\n",
    "        if near_fire:\n",
    "            r = y_to_row(grid_size,y2)\n",
    "            c = x_to_col(x2)\n",
    "            \n",
    "            if r>=0 and r<grid_size and c>=0 and c<grid_size and state[r,c]==1 and (x2,y2) not in curr_ctrl:\n",
    "                counter = 0 \n",
    "                for (dc,dr) in fire_neigh:\n",
    "                    rn = r + dr\n",
    "                    cn = c + dc\n",
    "                    if rn>=0 and rn<grid_size and cn>=0 and cn<grid_size and state[rn,cn]==0:\n",
    "                        counter += 1\n",
    "                        \n",
    "                if counter >= 2:\n",
    "                    #print('treated boundary')\n",
    "                    reward += 0.5\n",
    "                else:\n",
    "                    #print('treated interior fire')\n",
    "                    reward += 0.1\n",
    "                #else:\n",
    "                #    #print('did not treat boundary fire')\n",
    "                #    reward -= 1\n",
    "            else:\n",
    "                #print('failed to treat fire OR tried to double treat; state value: ', state[r,c])\n",
    "                reward -= 1\n",
    "            \n",
    "        elif np.abs(x2-center)+np.abs(y2-center) < np.abs(x1-center)+np.abs(y1-center):\n",
    "            #print('moved closer to center')\n",
    "            reward += 0.5\n",
    "        else:\n",
    "            #if near_fire:\n",
    "            #    print('failed to treat any fire')\n",
    "            #else:\n",
    "            #    print('failed to move closer')\n",
    "            reward -= 1\n",
    "            \n",
    "    # penalty for intersecting with 'nearest agent'\n",
    "    if not set(traj).isdisjoint(other_traj):\n",
    "        #reward += -2*len(set(traj).intersection(other_traj))\n",
    "        #print('failed to cooperate')\n",
    "        reward = -1\n",
    "    else:\n",
    "        reward += 0.5\n",
    "\n",
    "        \n",
    "    return reward"
   ]
  },
  {
   "cell_type": "markdown",
   "metadata": {},
   "source": [
    "test reward function with random data"
   ]
  },
  {
   "cell_type": "code",
   "execution_count": 66,
   "metadata": {
    "collapsed": false
   },
   "outputs": [
    {
     "name": "stdout",
     "output_type": "stream",
     "text": [
      "reward: 1.50\n",
      "0.00s = 0.00m elapsed for this test\n"
     ]
    }
   ],
   "source": [
    "tic = time.clock()\n",
    "\n",
    "state = np.zeros((5,5)).astype(np.uint8)\n",
    "state[2,2] = 1\n",
    "traj = [(5,5),(4,4),(3,3)]\n",
    "other_traj = [(1,1),(1,2),(1,1)]\n",
    "curr_ctrl = []\n",
    "\n",
    "reward = eelfff_reward(state, traj, other_traj, curr_ctrl)\n",
    "print('reward: %0.2f' %reward)\n",
    "\n",
    "toc = time.clock()\n",
    "print(\"%0.2fs = %0.2fm elapsed for this test\" %(toc-tic,(toc-tic)/60))"
   ]
  },
  {
   "cell_type": "markdown",
   "metadata": {},
   "source": [
    "## Train the network"
   ]
  },
  {
   "cell_type": "code",
   "execution_count": 69,
   "metadata": {
    "collapsed": true
   },
   "outputs": [],
   "source": [
    "# simulator and network parameters\n",
    "grid_size = 50\n",
    "num_agents = [2,5,10]\n",
    "D = []\n",
    "memory_size = 100000 #1000000\n",
    "min_exp_size = 10 #100\n",
    "dp = 0.15/0.2763\n",
    "act_seq = 1\n",
    "act_repeat = 6\n",
    "other_act_seq = act_repeat//2\n",
    "img_dim = 8\n",
    "center = math.ceil(grid_size/2)\n",
    "cen_var = Variable(center*torch.ones(2)).type(dtype)\n",
    "\n",
    "# agent initialization parameters\n",
    "spawn_loc = np.arange(grid_size//3//2,grid_size,grid_size//3)\n",
    "perturbs = np.arange(-grid_size//3//2+1,grid_size//3//2+1,1)\n",
    "\n",
    "# create network instance\n",
    "model = eelfff_net(act_seq=other_act_seq, img_dim=img_dim).type(dtype)\n",
    "target = eelfff_net(act_seq=other_act_seq, img_dim=img_dim).type(dtype)\n",
    "updt_max = 100 #500\n",
    "dqn_updt_cntr = 1\n",
    "\n",
    "# optimizer and its parameters\n",
    "gamma = 0.95\n",
    "eps_init = 1\n",
    "eps_finl = 0.1\n",
    "epsilon = eps_init #0.15 \n",
    "anneal_range = 100000 #1000000\n",
    "batch_size = 32\n",
    "optimizer = torch.optim.Adam(model.parameters(), lr=1e-4)\n",
    "\n",
    "# loss function\n",
    "loss_fn = torch.nn.MSELoss(size_average=False)\n",
    "\n",
    "# plotting data\n",
    "plot_avg_rew = []\n",
    "plot_frac_burn = []"
   ]
  },
  {
   "cell_type": "code",
   "execution_count": 70,
   "metadata": {
    "collapsed": true
   },
   "outputs": [],
   "source": [
    "# img = torch.zeros(img_dim,img_dim)\n",
    "# act = torch.zeros(2*(act_seq+1))\n",
    "# empty_img_var = Variable(img).type(dtype)\n",
    "# empty_traj_var = Variable(act).type(dtype)"
   ]
  },
  {
   "cell_type": "markdown",
   "metadata": {},
   "source": [
    "optionally load a model/target/optimizer checkpoint"
   ]
  },
  {
   "cell_type": "code",
   "execution_count": 71,
   "metadata": {
    "collapsed": true
   },
   "outputs": [],
   "source": [
    "# filename = 'checkpoint-02-Aug-2017-03:26.pth.tar'\n",
    "\n",
    "# checkpoint = torch.load(filename)\n",
    "# model.load_state_dict(checkpoint['state_dict'])\n",
    "# target.load_state_dict(checkpoint['target_dict'])\n",
    "# optimizer.load_state_dict(checkpoint['optimizer'])\n",
    "# D = checkpoint['replay']\n",
    "# epsilon = checkpoint['epsilon']\n",
    "# plot_avg_rew = checkpoint['plot_reward']\n",
    "# plot_frac_burn = checkpoint['plot_frac_hlthy'] "
   ]
  },
  {
   "cell_type": "code",
   "execution_count": 74,
   "metadata": {
    "collapsed": true
   },
   "outputs": [],
   "source": [
    "num_agents = [6]\n",
    "#seeds = range(99)\n",
    "seeds = [1,1,1,1,1]"
   ]
  },
  {
   "cell_type": "code",
   "execution_count": 81,
   "metadata": {
    "collapsed": false,
    "scrolled": false
   },
   "outputs": [
    {
     "name": "stdout",
     "output_type": "stream",
     "text": [
      "seed 001 - average reward: -3.69\n",
      "           episode stats: [  24    0 2476], 0.009600\n",
      "seed 001 - average reward: -2.82\n",
      "           episode stats: [  19    0 2481], 0.007600\n",
      "seed 001 - average reward: -3.75\n",
      "           episode stats: [   9    0 2491], 0.003600\n",
      "seed 001 - average reward: -3.39\n",
      "           episode stats: [  39    0 2461], 0.015600\n",
      "seed 001 - average reward: -2.88\n",
      "           episode stats: [  36    0 2464], 0.014400\n",
      "325.99s = 5.43m elapsed\n"
     ]
    }
   ],
   "source": [
    "tic = time.clock()\n",
    "# run simulator many times\n",
    "for s in seeds:\n",
    "    np.random.seed(s)\n",
    "    \n",
    "    # initialize simulator\n",
    "    sim = FireSimulator(grid_size, rng=s)\n",
    "    \n",
    "    # initialize agent positions\n",
    "    n = np.squeeze(np.random.choice(num_agents, 1))\n",
    "    agent_pos = np.random.choice(spawn_loc, (n,2)) + np.random.choice(perturbs, (n,2))\n",
    "    agent_pos = agent_pos.astype(np.int32)\n",
    "    \n",
    "    ep_rew = 0\n",
    "    \n",
    "    control = []\n",
    "    repeat_cntr = 1\n",
    "        \n",
    "    # run to termination\n",
    "    while not sim.end:\n",
    "        \n",
    "        #control = []\n",
    "        new_agent_pos = np.zeros((n,2)).astype(np.int32)\n",
    "        agent_data = {}\n",
    "        #print(agent_pos)\n",
    "        \n",
    "        # generate control for each agent\n",
    "        for k in range(n):\n",
    "            agent_data[k] = {}\n",
    "            \n",
    "            # generate and save image\n",
    "            img, img_st, hasfire = CreateImageBW(sim.state, agent_pos[k,:])\n",
    "            img_var = Variable(torch.from_numpy(img)).type(dtype)\n",
    "            hasfire_var = Variable(hasfire*torch.ones(1)).type(dtype)\n",
    "            agent_data[k]['img'] = img_var\n",
    "            agent_data[k]['hasfire'] = hasfire_var\n",
    "\n",
    "            # find nearest neighbor and their trajectory, and save it\n",
    "            dists = [(np.linalg.norm(agent_pos[k,:]-pos,1),i) for i,pos in enumerate(agent_pos) if i != k]\n",
    "            min_idx = min(dists)[1]\n",
    "            other_img, other_img_st, other_hasfire = CreateImageBW(sim.state, agent_pos[min_idx,:])\n",
    "            other_traj, _ = heuristic_trajectory(agent_pos[min_idx,:], center, other_act_seq, other_img_st, other_hasfire, control)\n",
    "            other_traj_var = Variable(torch.from_numpy(np.asarray(other_traj).reshape((-1,)))).type(dtype)\n",
    "            agent_data[k]['other_traj'] = other_traj_var\n",
    "            \n",
    "            # epsilon-greedy action choice: either random/heuristic or use network\n",
    "            # also generate trajectory\n",
    "            pos_cen_var = Variable(torch.from_numpy(agent_pos[k,:])).type(dtype) - cen_var\n",
    "            agent_data[k]['pos_cen'] = pos_cen_var\n",
    "                            \n",
    "            if np.random.sample() <= epsilon:\n",
    "                #actions = np.random.randint(0, high=9, size=(act_seq,))\n",
    "                traj, actions = heuristic_trajectory(agent_pos[k,:], center, act_seq, img_st, hasfire, control)\n",
    "                actions = np.asarray(actions)\n",
    "                #print('chose random/heuristic actions')\n",
    "            else:\n",
    "                #img_var = empty_img_var\n",
    "                #other_traj_var = empty_traj_var\n",
    "                Q = model(img_var, other_traj_var, pos_cen_var, hasfire_var)[0].data.cpu().numpy()\n",
    "                #print(\"range of Q values: %f to %f\" %(np.amin(Q),np.amax(Q)))\n",
    "                \n",
    "                actions = np.argmax(Q,axis=0)\n",
    "                traj = actions_to_trajectory(agent_pos[k,:], actions)\n",
    "                \n",
    "            agent_data[k]['actions'] = actions \n",
    "            \n",
    "            # generate control from trajectory\n",
    "            control.extend(FindGridIntersections(sim.state, traj))\n",
    "\n",
    "            # calculate and store reward for agent\n",
    "            #reward = eelfff_reward([sim.state], [traj], [hasfire], [other_traj])\n",
    "            reward = eelfff_reward(sim.state, traj, other_traj, control)\n",
    "            agent_data[k]['reward'] = reward\n",
    "            #print(reward)\n",
    "            ep_rew += reward\n",
    "                        \n",
    "            # store agent's new position\n",
    "            new_agent_pos[k,:] = [traj[-1][0], traj[-1][1]]\n",
    "            \n",
    "            #print(other_traj)\n",
    "            #print(actions)\n",
    "            #print(traj)\n",
    "            #5/0\n",
    "            \n",
    "        # remove duplicates from control sequence\n",
    "        control = list(set(control))\n",
    "        #if control:\n",
    "        #    print('control is not empty')\n",
    "        #    print(control)\n",
    "        #    5/0\n",
    "        \n",
    "        # step simulator\n",
    "        #sim.step(control, dbeta=dp)\n",
    "        if repeat_cntr % act_repeat == 0:\n",
    "            sim.step(control, dbeta=dp)\n",
    "            control = []\n",
    "            repeat_cntr = 1\n",
    "        else:\n",
    "            repeat_cntr += 1\n",
    "                    \n",
    "        # update agent position\n",
    "        agent_pos = new_agent_pos\n",
    "        \n",
    "        # grab new state information and add to replay memory\n",
    "        isterminal = False\n",
    "        for k in range(n):\n",
    "            # generate and save image\n",
    "            next_img, _, next_hasfire = CreateImageBW(sim.state, agent_pos[k,:])\n",
    "            next_img_var = Variable(torch.from_numpy(next_img)).type(dtype)\n",
    "            next_hasfire_var = Variable(next_hasfire*torch.ones(1)).type(dtype)\n",
    "            agent_data[k]['next_img'] = next_img_var\n",
    "            agent_data[k]['next_hasfire'] = next_hasfire_var\n",
    "            \n",
    "            # find nearest neighbor and their trajectory\n",
    "            dists = [(np.linalg.norm(agent_pos[k,:]-pos,1),i) for i,pos in enumerate(agent_pos) if i != k]\n",
    "            min_idx = min(dists)[1]\n",
    "            other_img, other_img_st, other_hasfire = CreateImageBW(sim.state, agent_pos[min_idx,:])\n",
    "            other_traj, _ = heuristic_trajectory(agent_pos[min_idx,:], center, other_act_seq, other_img_st, other_hasfire, control)\n",
    "            other_traj_var = Variable(torch.from_numpy(np.asarray(other_traj).reshape((-1,)))).type(dtype)\n",
    "            agent_data[k]['next_other_traj'] = other_traj_var\n",
    "            \n",
    "            next_pos_cen_var = Variable(torch.from_numpy(agent_pos[k,:])).type(dtype) - cen_var\n",
    "            agent_data[k]['next_pos_cen'] = next_pos_cen_var\n",
    "        \n",
    "            # check for terminal state\n",
    "            if sim.end:\n",
    "                isterminal = True\n",
    "                \n",
    "            D.append((agent_data[k]['img'],agent_data[k]['other_traj'],\n",
    "                      agent_data[k]['pos_cen'],agent_data[k]['hasfire'],\n",
    "                      agent_data[k]['actions'],agent_data[k]['reward'],\n",
    "                      agent_data[k]['next_img'],agent_data[k]['next_other_traj'],\n",
    "                      agent_data[k]['next_pos_cen'],agent_data[k]['next_hasfire'],\n",
    "                      isterminal))\n",
    "                \n",
    "        # create minibatch from replay memory\n",
    "        loss = 0\n",
    "        if len(D) < batch_size or len(D) < min_exp_size:\n",
    "            continue\n",
    "\n",
    "        batch_idxs = np.random.randint(0,high=len(D),size=batch_size)\n",
    "\n",
    "        # calculate loss over batch\n",
    "        # exp indices: 0-img, 1-other_traj, 2-pos_cen, 3-hasfire, 4-actions, 5-reward, \n",
    "        #              6-next_img, 7-next_other_traj, 8-next_pos_cen, 9-next_hasfire\n",
    "        #              10-isterminal\n",
    "        for idx in batch_idxs:\n",
    "            exp = D[idx]\n",
    "            # reward clipping\n",
    "            #curr_rew = np.clip(exp[5],-5,5)\n",
    "            curr_rew = exp[5]\n",
    "            tt = Variable(curr_rew*torch.ones(1),requires_grad=False).type(dtype)\n",
    "            \n",
    "            img_var = exp[0]\n",
    "            other_traj_var = exp[1]\n",
    "            pos_cen_var = exp[2]\n",
    "            hasfire_var = exp[3]\n",
    "            actions = exp[4]\n",
    "            \n",
    "            #img_var = empty_img_var\n",
    "            #other_traj_var = empty_traj_var\n",
    "            Q = model(img_var, other_traj_var, pos_cen_var, hasfire_var)[0]\n",
    "            x = Q[torch.from_numpy(actions).type(torch.cuda.LongTensor)].diag().sum()\n",
    "            #x = Q[torch.from_numpy(actions)].diag().sum()\n",
    "            \n",
    "            isterminal = exp[10]\n",
    "            if not isterminal:\n",
    "                next_img_var = exp[6]\n",
    "                next_other_traj_var = exp[7]\n",
    "                next_pos_cen_var = exp[8]\n",
    "                next_hasfire_var = exp[9]\n",
    "\n",
    "                #next_img_var = empty_img_var\n",
    "                #next_other_traj_var = empty_traj_var\n",
    "                #Q = model(next_img_var, next_other_traj_var, next_pos_cen_var, next_hasfire_var)[0]\n",
    "                Q = target(next_img_var, next_other_traj_var, next_pos_cen_var, next_hasfire_var)[0]\n",
    "                maxQ = Q.max(dim=0)[0].sum()\n",
    "                #x += gamma*maxQ\n",
    "                tt += Variable(gamma*maxQ.data, requires_grad=False).type(dtype)\n",
    "            \n",
    "            # error clipping\n",
    "            #loss += (loss_fn(x, tt)).clamp(min=-5,max=5)\n",
    "            loss += loss_fn(x, tt)\n",
    "\n",
    "        loss /= batch_size\n",
    "\n",
    "        # update network\n",
    "        optimizer.zero_grad()\n",
    "        loss.backward()\n",
    "        # gradient clipping\n",
    "        #torch.nn.utils.clip_grad_norm(model.parameters(), 0.5) \n",
    "        #for param in model.parameters():\n",
    "        #    param.grad.data.clamp_(-1,1)\n",
    "        optimizer.step()\n",
    "        \n",
    "        # anneal exploration rate\n",
    "        if epsilon > eps_finl:\n",
    "            epsilon += -(eps_init - eps_finl) / anneal_range\n",
    "        \n",
    "        # update target network, if appropriate\n",
    "        if dqn_updt_cntr % updt_max == 0:\n",
    "            target = copy.deepcopy(model)\n",
    "            dqn_updt_cntr = 1\n",
    "        else:\n",
    "            dqn_updt_cntr += 1\n",
    "        \n",
    "        # drop from memory if too many elements\n",
    "        if len(D) > memory_size:\n",
    "            D = D[len(D)-memory_size:]\n",
    "            \n",
    "        #print(agent_pos)\n",
    "        #print()\n",
    "        #5/0\n",
    "            \n",
    "    avg_rew = ep_rew/(n*sim.iter)\n",
    "    frac_burn = sim.stats[0]/np.sum(sim.stats)\n",
    "    print(\"seed %03d - average reward: %0.2f\" %(s,avg_rew))\n",
    "    print(\"           episode stats: %s, %f\" %(sim.stats,frac_burn))\n",
    "    \n",
    "    plot_avg_rew.append(avg_rew)\n",
    "    plot_frac_burn.append(frac_burn)\n",
    "        \n",
    "toc = time.clock()\n",
    "print(\"%0.2fs = %0.2fm elapsed\" %(toc-tic,(toc-tic)/60))\n",
    "\n",
    "# fig,ax1 = plt.subplots()\n",
    "# t = len(plot_avg_rew)\n",
    "# plt.plot(range(t),plot_avg_rew,'b-')\n",
    "# ax1.set_xlabel('iteration')\n",
    "# ax1.set_ylabel('average episode reward, per agent per step')\n",
    "# ax1.tick_params('y', colors='b')\n",
    "\n",
    "# ax2 = ax1.twinx()\n",
    "# plt.plot(range(t),plot_frac_burn,'r--')\n",
    "# ax2.set_ylabel('fraction of healthy trees')\n",
    "# ax2.tick_params('y', colors='r')\n"
   ]
  },
  {
   "cell_type": "code",
   "execution_count": null,
   "metadata": {
    "collapsed": true
   },
   "outputs": [],
   "source": []
  },
  {
   "cell_type": "code",
   "execution_count": 82,
   "metadata": {
    "collapsed": false
   },
   "outputs": [
    {
     "data": {
      "image/png": "[encoded data removed]",
      "text/plain": [
       "<matplotlib.figure.Figure at 0x7f58741250f0>"
      ]
     },
     "metadata": {},
     "output_type": "display_data"
    }
   ],
   "source": [
    "fig,ax1 = plt.subplots()\n",
    "t = len(plot_avg_rew)\n",
    "plt.plot(range(t),plot_avg_rew,'b-o')\n",
    "ax1.set_xlabel('iteration')\n",
    "ax1.set_ylabel('average episode reward, per agent per step')\n",
    "ax1.tick_params('y', colors='b')\n",
    "\n",
    "ax2 = ax1.twinx()\n",
    "plt.plot(range(t),plot_frac_burn,'r--^')\n",
    "ax2.set_ylabel('fraction of healthy trees')\n",
    "ax2.tick_params('y', colors='r')"
   ]
  },
  {
   "cell_type": "code",
   "execution_count": null,
   "metadata": {
    "collapsed": true
   },
   "outputs": [],
   "source": []
  },
  {
   "cell_type": "code",
   "execution_count": 21,
   "metadata": {
    "collapsed": false
   },
   "outputs": [
    {
     "data": {
      "text/plain": [
       "Variable containing:\n",
       "-0.1491\n",
       " 0.0462\n",
       " 0.2771\n",
       " 0.2127\n",
       " 0.0667\n",
       " 0.0676\n",
       " 0.0786\n",
       "-0.0164\n",
       "-0.4556\n",
       "[torch.cuda.FloatTensor of size 9x1 (GPU 0)]"
      ]
     },
     "execution_count": 21,
     "metadata": {},
     "output_type": "execute_result"
    }
   ],
   "source": [
    "Q"
   ]
  },
  {
   "cell_type": "code",
   "execution_count": null,
   "metadata": {
    "collapsed": true
   },
   "outputs": [],
   "source": [
    "plt.figure()\n",
    "plt.xlim([0,grid_size+1])\n",
    "plt.ylim([0,grid_size+1])\n",
    "for i in range(grid_size):\n",
    "    for j in range(grid_size):\n",
    "        x = col_to_x(j)\n",
    "        y = row_to_y(grid_size,i)\n",
    "        if sim.state[i,j] == 1:\n",
    "            plt.plot(x,y,\"rs\",alpha=0.6)\n",
    "        elif sim.state[i,j] == 2:\n",
    "            plt.plot(x,y,\"ks\",alpha=0.6)"
   ]
  },
  {
   "cell_type": "code",
   "execution_count": 21,
   "metadata": {
    "collapsed": false
   },
   "outputs": [
    {
     "data": {
      "text/plain": [
       "0.2279349999984569"
      ]
     },
     "execution_count": 21,
     "metadata": {},
     "output_type": "execute_result"
    }
   ],
   "source": [
    "epsilon"
   ]
  },
  {
   "cell_type": "code",
   "execution_count": 65,
   "metadata": {
    "collapsed": false
   },
   "outputs": [
    {
     "data": {
      "text/plain": [
       "-9e-05"
      ]
     },
     "execution_count": 65,
     "metadata": {},
     "output_type": "execute_result"
    }
   ],
   "source": [
    "-(eps_init - eps_finl) / anneal_range"
   ]
  },
  {
   "cell_type": "code",
   "execution_count": null,
   "metadata": {
    "collapsed": true
   },
   "outputs": [],
   "source": []
  },
  {
   "cell_type": "markdown",
   "metadata": {},
   "source": [
    "Save network and optimizer checkpoint"
   ]
  },
  {
   "cell_type": "code",
   "execution_count": null,
   "metadata": {
    "collapsed": true
   },
   "outputs": [],
   "source": [
    "state = {\n",
    "    'state_dict': model.state_dict(),\n",
    "    'target_dict': target.state_dict(),\n",
    "    'optimizer': optimizer.state_dict(),\n",
    "    'replay': D,\n",
    "    'epsilon': epsilon,\n",
    "    'plot_reward': plot_avg_rew,\n",
    "    'plot_frac_hlthy': plot_frac_burn,\n",
    "}\n",
    "#filename = 'checkpoint.pth.tar'\n",
    "filename = 'checkpoint-' + time.strftime('%d-%b-%Y-%H:%M') + '.pth.tar'\n",
    "torch.save(state, filename)"
   ]
  },
  {
   "cell_type": "code",
   "execution_count": null,
   "metadata": {
    "collapsed": true
   },
   "outputs": [],
   "source": []
  },
  {
   "cell_type": "markdown",
   "metadata": {},
   "source": [
    "test loading of netork and optimizer checkpoint"
   ]
  },
  {
   "cell_type": "code",
   "execution_count": 48,
   "metadata": {
    "collapsed": true
   },
   "outputs": [],
   "source": [
    "checkpoint = torch.load(filename)\n",
    "test_model = eelfff_net(act_seq=other_act_seq, img_dim=img_dim).type(dtype)\n",
    "test_model.load_state_dict(checkpoint['state_dict'])\n",
    "test_target = eelfff_net(act_seq=other_act_seq, img_dim=img_dim).type(dtype)\n",
    "test_target.load_state_dict(checkpoint['target_dict'])\n",
    "test_optim = optimizer = torch.optim.Adam(test_model.parameters(), lr=1e-4)\n",
    "test_optim.load_state_dict(checkpoint['optimizer'])\n",
    "test_D = checkpoint['replay']\n",
    "test_epsilon = checkpoint['epsilon']\n",
    "test_plot_reward = checkpoint['plot_reward']\n",
    "test_plot_frac_hlthy = checkpoint['plot_frac_hlthy'] "
   ]
  },
  {
   "cell_type": "code",
   "execution_count": null,
   "metadata": {
    "collapsed": true
   },
   "outputs": [],
   "source": []
  },
  {
   "cell_type": "code",
   "execution_count": 46,
   "metadata": {
    "collapsed": false
   },
   "outputs": [
    {
     "data": {
      "text/plain": [
       "'checkpoint-01-Aug-2017-17:39.pth.tar'"
      ]
     },
     "execution_count": 46,
     "metadata": {},
     "output_type": "execute_result"
    }
   ],
   "source": [
    "'checkpoint-' + time.strftime('%d-%b-%Y-%H:%M') + '.pth.tar'"
   ]
  },
  {
   "cell_type": "code",
   "execution_count": null,
   "metadata": {
    "collapsed": true
   },
   "outputs": [],
   "source": []
  },
  {
   "cell_type": "markdown",
   "metadata": {},
   "source": [
    "## Test the network in simulation"
   ]
  },
  {
   "cell_type": "code",
   "execution_count": 38,
   "metadata": {
    "collapsed": true
   },
   "outputs": [],
   "source": [
    "num_agents = [6]\n",
    "seeds = [1]"
   ]
  },
  {
   "cell_type": "code",
   "execution_count": 68,
   "metadata": {
    "collapsed": false,
    "scrolled": false
   },
   "outputs": [
    {
     "name": "stdout",
     "output_type": "stream",
     "text": [
      "average reward: 6.08\n",
      "episode stats: [2474   24    2], 0.989600\n",
      "1.42s = 0.02m elapsed\n"
     ]
    },
    {
     "name": "stderr",
     "output_type": "stream",
     "text": [
      "/usr/local/lib/python3.5/dist-packages/matplotlib/pyplot.py:524: RuntimeWarning: More than 20 figures have been opened. Figures created through the pyplot interface (`matplotlib.pyplot.figure`) are retained until explicitly closed and may consume too much memory. (To control this warning, see the rcParam `figure.max_open_warning`).\n",
      "  max_open_warning, RuntimeWarning)\n"
     ]
    },
    {
     "data": {
      "image/png": "[encoded data removed]",
      "text/plain": [
       "<matplotlib.figure.Figure at 0x7f58ac206860>"
      ]
     },
     "metadata": {},
     "output_type": "display_data"
    },
    {
     "data": {
      "image/png": "[encoded data removed]",
      "text/plain": [
       "<matplotlib.figure.Figure at 0x7f5896c5f470>"
      ]
     },
     "metadata": {},
     "output_type": "display_data"
    },
    {
     "data": {
      "image/png": "[encoded data removed]",
      "text/plain": [
       "<matplotlib.figure.Figure at 0x7f589a60f438>"
      ]
     },
     "metadata": {},
     "output_type": "display_data"
    },
    {
     "data": {
      "image/png": "[encoded data removed]",
      "text/plain": [
       "<matplotlib.figure.Figure at 0x7f5892ded630>"
      ]
     },
     "metadata": {},
     "output_type": "display_data"
    },
    {
     "data": {
      "image/png": "[encoded data removed]",
      "text/plain": [
       "<matplotlib.figure.Figure at 0x7f58999119e8>"
      ]
     },
     "metadata": {},
     "output_type": "display_data"
    },
    {
     "data": {
      "image/png": "[encoded data removed]",
      "text/plain": [
       "<matplotlib.figure.Figure at 0x7f5897662c50>"
      ]
     },
     "metadata": {},
     "output_type": "display_data"
    },
    {
     "data": {
      "image/png": "[encoded data removed]",
      "text/plain": [
       "<matplotlib.figure.Figure at 0x7f58975f4160>"
      ]
     },
     "metadata": {},
     "output_type": "display_data"
    },
    {
     "data": {
      "image/png": "[encoded data removed]",
      "text/plain": [
       "<matplotlib.figure.Figure at 0x7f58980199b0>"
      ]
     },
     "metadata": {},
     "output_type": "display_data"
    },
    {
     "data": {
      "image/png": "[encoded data removed]",
      "text/plain": [
       "<matplotlib.figure.Figure at 0x7f5895ac3ba8>"
      ]
     },
     "metadata": {},
     "output_type": "display_data"
    },
    {
     "data": {
      "image/png": "[encoded data removed]",
      "text/plain": [
       "<matplotlib.figure.Figure at 0x7f5899d1bd68>"
      ]
     },
     "metadata": {},
     "output_type": "display_data"
    },
    {
     "data": {
      "image/png": "[encoded data removed]",
      "text/plain": [
       "<matplotlib.figure.Figure at 0x7f589922ef98>"
      ]
     },
     "metadata": {},
     "output_type": "display_data"
    },
    {
     "data": {
      "image/png": "[encoded data removed]",
      "text/plain": [
       "<matplotlib.figure.Figure at 0x7f589a1181d0>"
      ]
     },
     "metadata": {},
     "output_type": "display_data"
    },
    {
     "data": {
      "image/png": "[encoded data removed]",
      "text/plain": [
       "<matplotlib.figure.Figure at 0x7f58976ce3c8>"
      ]
     },
     "metadata": {},
     "output_type": "display_data"
    },
    {
     "data": {
      "image/png": "[encoded data removed]",
      "text/plain": [
       "<matplotlib.figure.Figure at 0x7f58c24b7978>"
      ]
     },
     "metadata": {},
     "output_type": "display_data"
    },
    {
     "data": {
      "image/png": "[encoded data removed]",
      "text/plain": [
       "<matplotlib.figure.Figure at 0x7f58acbc3780>"
      ]
     },
     "metadata": {},
     "output_type": "display_data"
    },
    {
     "data": {
      "image/png": "[encoded data removed]",
      "text/plain": [
       "<matplotlib.figure.Figure at 0x7f589bc2b2e8>"
      ]
     },
     "metadata": {},
     "output_type": "display_data"
    },
    {
     "data": {
      "image/png": "[encoded data removed]",
      "text/plain": [
       "<matplotlib.figure.Figure at 0x7f58966c42e8>"
      ]
     },
     "metadata": {},
     "output_type": "display_data"
    },
    {
     "data": {
      "image/png": "[encoded data removed]",
      "text/plain": [
       "<matplotlib.figure.Figure at 0x7f58966cc278>"
      ]
     },
     "metadata": {},
     "output_type": "display_data"
    },
    {
     "data": {
      "image/png": "[encoded data removed]",
      "text/plain": [
       "<matplotlib.figure.Figure at 0x7f58a040e860>"
      ]
     },
     "metadata": {},
     "output_type": "display_data"
    },
    {
     "data": {
      "image/png": "[encoded data removed]",
      "text/plain": [
       "<matplotlib.figure.Figure at 0x7f58ace90a58>"
      ]
     },
     "metadata": {},
     "output_type": "display_data"
    },
    {
     "data": {
      "image/png": "[encoded data removed]",
      "text/plain": [
       "<matplotlib.figure.Figure at 0x7f589bf69c50>"
      ]
     },
     "metadata": {},
     "output_type": "display_data"
    },
    {
     "data": {
      "image/png": "[encoded data removed]",
      "text/plain": [
       "<matplotlib.figure.Figure at 0x7f5898b82e48>"
      ]
     },
     "metadata": {},
     "output_type": "display_data"
    },
    {
     "data": {
      "image/png": "[encoded data removed]",
      "text/plain": [
       "<matplotlib.figure.Figure at 0x7f589915d080>"
      ]
     },
     "metadata": {},
     "output_type": "display_data"
    }
   ],
   "source": [
    "plt.close(\"all\")\n",
    "tic = time.clock()\n",
    "# run simulator many times\n",
    "for s in seeds:\n",
    "    np.random.seed(s)\n",
    "    \n",
    "    # initialize simulator\n",
    "    sim = FireSimulator(grid_size, rng=s)\n",
    "    \n",
    "    # initialize agent positions\n",
    "    n = np.squeeze(np.random.choice(num_agents, 1))\n",
    "    agent_pos = np.random.choice(spawn_loc, (n,2)) + np.random.choice(perturbs, (n,2))\n",
    "    agent_pos = agent_pos.astype(np.int32)\n",
    "    \n",
    "    ep_rew = 0\n",
    "    \n",
    "    control = []\n",
    "    repeat_cntr = 1\n",
    "        \n",
    "    # run to termination\n",
    "    #while not sim.end:\n",
    "    for _ in range(23):\n",
    "        plt.figure()\n",
    "        plt.grid()\n",
    "        plt.xlim([0,grid_size+1])\n",
    "        plt.ylim([0,grid_size+1])\n",
    "        plt.title('iteration: %d, action: %d' % (sim.iter,repeat_cntr))\n",
    "        #plt.plot(center,center,\"gx\")\n",
    "        for i in range(grid_size):\n",
    "            for j in range(grid_size):\n",
    "                x = col_to_x(j)\n",
    "                y = row_to_y(grid_size,i)\n",
    "                if sim.state[i,j] == 1:\n",
    "                    plt.plot(x,y,\"rs\",alpha=0.6)\n",
    "                elif sim.state[i,j] == 2:\n",
    "                    plt.plot(x,y,\"ks\",alpha=0.6)\n",
    "        \n",
    "        #control = []\n",
    "        new_agent_pos = np.zeros((n,2)).astype(np.int32)\n",
    "        agent_data = {}\n",
    "        #print(agent_pos)\n",
    "        \n",
    "        # generate control for each agent\n",
    "        for k in range(n):\n",
    "            # generate image\n",
    "            img, img_st, hasfire = CreateImageBW(sim.state, agent_pos[k,:])\n",
    "\n",
    "            # find nearest neighbor and their trajectory, and save it\n",
    "            dists = [(np.linalg.norm(agent_pos[k,:]-pos,1),i) for i,pos in enumerate(agent_pos) if i != k]\n",
    "            min_idx = min(dists)[1]\n",
    "            other_img, other_img_st, other_hasfire = CreateImageBW(sim.state, agent_pos[min_idx,:])\n",
    "            other_traj, _ = heuristic_trajectory(agent_pos[min_idx,:], center, other_act_seq, other_img_st, other_hasfire, control)\n",
    "            \n",
    "            # generate actions using network\n",
    "            pos_cen_var = Variable(torch.from_numpy(agent_pos[k,:])).type(dtype) - cen_var\n",
    "\n",
    "            img_var = Variable(torch.from_numpy(img)).type(dtype)\n",
    "            other_traj_var = Variable(torch.from_numpy(np.asarray(other_traj).reshape((-1,)))).type(dtype)\n",
    "            hasfire_var = Variable(hasfire*torch.ones(1)).type(dtype)\n",
    "\n",
    "            #img_var = empty_img_var\n",
    "            #other_traj_var = empty_traj_var\n",
    "            Q = model(img_var, other_traj_var, pos_cen_var, hasfire_var)[0].data.cpu().numpy()\n",
    "            #print(Q)\n",
    "            #print(\"range of Q values: %f to %f\" %(np.amin(Q),np.amax(Q)))\n",
    "            actions = np.argmax(Q,axis=0)\n",
    "            traj = actions_to_trajectory(agent_pos[k,:], actions)\n",
    "                            \n",
    "            # generate control from trajectory\n",
    "            control.extend(FindGridIntersections(sim.state, traj))\n",
    "            #if len(control) > 0:\n",
    "            #    print('control is non-empty')\n",
    "            \n",
    "            if k == 1:\n",
    "                plt.plot(traj[0][0],traj[0][1],\"mo\")\n",
    "                plt.plot(traj[-1][0],traj[-1][1],\"mx\")\n",
    "                for (x,y) in other_traj:\n",
    "                    plt.plot(x,y,\"m^\")\n",
    "            else:\n",
    "                plt.plot(traj[0][0],traj[0][1],\"bo\")\n",
    "                plt.plot(traj[-1][0],traj[-1][1],\"bx\")\n",
    "            #for (x,y) in traj:\n",
    "            #    plt.plot(x,y,\"bo\")\n",
    "                \n",
    "            #for (x,y) in other_traj:\n",
    "            #    plt.plot(x,y,\"b^\")\n",
    "            \n",
    "            # calculate and store reward for agent\n",
    "            #reward = eelfff_reward([sim.state], [traj], [hasfire], [other_traj])\n",
    "            reward = eelfff_reward(sim.state, traj, other_traj, control)\n",
    "            #print(reward)\n",
    "            ep_rew += reward\n",
    "                        \n",
    "            # store agent's new position\n",
    "            new_agent_pos[k,:] = [traj[-1][0], traj[-1][1]]\n",
    "            \n",
    "        # remove duplicates from control sequence\n",
    "        control = list(set(control))\n",
    "        #if control:\n",
    "        #    print('control is not empty')\n",
    "        #    print(control)\n",
    "        #    5/0\n",
    "        \n",
    "        # step simulator\n",
    "        #sim.step(control, dbeta=dp)\n",
    "        if repeat_cntr % act_repeat == 0:\n",
    "            #print(control)\n",
    "            sim.step(control, dbeta=dp)\n",
    "            control = []\n",
    "            repeat_cntr = 1\n",
    "        else:\n",
    "            repeat_cntr += 1\n",
    "        \n",
    "        # update agent position\n",
    "        agent_pos = new_agent_pos\n",
    "            \n",
    "    print(\"average reward: %0.2f\" %(ep_rew/(n*sim.iter)))\n",
    "    print(\"episode stats: %s, %f\" %(sim.stats,sim.stats[0]/np.sum(sim.stats)))\n",
    "        \n",
    "toc = time.clock()\n",
    "print(\"%0.2fs = %0.2fm elapsed\" %(toc-tic,(toc-tic)/60))"
   ]
  },
  {
   "cell_type": "code",
   "execution_count": null,
   "metadata": {
    "collapsed": true
   },
   "outputs": [],
   "source": []
  },
  {
   "cell_type": "code",
   "execution_count": null,
   "metadata": {
    "collapsed": true
   },
   "outputs": [],
   "source": []
  },
  {
   "cell_type": "code",
   "execution_count": null,
   "metadata": {
    "collapsed": true
   },
   "outputs": [],
   "source": [
    "Q"
   ]
  },
  {
   "cell_type": "code",
   "execution_count": null,
   "metadata": {
    "collapsed": true
   },
   "outputs": [],
   "source": []
  },
  {
   "cell_type": "code",
   "execution_count": null,
   "metadata": {
    "collapsed": true
   },
   "outputs": [],
   "source": [
    "agent_pos"
   ]
  },
  {
   "cell_type": "code",
   "execution_count": null,
   "metadata": {
    "collapsed": true
   },
   "outputs": [],
   "source": []
  },
  {
   "cell_type": "code",
   "execution_count": null,
   "metadata": {
    "collapsed": true
   },
   "outputs": [],
   "source": [
    "spawn_loc\n",
    "perturbs"
   ]
  },
  {
   "cell_type": "code",
   "execution_count": null,
   "metadata": {
    "collapsed": true
   },
   "outputs": [],
   "source": [
    "hasfire_var"
   ]
  },
  {
   "cell_type": "code",
   "execution_count": null,
   "metadata": {
    "collapsed": true
   },
   "outputs": [],
   "source": [
    "Q"
   ]
  },
  {
   "cell_type": "code",
   "execution_count": null,
   "metadata": {
    "collapsed": true
   },
   "outputs": [],
   "source": [
    "D[15]"
   ]
  },
  {
   "cell_type": "code",
   "execution_count": null,
   "metadata": {
    "collapsed": true
   },
   "outputs": [],
   "source": [
    "exp"
   ]
  },
  {
   "cell_type": "code",
   "execution_count": null,
   "metadata": {
    "collapsed": true
   },
   "outputs": [],
   "source": [
    "plt.close(\"all\")"
   ]
  },
  {
   "cell_type": "code",
   "execution_count": null,
   "metadata": {
    "collapsed": true,
    "scrolled": true
   },
   "outputs": [],
   "source": [
    "other_traj_var"
   ]
  },
  {
   "cell_type": "code",
   "execution_count": null,
   "metadata": {
    "collapsed": true
   },
   "outputs": [],
   "source": [
    "Variable(torch.from_numpy(agent_pos[0])).type(dtype) - cen_var"
   ]
  },
  {
   "cell_type": "code",
   "execution_count": null,
   "metadata": {
    "collapsed": true
   },
   "outputs": [],
   "source": [
    "next_other_traj_var"
   ]
  },
  {
   "cell_type": "code",
   "execution_count": null,
   "metadata": {
    "collapsed": true
   },
   "outputs": [],
   "source": [
    "torch.zeros(10,10)"
   ]
  },
  {
   "cell_type": "code",
   "execution_count": null,
   "metadata": {
    "collapsed": true
   },
   "outputs": [],
   "source": [
    "list(model.parameters())"
   ]
  },
  {
   "cell_type": "code",
   "execution_count": null,
   "metadata": {
    "collapsed": true
   },
   "outputs": [],
   "source": [
    "agent_pos"
   ]
  },
  {
   "cell_type": "code",
   "execution_count": null,
   "metadata": {
    "collapsed": true
   },
   "outputs": [],
   "source": [
    "traj[0]"
   ]
  },
  {
   "cell_type": "code",
   "execution_count": null,
   "metadata": {
    "collapsed": true
   },
   "outputs": [],
   "source": [
    "agent_data"
   ]
  },
  {
   "cell_type": "code",
   "execution_count": null,
   "metadata": {
    "collapsed": true
   },
   "outputs": [],
   "source": [
    "traj"
   ]
  },
  {
   "cell_type": "code",
   "execution_count": null,
   "metadata": {
    "collapsed": true
   },
   "outputs": [],
   "source": [
    "other_traj"
   ]
  },
  {
   "cell_type": "code",
   "execution_count": null,
   "metadata": {
    "collapsed": true
   },
   "outputs": [],
   "source": [
    "type(exp[5][0][1])"
   ]
  },
  {
   "cell_type": "code",
   "execution_count": null,
   "metadata": {
    "collapsed": true
   },
   "outputs": [],
   "source": [
    "D[100]"
   ]
  },
  {
   "cell_type": "code",
   "execution_count": null,
   "metadata": {
    "collapsed": true
   },
   "outputs": [],
   "source": [
    "type(np.asarray(other_traj)[0][0])"
   ]
  },
  {
   "cell_type": "code",
   "execution_count": null,
   "metadata": {
    "collapsed": true
   },
   "outputs": [],
   "source": [
    "type(np.asarray(exp[5])[0][0])"
   ]
  },
  {
   "cell_type": "code",
   "execution_count": null,
   "metadata": {
    "collapsed": true
   },
   "outputs": [],
   "source": [
    "type(exp[5][0][1])"
   ]
  },
  {
   "cell_type": "code",
   "execution_count": null,
   "metadata": {
    "collapsed": true
   },
   "outputs": [],
   "source": [
    "type(traj[0][0])"
   ]
  },
  {
   "cell_type": "code",
   "execution_count": null,
   "metadata": {
    "collapsed": true
   },
   "outputs": [],
   "source": [
    "torch.cuda.FloatTensor(traj)"
   ]
  },
  {
   "cell_type": "code",
   "execution_count": null,
   "metadata": {
    "collapsed": true
   },
   "outputs": [],
   "source": [
    "np.asarray(exp[5])"
   ]
  },
  {
   "cell_type": "code",
   "execution_count": null,
   "metadata": {
    "collapsed": true
   },
   "outputs": [],
   "source": [
    "np.asarray(other_traj).reshape((-1,))"
   ]
  },
  {
   "cell_type": "code",
   "execution_count": null,
   "metadata": {
    "collapsed": true
   },
   "outputs": [],
   "source": [
    "other_traj"
   ]
  },
  {
   "cell_type": "code",
   "execution_count": null,
   "metadata": {
    "collapsed": true
   },
   "outputs": [],
   "source": [
    "agent_pos.astype(np.int8)"
   ]
  },
  {
   "cell_type": "code",
   "execution_count": null,
   "metadata": {
    "collapsed": true
   },
   "outputs": [],
   "source": [
    "control"
   ]
  },
  {
   "cell_type": "code",
   "execution_count": null,
   "metadata": {
    "collapsed": true
   },
   "outputs": [],
   "source": [
    "exp[2]"
   ]
  },
  {
   "cell_type": "code",
   "execution_count": null,
   "metadata": {
    "collapsed": true
   },
   "outputs": [],
   "source": [
    "Q[torch.from_numpy(exp[2]).type(torch.cuda.LongTensor)]"
   ]
  },
  {
   "cell_type": "code",
   "execution_count": null,
   "metadata": {
    "collapsed": true
   },
   "outputs": [],
   "source": [
    "Q[torch.from_numpy(exp[2]).type(torch.cuda.LongTensor)].diag()"
   ]
  },
  {
   "cell_type": "code",
   "execution_count": null,
   "metadata": {
    "collapsed": true
   },
   "outputs": [],
   "source": [
    "torch.randn(2)"
   ]
  },
  {
   "cell_type": "code",
   "execution_count": null,
   "metadata": {
    "collapsed": true
   },
   "outputs": [],
   "source": [
    "traj"
   ]
  },
  {
   "cell_type": "code",
   "execution_count": null,
   "metadata": {
    "collapsed": true
   },
   "outputs": [],
   "source": [
    "np.linalg.norm([traj[0][0]-traj[1][0], traj[0][1]-traj[1][1]],1)"
   ]
  },
  {
   "cell_type": "code",
   "execution_count": null,
   "metadata": {
    "collapsed": true
   },
   "outputs": [],
   "source": [
    "center"
   ]
  }
 ],
 "metadata": {
  "kernelspec": {
   "display_name": "Python 3",
   "language": "python",
   "name": "python3"
  },
  "language_info": {
   "codemirror_mode": {
    "name": "ipython",
    "version": 3
   },
   "file_extension": ".py",
   "mimetype": "text/x-python",
   "name": "python",
   "nbconvert_exporter": "python",
   "pygments_lexer": "ipython3",
   "version": "3.5.2"
  }
 },
 "nbformat": 4,
 "nbformat_minor": 1
}
