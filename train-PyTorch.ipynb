{
 "cells": [
  {
   "cell_type": "markdown",
   "metadata": {},
   "source": [
    "## Setup"
   ]
  },
  {
   "cell_type": "code",
   "execution_count": 1,
   "metadata": {
    "collapsed": true
   },
   "outputs": [],
   "source": [
    "import torch\n",
    "import torch.nn as nn\n",
    "import torch.optim as optim\n",
    "from torch.autograd import Variable\n",
    "from torch.utils.data import DataLoader\n",
    "from torch.utils.data import sampler\n",
    "\n",
    "import torchvision.datasets as dset\n",
    "import torchvision.transforms as T\n",
    "\n",
    "import numpy as np\n",
    "\n",
    "import timeit"
   ]
  },
  {
   "cell_type": "code",
   "execution_count": 2,
   "metadata": {
    "collapsed": false
   },
   "outputs": [],
   "source": [
    "from datetime import datetime\n",
    "from FireSimulator import *\n",
    "from FireSimulatorUtilities import *\n",
    "import glob\n",
    "import itertools\n",
    "import matplotlib.patches as patches\n",
    "import matplotlib.pyplot as plt\n",
    "import os\n",
    "import pickle\n",
    "import time\n",
    "\n",
    "%matplotlib inline\n",
    "plt.rcParams['figure.figsize'] = (10.0, 8.0)\n",
    "plt.rcParams['image.interpolation'] = 'nearest'\n",
    "plt.rcParams['image.cmap'] = 'gray'\n",
    "\n",
    "%load_ext autoreload\n",
    "%autoreload 2"
   ]
  },
  {
   "cell_type": "markdown",
   "metadata": {},
   "source": [
    "## Utility functions"
   ]
  },
  {
   "cell_type": "code",
   "execution_count": 3,
   "metadata": {
    "collapsed": true
   },
   "outputs": [],
   "source": [
    "class Flatten(nn.Module):\n",
    "    def forward(self, x):\n",
    "        N, C, H, w = x.size() \n",
    "        return x.view(N, -1)"
   ]
  },
  {
   "cell_type": "code",
   "execution_count": 4,
   "metadata": {
    "collapsed": false
   },
   "outputs": [],
   "source": [
    "def heuristic_trajectory(pos, center, num_actions, img_st, isfire):\n",
    "    trajectory = []\n",
    "    trajectory.append((pos[0],pos[1]))\n",
    "    img_dim = img_st.shape[0]\n",
    "    \n",
    "    if isfire:\n",
    "        fires_r, fires_c = np.where(img_st==1)\n",
    "        neighbors = [(-1,0),(1,0),(0,1),(0,-1)]\n",
    "        fire = []\n",
    "        bdry = []\n",
    "        for r,c in zip(fires_r,fires_c):\n",
    "            counter = 0\n",
    "            for (dr,dc) in neighbors:\n",
    "                rn = r + dr\n",
    "                cn = c + dc\n",
    "                if rn>=0 and rn<img_dim and cn>=0 and cn<img_dim and img_st[rn,cn] == 0:\n",
    "                    counter += 1\n",
    "                    \n",
    "            x = col_to_x(c) - img_dim//2 + pos[0]\n",
    "            y = row_to_y(img_dim,r) - img_dim//2 + pos[1]\n",
    "            if counter >= 2:\n",
    "                bdry.append((x,y))\n",
    "            else:\n",
    "                fire.append((x,y))\n",
    "                \n",
    "        using_bdry = False\n",
    "        if len(bdry) > 0:\n",
    "            dists = [(np.abs(x-pos[0])+np.abs(y-pos[1]),(x,y)) for (x,y) in bdry]\n",
    "            using_bdry = True\n",
    "        else:\n",
    "            dists = [(np.abs(x-pos[0])+np.abs(y-pos[1]),(x,y)) for (x,y) in fire]\n",
    "            \n",
    "        target = min(dists)[1]\n",
    "        while len(trajectory) < num_actions+1:\n",
    "            loc = trajectory[-1]\n",
    "            if loc == target:\n",
    "                if using_bdry:\n",
    "                    bdry.remove(target)\n",
    "                elif len(fire) > 0:\n",
    "                    fire.remove(target)\n",
    "                    \n",
    "                using_bdry = False\n",
    "                if len(bdry) > 0:\n",
    "                    dists = [(np.abs(x-loc[0])+np.abs(y-loc[1]),(x,y)) for (x,y) in bdry]\n",
    "                    target = min(dists)[1]\n",
    "                    using_bdry = True\n",
    "                elif len(fire) > 0:\n",
    "                    dists = [(np.abs(x-loc[0])+np.abs(y-loc[1]),(x,y)) for (x,y) in fire]\n",
    "                    target = min(dists)[1]\n",
    "                else:\n",
    "                    target = trajectory[-1]\n",
    "                    \n",
    "            dists = []\n",
    "            for a in range(9):\n",
    "                new_loc = actions_to_trajectory(trajectory[-1],[a])[1]\n",
    "                dists.append((np.abs(new_loc[0]-target[0])+np.abs(new_loc[1]-target[1]),new_loc))\n",
    "                \n",
    "            trajectory.append(min(dists)[1])\n",
    "            #print(trajectory)\n",
    "        \n",
    "    else:\n",
    "        for k in range(num_actions):\n",
    "            dists = []\n",
    "            for a in range(9):\n",
    "                new_loc = actions_to_trajectory(trajectory[-1],[a])[1]\n",
    "                dists.append((np.abs(center-new_loc[0])+np.abs(center-new_loc[1]),new_loc))\n",
    "            \n",
    "            trajectory.append(min(dists)[1])\n",
    "            \n",
    "    return trajectory"
   ]
  },
  {
   "cell_type": "markdown",
   "metadata": {},
   "source": [
    "## Load data"
   ]
  },
  {
   "cell_type": "code",
   "execution_count": 5,
   "metadata": {
    "collapsed": false
   },
   "outputs": [],
   "source": [
    "# directory = os.path.join(os.getcwd(), 'data')\n",
    "\n",
    "# pattern = os.path.join(directory,'states_seed_*')\n",
    "\n",
    "# data = {}\n",
    "# k = 0\n",
    "# total_states = 0\n",
    "# for file in glob.glob(pattern):\n",
    "#     fh = open(file, 'rb')\n",
    "#     sub_data = pickle.load(fh)\n",
    "#     data[k] = sub_data\n",
    "#     fh.close()\n",
    "#     k += 1\n",
    "#     total_states += sub_data.shape[0]\n",
    "    \n",
    "# print('loaded %d sims from file' %(k))\n",
    "# print('for a total of %d states' %(total_states))"
   ]
  },
  {
   "cell_type": "markdown",
   "metadata": {},
   "source": [
    "## Network datatype [cpu/gpu]"
   ]
  },
  {
   "cell_type": "code",
   "execution_count": 6,
   "metadata": {
    "collapsed": false
   },
   "outputs": [
    {
     "data": {
      "text/plain": [
       "True"
      ]
     },
     "execution_count": 6,
     "metadata": {},
     "output_type": "execute_result"
    }
   ],
   "source": [
    "torch.cuda.is_available()"
   ]
  },
  {
   "cell_type": "code",
   "execution_count": 7,
   "metadata": {
    "collapsed": true
   },
   "outputs": [],
   "source": [
    "# dtype = torch.FloatTensor\n",
    "dtype = torch.cuda.FloatTensor"
   ]
  },
  {
   "cell_type": "markdown",
   "metadata": {},
   "source": [
    "## Build the network"
   ]
  },
  {
   "cell_type": "code",
   "execution_count": 13,
   "metadata": {
    "collapsed": false
   },
   "outputs": [],
   "source": [
    "class eelfff_net(nn.Module):\n",
    "    \"\"\"\n",
    "    network to approximate Q function\n",
    "    \"\"\"\n",
    "    def __init__(self, act_seq=4, img_dim=8):\n",
    "        self.act_seq = act_seq\n",
    "        self.img_dim = img_dim\n",
    "        self.num_poss_actions = 9\n",
    "        \n",
    "        C, H, W = 1, img_dim, img_dim\n",
    "        hidden_dim = 2048\n",
    "        \n",
    "        # conv layer settings\n",
    "        nf1 = 128; nf2 = 128\n",
    "        fs1 = 2; fs2 = 2\n",
    "        cv_s1 = 1; cv_s2 = 1\n",
    "        cv_p1 = 0; cv_p2 = 0\n",
    "        \n",
    "        # pool layer settings\n",
    "        p_sz1 = 4; p_sz2 = 2\n",
    "        p_st1 = 1; p_st2 = 1\n",
    "        \n",
    "        # calculate affine layer size\n",
    "        Hp1 = 1 + (H + 2*cv_p1 - fs1) // cv_s1\n",
    "        Wp1 = Hp1\n",
    "        Hpp1 = 1 + (Hp1 - p_sz1) // p_st1\n",
    "        Wpp1 = Hpp1\n",
    "        \n",
    "        Hp2 = 1 + (Hpp1 + 2*cv_p2 - fs2) // cv_s2\n",
    "        Wp2 = Hp2\n",
    "        Hpp2 = 1 + (Hp2 - p_sz2) // p_st2\n",
    "        Wpp2 = Hpp2\n",
    "        \n",
    "        #aff_flat_size = nf2*Hpp2*Wpp2 + 2*act_seq\n",
    "        aff_flat_size = nf1*Hpp1*Wpp1 + 2*(act_seq+1) + 2\n",
    "        \n",
    "        super(eelfff_net, self).__init__()\n",
    "        # cnn structure\n",
    "        self.cnn = nn.Sequential(\n",
    "                        nn.Conv2d(C, nf1, kernel_size=fs1, stride=cv_s1, padding=cv_p1),\n",
    "                        nn.ReLU(inplace=True),\n",
    "                        nn.MaxPool2d(p_sz1,stride=p_st1),\n",
    "                        #nn.Conv2d(nf1, nf2, kernel_size=fs2, stride=cv_s2, padding=cv_p2),\n",
    "                        #nn.ReLU(inplace=True),\n",
    "                        #nn.MaxPool2d(p_sz2,stride=p_st2),\n",
    "                        Flatten()\n",
    "                    )\n",
    "        \n",
    "        # nonlinear structure\n",
    "        self.aff = nn.Sequential(\n",
    "                        nn.Linear(aff_flat_size, hidden_dim),\n",
    "                        nn.ReLU(inplace=True),\n",
    "                        nn.Linear(hidden_dim, self.num_poss_actions*act_seq)\n",
    "                    )\n",
    "        \n",
    "    def forward(self, img, act, center):\n",
    "        img_exp = img.unsqueeze(0)\n",
    "        img_exp = img_exp.unsqueeze(0)\n",
    "        act_exp = act.unsqueeze(0)\n",
    "        cen_exp = center.unsqueeze(0)\n",
    "        feat = self.cnn(img_exp)\n",
    "        feat = torch.cat((feat, act_exp, cen_exp), dim=1)\n",
    "        Q = self.aff(feat)\n",
    "        \n",
    "        return Q.view(N,self.num_poss_actions,self.act_seq)"
   ]
  },
  {
   "cell_type": "markdown",
   "metadata": {},
   "source": [
    "test implementation of network with random data"
   ]
  },
  {
   "cell_type": "code",
   "execution_count": 14,
   "metadata": {
    "collapsed": false
   },
   "outputs": [
    {
     "name": "stdout",
     "output_type": "stream",
     "text": [
      "torch.Size([1, 9, 6])\n",
      "24.92s = 0.42m elapsed for this test\n"
     ]
    }
   ],
   "source": [
    "tic = time.clock()\n",
    "N = 1\n",
    "img_dim = 8\n",
    "act_seq = 6\n",
    "model = eelfff_net(act_seq, img_dim).type(dtype)\n",
    "\n",
    "img = torch.randn(img_dim,img_dim).type(dtype)\n",
    "act = torch.randn(2*(act_seq+1)).type(dtype)\n",
    "center = torch.randn(2).type(dtype)\n",
    "\n",
    "img_var = Variable(img)\n",
    "act_var = Variable(act)\n",
    "center_var = Variable(center)\n",
    "\n",
    "Q = model(img_var, act_var, center_var)\n",
    "toc = time.clock()\n",
    "\n",
    "print(Q.size())\n",
    "print(\"%0.2fs = %0.2fm elapsed for this test\" %(toc-tic,(toc-tic)/60))"
   ]
  },
  {
   "cell_type": "markdown",
   "metadata": {
    "collapsed": true
   },
   "source": [
    "## Define a reward function"
   ]
  },
  {
   "cell_type": "code",
   "execution_count": 15,
   "metadata": {
    "collapsed": false
   },
   "outputs": [],
   "source": [
    "def eelfff_reward(states, trajs, fire_flags, other_trajs):\n",
    "    N = len(states)\n",
    "    grid_size = states[0].shape[0]\n",
    "    center = math.ceil(grid_size/2)\n",
    "    neighbors = [(-1,0),(0,-1),(1,0),(0,1)]\n",
    "    #reward = Variable(torch.zeros(1), requires_grad=True).type(dtype)\n",
    "    reward = 0\n",
    "    \n",
    "    for n in range(N):\n",
    "        st = states[n]\n",
    "        traj = trajs[n]\n",
    "        other_traj = other_trajs[n]\n",
    "        has_fires = fire_flags[n]\n",
    "        \n",
    "        # reward for treating fires and boundary fires\n",
    "        # that weren't already treated by the agent\n",
    "        if has_fires:\n",
    "            treated = []\n",
    "            for (x,y) in traj:\n",
    "                r = y_to_row(grid_size,y)\n",
    "                c = x_to_col(x)\n",
    "\n",
    "                # reward for treating a fire\n",
    "                if r>=0 and r<grid_size and c>=0 and c<grid_size and st[r,c] == 1 and (x,y) not in treated:\n",
    "                    reward += 1\n",
    "\n",
    "                    counter = 0 \n",
    "                    for (dc,dr) in neighbors:\n",
    "                        rn = r + dr\n",
    "                        cn = c + dc\n",
    "                        if rn>=0 and rn<grid_size and cn>=0 and cn<grid_size and st[rn,cn] == 0:\n",
    "                            counter += 1\n",
    "\n",
    "                    # bonus for treating a boundary fire\n",
    "                    if counter >= 2:\n",
    "                        reward += 4\n",
    "                    #    print('treated a boundary fire')\n",
    "                    #else:\n",
    "                    #    print('treated a normal fire')\n",
    "                        \n",
    "                    treated.append((x,y))\n",
    "           \n",
    "        # reward for approaching center [if no fires in image]\n",
    "        else:\n",
    "            for k in range(len(traj)-1):\n",
    "                x1, y1 = traj[k]\n",
    "                x2, y2 = traj[k+1]\n",
    "                if np.abs(x2-center)+np.abs(y2-center) < np.abs(x1-center)+np.abs(y1-center):\n",
    "                    reward += 1.0/(len(traj)-1)\n",
    "                    #print('made it closer to the center')\n",
    "    \n",
    "        # penalty for intersecting with 'nearest agent'\n",
    "        if not set(traj).isdisjoint(other_traj):\n",
    "            reward += -2*len(set(traj).intersection(other_traj))      \n",
    "            #print('intersected with a friends path :(')\n",
    "    \n",
    "    return reward/N"
   ]
  },
  {
   "cell_type": "markdown",
   "metadata": {},
   "source": [
    "test reward function with random data"
   ]
  },
  {
   "cell_type": "code",
   "execution_count": 16,
   "metadata": {
    "collapsed": false
   },
   "outputs": [
    {
     "name": "stdout",
     "output_type": "stream",
     "text": [
      "minibatch reward: 2.83\n",
      "0.00s = 0.00m elapsed for this test\n"
     ]
    }
   ],
   "source": [
    "tic = time.clock()\n",
    "\n",
    "states = np.zeros((3,5,5)).astype(np.uint8)\n",
    "states[:,2,2] = 1\n",
    "trajs = []\n",
    "trajs.append([(5,5),(5,5),(4,4)])\n",
    "trajs.append([(3,3),(3,3),(3,3)])\n",
    "trajs.append([(5,5),(4,4),(3,3)])\n",
    "other_trajs = []\n",
    "other_trajs.append([(1,1),(1,2),(1,1)])\n",
    "other_trajs.append([(1,1),(1,2),(1,3)])\n",
    "other_trajs.append([(1,1),(2,2),(3,3)])\n",
    "fire_flags = [False, True, True]\n",
    "\n",
    "reward = eelfff_reward(states, trajs, fire_flags, other_trajs)\n",
    "print('minibatch reward: %0.2f' %reward)\n",
    "\n",
    "toc = time.clock()\n",
    "print(\"%0.2fs = %0.2fm elapsed for this test\" %(toc-tic,(toc-tic)/60))"
   ]
  },
  {
   "cell_type": "markdown",
   "metadata": {},
   "source": [
    "## Train the network"
   ]
  },
  {
   "cell_type": "code",
   "execution_count": 19,
   "metadata": {
    "collapsed": false
   },
   "outputs": [],
   "source": [
    "# simulator and network parameters\n",
    "grid_size = 50\n",
    "num_agents = [2,5,10]\n",
    "D = []\n",
    "memory_size = 1000000\n",
    "dp = 0.15/0.2763\n",
    "act_seq = 6\n",
    "img_dim = 8\n",
    "center = math.ceil(grid_size/2)\n",
    "cen_var = Variable(center*torch.ones(2)).type(dtype)\n",
    "\n",
    "# agent initialization parameters\n",
    "spawn_loc = np.arange(grid_size//3//2,grid_size,grid_size//3)\n",
    "perturbs = np.arange(-grid_size//3//2+1,grid_size//3//2+1,1)\n",
    "\n",
    "# create network instance\n",
    "model = eelfff_net(act_seq=act_seq, img_dim=img_dim).type(dtype)\n",
    "model.train()\n",
    "\n",
    "# optimizer and its parameters\n",
    "gamma = 0.9\n",
    "epsilon = 0.05\n",
    "batch_size = 32\n",
    "optimizer = torch.optim.Adam(model.parameters(), lr=1e-4, weight_decay=1e-2)\n",
    "\n",
    "# loss function\n",
    "loss_fn = torch.nn.MSELoss()"
   ]
  },
  {
   "cell_type": "code",
   "execution_count": 23,
   "metadata": {
    "collapsed": true
   },
   "outputs": [],
   "source": [
    "batch_size = 64\n",
    "seeds = range(1)"
   ]
  },
  {
   "cell_type": "code",
   "execution_count": 24,
   "metadata": {
    "collapsed": false,
    "scrolled": false
   },
   "outputs": [
    {
     "name": "stdout",
     "output_type": "stream",
     "text": [
      "average reward: 0.30\n",
      "episode stats: [  10    0 2490], 0.004000\n",
      "36.70s = 0.61m elapsed\n"
     ]
    }
   ],
   "source": [
    "tic = time.clock()\n",
    "# run simulator many times\n",
    "for s in seeds:\n",
    "    np.random.seed(s)\n",
    "    \n",
    "    # initialize simulator\n",
    "    sim = FireSimulator(grid_size, rng=s)\n",
    "    \n",
    "    # initialize agent positions\n",
    "    n = np.squeeze(np.random.choice(num_agents, 1))\n",
    "    agent_pos = np.random.choice(spawn_loc, (n,2)) + np.random.choice(perturbs, (n,2))\n",
    "    agent_pos = agent_pos.astype(np.int32)\n",
    "    \n",
    "    ep_rew = 0\n",
    "        \n",
    "    # run to termination\n",
    "    while not sim.end:\n",
    "    #for k in range(10):\n",
    "        \n",
    "        control = []\n",
    "        new_agent_pos = np.zeros((n,2)).astype(np.int32)\n",
    "        agent_data = {}\n",
    "        #print(agent_pos)\n",
    "        \n",
    "        # generate control for each agent\n",
    "        for k in range(n):\n",
    "            agent_data[k] = {}\n",
    "            \n",
    "            # generate and save image\n",
    "            img, img_st, isfire = CreateImageBW(sim.state, agent_pos[k,:])\n",
    "            agent_data[k]['img'] = img\n",
    "\n",
    "            # find nearest neighbor and their trajectory, and save it\n",
    "            dists = [(np.linalg.norm(agent_pos[k,:]-pos,1),i) for i,pos in enumerate(agent_pos) if i != k]\n",
    "            min_idx = min(dists)[1]\n",
    "            other_img, other_img_st, other_isfire = CreateImageBW(sim.state, agent_pos[min_idx,:])\n",
    "            other_traj = heuristic_trajectory(agent_pos[min_idx,:], center, act_seq, other_img_st, other_isfire)\n",
    "            agent_data[k]['other_traj'] = other_traj\n",
    "            \n",
    "            # epsilon-greedy action choice: either random or use network\n",
    "            if np.random.sample() <= epsilon:\n",
    "                actions = np.random.random_integers(0, high=8, size=(act_seq,))\n",
    "            else:\n",
    "                img_var = Variable(torch.from_numpy(img)).type(dtype)\n",
    "                other_traj_var = Variable(torch.from_numpy(np.asarray(other_traj).reshape((-1,)))).type(dtype)\n",
    "                Q = model(img_var, other_traj_var, cen_var)[0]\n",
    "                actions = np.argmax(Q.data.cpu().numpy(),axis=0)\n",
    "                \n",
    "            agent_data[k]['actions'] = actions \n",
    "            \n",
    "            # generate trajectory and generate control from trajectory\n",
    "            traj = actions_to_trajectory(agent_pos[k,:], actions)\n",
    "            control.extend(FindGridIntersections(sim.state, traj))\n",
    "            \n",
    "            # calculate and store reward for agent\n",
    "            reward = eelfff_reward([sim.state], [traj], [isfire], [other_traj])\n",
    "            agent_data[k]['reward'] = reward\n",
    "            ep_rew += reward\n",
    "                        \n",
    "            # store agent's new position\n",
    "            new_agent_pos[k,:] = [traj[-1][0], traj[-1][1]]\n",
    "            \n",
    "            #print(other_traj)\n",
    "            #print(actions)\n",
    "            #print(traj)\n",
    "            \n",
    "        # remove duplicates from control sequence\n",
    "        control = list(set(control))\n",
    "        #if control:\n",
    "        #    print('control is not empty')\n",
    "        #    print(control)\n",
    "        #    5/0\n",
    "        \n",
    "        # step simulator\n",
    "        sim.step(control, dbeta=dp)\n",
    "        \n",
    "        # update agent position\n",
    "        agent_pos = new_agent_pos\n",
    "        \n",
    "        # grab new state information and add to replay memory\n",
    "        isterminal = False\n",
    "        for k in range(n):\n",
    "            # generate and save image\n",
    "            img, img_st, isfire = CreateImageBW(sim.state, agent_pos[k,:])\n",
    "            agent_data[k]['next_img'] = img\n",
    "            \n",
    "            # find nearest neighbor and their trajectory\n",
    "            dists = [(np.linalg.norm(agent_pos[k,:]-pos,1),i) for i,pos in enumerate(agent_pos) if i != k]\n",
    "            min_idx = min(dists)[1]\n",
    "            other_img, other_img_st, other_isfire = CreateImageBW(sim.state, agent_pos[min_idx,:])\n",
    "            other_traj = heuristic_trajectory(agent_pos[min_idx,:], center, act_seq, other_img_st, other_isfire)\n",
    "            agent_data[k]['next_other_traj'] = other_traj\n",
    "        \n",
    "            # check for terminal state\n",
    "            if sim.end:\n",
    "                isterminal = True\n",
    "                \n",
    "            D.append((agent_data[k]['img'],agent_data[k]['other_traj'],agent_data[k]['actions'],\n",
    "                      agent_data[k]['reward'],agent_data[k]['next_img'],\n",
    "                      agent_data[k]['next_other_traj'],isterminal))\n",
    "                \n",
    "        # create minibatch from replay memory\n",
    "        loss = 0\n",
    "        if len(D) <= batch_size:\n",
    "            batch = D            \n",
    "        else:\n",
    "            batch = []\n",
    "            idxs = np.random.random_integers(0,high=len(D)-1,size=batch_size)\n",
    "            for k in range(batch_size):\n",
    "                batch.append(D[idxs[k]])\n",
    "\n",
    "        # calculate loss over batch\n",
    "        # exp indices: 0-img, 1-other_traj, 2-actions, 3-reward, 4-next_img, 5-next_other_traj\n",
    "        for exp in batch:\n",
    "            isterminal = exp[-1]\n",
    "            tt = Variable(exp[3]*torch.ones(1), requires_grad=False).type(dtype)\n",
    "            \n",
    "            img_var = Variable(torch.from_numpy(exp[0])).type(dtype)\n",
    "            other_traj_var = Variable(torch.from_numpy(np.asarray(exp[1]).reshape((-1,)))).type(dtype)\n",
    "            Q = model(img_var, other_traj_var, cen_var)[0]\n",
    "            x = Q[torch.from_numpy(exp[2]).type(torch.cuda.LongTensor)].diag().mean()\n",
    "            \n",
    "            if not isterminal:\n",
    "                next_img_var = Variable(torch.from_numpy(exp[4])).type(dtype)\n",
    "                next_other_traj_var = Variable(torch.from_numpy(np.asarray(exp[5]).reshape((-1,)).astype(np.int32))).type(dtype)\n",
    "\n",
    "                Q = model(next_img_var, next_other_traj_var, cen_var)[0]\n",
    "                maxQ = Q.max(dim=0)[0].mean()\n",
    "                x += gamma*maxQ\n",
    "            \n",
    "            #if isterminal:\n",
    "            #    tt = exp[3]\n",
    "            #else:\n",
    "            #    next_img_var = Variable(torch.from_numpy(exp[4])).type(dtype)\n",
    "            #    next_other_traj_var = Variable(torch.from_numpy(np.asarray(exp[5]).reshape((-1,)).astype(np.int32))).type(dtype)\n",
    "\n",
    "                #Q = model(next_img_var, next_other_traj_var)[0]\n",
    "                #maxQ = Q.max(dim=0)[0].mean()\n",
    "                #Q = model(next_img_var, next_other_traj_var)[0].data.cpu().numpy()\n",
    "                #maxQ = np.mean(np.amax(Q, axis=0))\n",
    "                #tt = exp[3] + gamma*maxQ\n",
    "\n",
    "            #tt = Variable(tt*torch.ones(1), requires_grad=False).type(dtype)\n",
    "\n",
    "            #img_var = Variable(torch.from_numpy(exp[0])).type(dtype)\n",
    "            #other_traj_var = Variable(torch.from_numpy(np.asarray(exp[1]).reshape((-1,)))).type(dtype)\n",
    "            #Q = model(img_var, other_traj_var)[0]\n",
    "            #x = Q[torch.from_numpy(exp[2]).type(torch.cuda.LongTensor)].diag().mean()\n",
    "            \n",
    "            loss += loss_fn(x,tt)\n",
    "\n",
    "        loss /= batch_size\n",
    "\n",
    "        # update network\n",
    "        optimizer.zero_grad()\n",
    "        loss.backward()\n",
    "        optimizer.step()\n",
    "\n",
    "        # drop from memory if too many elements\n",
    "        if len(D) > memory_size:\n",
    "            D = D[len(D)-memory_size:]\n",
    "            \n",
    "        #print(agent_pos)\n",
    "        #print()\n",
    "        #5/0\n",
    "            \n",
    "    print(\"average reward: %0.2f\" %(ep_rew/(n*sim.iter)))\n",
    "    print(\"episode stats: %s, %f\" %(sim.stats,sim.stats[0]/np.sum(sim.stats)))\n",
    "        \n",
    "toc = time.clock()\n",
    "print(\"%0.2fs = %0.2fm elapsed\" %(toc-tic,(toc-tic)/60))"
   ]
  },
  {
   "cell_type": "code",
   "execution_count": null,
   "metadata": {
    "collapsed": true
   },
   "outputs": [],
   "source": []
  },
  {
   "cell_type": "code",
   "execution_count": null,
   "metadata": {
    "collapsed": true
   },
   "outputs": [],
   "source": []
  },
  {
   "cell_type": "code",
   "execution_count": 22,
   "metadata": {
    "collapsed": false
   },
   "outputs": [
    {
     "data": {
      "text/plain": [
       "Variable containing:\n",
       " -6.8247  20.1575   8.8880  31.1630  37.0713  26.3245\n",
       "-23.2858 -29.1566  24.4951 -45.2419  12.9220  -4.5020\n",
       "-22.3807  13.6333   3.5209  -7.8777 -65.7601 -47.6881\n",
       " 30.7718 -18.9351  60.4584  -5.4864   8.7071   4.5670\n",
       " 20.7725 -20.1552  -5.8310  44.2544  -7.9679  25.6896\n",
       " 24.4845   3.1176  -7.3361  24.4351 -10.0821 -22.8522\n",
       " 19.4358  20.0006  -7.9166  48.3236   2.1340 -24.1157\n",
       "-22.9261 -46.3666   6.8603 -16.0953 -10.8690 -37.7651\n",
       " 53.6163  27.3654  28.5166  14.5562   9.0042  68.6231\n",
       "[torch.cuda.FloatTensor of size 9x6 (GPU 0)]"
      ]
     },
     "execution_count": 22,
     "metadata": {},
     "output_type": "execute_result"
    }
   ],
   "source": [
    "Q"
   ]
  },
  {
   "cell_type": "code",
   "execution_count": 57,
   "metadata": {
    "collapsed": false
   },
   "outputs": [
    {
     "data": {
      "text/plain": [
       "[(39, -1), (38, 0), (39, 0), (39, 0), (39, 0), (39, 1), (38, 2)]"
      ]
     },
     "execution_count": 57,
     "metadata": {},
     "output_type": "execute_result"
    }
   ],
   "source": [
    "traj"
   ]
  },
  {
   "cell_type": "code",
   "execution_count": 58,
   "metadata": {
    "collapsed": false
   },
   "outputs": [
    {
     "data": {
      "text/plain": [
       "[(38, -3), (37, -2), (36, -1), (35, 0), (34, 1), (33, 2), (32, 3)]"
      ]
     },
     "execution_count": 58,
     "metadata": {},
     "output_type": "execute_result"
    }
   ],
   "source": [
    "other_traj"
   ]
  },
  {
   "cell_type": "code",
   "execution_count": 41,
   "metadata": {
    "collapsed": false
   },
   "outputs": [
    {
     "data": {
      "text/plain": [
       "numpy.int32"
      ]
     },
     "execution_count": 41,
     "metadata": {},
     "output_type": "execute_result"
    }
   ],
   "source": [
    "type(exp[5][0][1])"
   ]
  },
  {
   "cell_type": "code",
   "execution_count": null,
   "metadata": {
    "collapsed": true
   },
   "outputs": [],
   "source": []
  },
  {
   "cell_type": "code",
   "execution_count": null,
   "metadata": {
    "collapsed": false
   },
   "outputs": [],
   "source": []
  },
  {
   "cell_type": "code",
   "execution_count": 28,
   "metadata": {
    "collapsed": false
   },
   "outputs": [
    {
     "data": {
      "text/plain": [
       "(array([[  0,   0,   0,   0, 128,   0,   0,   0],\n",
       "        [  0,   0,   0,   0,   0, 128,   0,   0],\n",
       "        [  0,   0,   0, 128,   0,   0, 128, 128],\n",
       "        [  0,   0,   0,   0,   0, 128,   0,   0],\n",
       "        [  0,   0,   0,   0,   0, 128, 128,   0],\n",
       "        [  0, 128, 128,   0,   0,   0,   0,   0],\n",
       "        [  0,   0,   0,   0,   0, 128,   0, 128],\n",
       "        [  0,   0,   0,   0,   0,   0, 128, 128]], dtype=uint8),\n",
       " [(47, 32), (46, 33), (47, 33), (48, 33), (48, 34), (49, 34), (49, 33)],\n",
       " array([4, 5, 5, 8, 7, 3]),\n",
       " 2.0,\n",
       " array([[  0,   0,   0,   0,   0, 128,   0, 128],\n",
       "        [  0,   0,   0, 128,   0,   0,   0, 128],\n",
       "        [  0,   0,   0,   0, 128,   0,   0, 128],\n",
       "        [  0,   0, 128,   0,   0, 128, 128,   0],\n",
       "        [  0,   0,   0,   0, 128,   0,   0,   0],\n",
       "        [  0,   0,   0,   0,   0, 128,   0,   0],\n",
       "        [128, 128,   0,   0,   0,   0,   0,   0],\n",
       "        [  0,   0,   0,   0, 128,   0, 128,   0]], dtype=uint8),\n",
       " [(47, 31), (46, 32), (46, 33), (47, 34), (47, 35), (48, 34), (49, 34)],\n",
       " False)"
      ]
     },
     "execution_count": 28,
     "metadata": {},
     "output_type": "execute_result"
    }
   ],
   "source": [
    "D[100]"
   ]
  },
  {
   "cell_type": "code",
   "execution_count": 87,
   "metadata": {
    "collapsed": false
   },
   "outputs": [
    {
     "data": {
      "text/plain": [
       "numpy.int64"
      ]
     },
     "execution_count": 87,
     "metadata": {},
     "output_type": "execute_result"
    }
   ],
   "source": [
    "type(np.asarray(other_traj)[0][0])"
   ]
  },
  {
   "cell_type": "code",
   "execution_count": 82,
   "metadata": {
    "collapsed": false
   },
   "outputs": [
    {
     "data": {
      "text/plain": [
       "numpy.int8"
      ]
     },
     "execution_count": 82,
     "metadata": {},
     "output_type": "execute_result"
    }
   ],
   "source": [
    "type(np.asarray(exp[5])[0][0])"
   ]
  },
  {
   "cell_type": "code",
   "execution_count": 75,
   "metadata": {
    "collapsed": false
   },
   "outputs": [
    {
     "data": {
      "text/plain": [
       "numpy.int8"
      ]
     },
     "execution_count": 75,
     "metadata": {},
     "output_type": "execute_result"
    }
   ],
   "source": [
    "type(exp[5][0][1])"
   ]
  },
  {
   "cell_type": "code",
   "execution_count": 65,
   "metadata": {
    "collapsed": false
   },
   "outputs": [
    {
     "data": {
      "text/plain": [
       "numpy.int32"
      ]
     },
     "execution_count": 65,
     "metadata": {},
     "output_type": "execute_result"
    }
   ],
   "source": [
    "type(traj[0][0])"
   ]
  },
  {
   "cell_type": "code",
   "execution_count": 64,
   "metadata": {
    "collapsed": false
   },
   "outputs": [
    {
     "ename": "RuntimeError",
     "evalue": "tried to construct a tensor from a nested float sequence, but found an item of type numpy.int32 at index (0, 0)",
     "output_type": "error",
     "traceback": [
      "\u001b[1;31m---------------------------------------------------------------------------\u001b[0m",
      "\u001b[1;31mRuntimeError\u001b[0m                              Traceback (most recent call last)",
      "\u001b[1;32m<ipython-input-64-b5f5eaf5b3bc>\u001b[0m in \u001b[0;36m<module>\u001b[1;34m()\u001b[0m\n\u001b[1;32m----> 1\u001b[1;33m \u001b[0mtorch\u001b[0m\u001b[1;33m.\u001b[0m\u001b[0mcuda\u001b[0m\u001b[1;33m.\u001b[0m\u001b[0mFloatTensor\u001b[0m\u001b[1;33m(\u001b[0m\u001b[0mtraj\u001b[0m\u001b[1;33m)\u001b[0m\u001b[1;33m\u001b[0m\u001b[0m\n\u001b[0m",
      "\u001b[1;31mRuntimeError\u001b[0m: tried to construct a tensor from a nested float sequence, but found an item of type numpy.int32 at index (0, 0)"
     ]
    }
   ],
   "source": [
    "torch.cuda.FloatTensor(traj)"
   ]
  },
  {
   "cell_type": "code",
   "execution_count": 54,
   "metadata": {
    "collapsed": false
   },
   "outputs": [
    {
     "data": {
      "text/plain": [
       "array([[15, 11],\n",
       "       [15, 11],\n",
       "       [15, 11],\n",
       "       [15, 11],\n",
       "       [15, 11],\n",
       "       [15, 11],\n",
       "       [15, 11]], dtype=int8)"
      ]
     },
     "execution_count": 54,
     "metadata": {},
     "output_type": "execute_result"
    }
   ],
   "source": [
    "np.asarray(exp[5])"
   ]
  },
  {
   "cell_type": "code",
   "execution_count": 49,
   "metadata": {
    "collapsed": false
   },
   "outputs": [
    {
     "data": {
      "text/plain": [
       "array([15, 11, 15, 11, 15, 11, 15, 11, 15, 11, 15, 11, 15, 11], dtype=int8)"
      ]
     },
     "execution_count": 49,
     "metadata": {},
     "output_type": "execute_result"
    }
   ],
   "source": [
    "np.asarray(other_traj).reshape((-1,))"
   ]
  },
  {
   "cell_type": "code",
   "execution_count": 45,
   "metadata": {
    "collapsed": false
   },
   "outputs": [
    {
     "data": {
      "text/plain": [
       "[(15, 11), (15, 11), (15, 11), (15, 11), (15, 11), (15, 11), (15, 11)]"
      ]
     },
     "execution_count": 45,
     "metadata": {},
     "output_type": "execute_result"
    }
   ],
   "source": [
    "other_traj"
   ]
  },
  {
   "cell_type": "code",
   "execution_count": 36,
   "metadata": {
    "collapsed": false
   },
   "outputs": [
    {
     "data": {
      "text/plain": [
       "array([[26, 25],\n",
       "       [ 6, 16],\n",
       "       [29,  6],\n",
       "       [32, 39],\n",
       "       [13, 20],\n",
       "       [27, 34],\n",
       "       [40, 20],\n",
       "       [ 2, 34],\n",
       "       [13,  7],\n",
       "       [ 6, 44]], dtype=int8)"
      ]
     },
     "execution_count": 36,
     "metadata": {},
     "output_type": "execute_result"
    }
   ],
   "source": [
    "agent_pos.astype(np.int8)"
   ]
  },
  {
   "cell_type": "code",
   "execution_count": 28,
   "metadata": {
    "collapsed": false
   },
   "outputs": [
    {
     "data": {
      "text/plain": [
       "[]"
      ]
     },
     "execution_count": 28,
     "metadata": {},
     "output_type": "execute_result"
    }
   ],
   "source": [
    "control"
   ]
  },
  {
   "cell_type": "code",
   "execution_count": 29,
   "metadata": {
    "collapsed": false
   },
   "outputs": [
    {
     "data": {
      "text/plain": [
       "10000"
      ]
     },
     "execution_count": 29,
     "metadata": {},
     "output_type": "execute_result"
    }
   ],
   "source": [
    "len(D)"
   ]
  },
  {
   "cell_type": "code",
   "execution_count": null,
   "metadata": {
    "collapsed": false
   },
   "outputs": [],
   "source": [
    "exp[2]"
   ]
  },
  {
   "cell_type": "code",
   "execution_count": null,
   "metadata": {
    "collapsed": false
   },
   "outputs": [],
   "source": [
    "Q[torch.from_numpy(exp[2]).type(torch.cuda.LongTensor)]"
   ]
  },
  {
   "cell_type": "code",
   "execution_count": null,
   "metadata": {
    "collapsed": false
   },
   "outputs": [],
   "source": [
    "Q[torch.from_numpy(exp[2]).type(torch.cuda.LongTensor)].diag()"
   ]
  },
  {
   "cell_type": "code",
   "execution_count": 18,
   "metadata": {
    "collapsed": false
   },
   "outputs": [
    {
     "data": {
      "text/plain": [
       "\n",
       "-0.2368\n",
       "-1.5721\n",
       "[torch.FloatTensor of size 2]"
      ]
     },
     "execution_count": 18,
     "metadata": {},
     "output_type": "execute_result"
    }
   ],
   "source": [
    "torch.randn(2)"
   ]
  }
 ],
 "metadata": {
  "kernelspec": {
   "display_name": "Python 3",
   "language": "python",
   "name": "python3"
  },
  "language_info": {
   "codemirror_mode": {
    "name": "ipython",
    "version": 3
   },
   "file_extension": ".py",
   "mimetype": "text/x-python",
   "name": "python",
   "nbconvert_exporter": "python",
   "pygments_lexer": "ipython3",
   "version": "3.5.2"
  }
 },
 "nbformat": 4,
 "nbformat_minor": 0
}
